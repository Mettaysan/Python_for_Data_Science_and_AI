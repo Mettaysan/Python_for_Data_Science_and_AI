{
  "nbformat": 4,
  "nbformat_minor": 0,
  "metadata": {
    "colab": {
      "provenance": [],
      "toc_visible": true
    },
    "kernelspec": {
      "name": "python3",
      "display_name": "Python 3"
    },
    "language_info": {
      "name": "python"
    }
  },
  "cells": [
    {
      "cell_type": "markdown",
      "source": [
        "Instructions:\n",
        "\n",
        "1. Connect to Kaggle API in the following dataset.\n",
        "\n",
        "https://www.kaggle.com/datasets/datasnaek/youtube-new?resource=download\n",
        "\n",
        "2. Study the first 30 popular YouTube vidoes in Laos and Japan each (Total of 60 videos).\n",
        "---\n",
        "\n"
      ],
      "metadata": {
        "id": "NGIzIZx1omxH"
      }
    },
    {
      "cell_type": "markdown",
      "source": [
        "Goals:\n",
        "\n",
        "1. What is the category that has the highest number of videos (the one that has been posted most frequent)?\n",
        "\n",
        "2. What is the most popular category (the one that receives the highest number of likes)?\n",
        "\n",
        "3. What is the channel that posted the most frequent?\n",
        "\n",
        "4. Which channel has got the highest number of views?\n",
        "\n",
        "5. Which channel has got the highest number of likes?\n",
        "\n",
        "---\n",
        "\n"
      ],
      "metadata": {
        "id": "WsvcD8enoNA5"
      }
    },
    {
      "cell_type": "markdown",
      "source": [
        "Steps:\n",
        "\n",
        "0. Import libraries\n",
        "\n",
        "1. Check dataset\n",
        "\n",
        "2. Data cleaning\n",
        "\n",
        "3. Analysis\n",
        "\n",
        "4. Conclusion\n",
        "\n",
        "---\n",
        "\n"
      ],
      "metadata": {
        "id": "MORTQe26oz_8"
      }
    },
    {
      "cell_type": "markdown",
      "source": [
        "# **0. Import libraries**"
      ],
      "metadata": {
        "id": "ap2eDyA1rJVI"
      }
    },
    {
      "cell_type": "code",
      "execution_count": 62,
      "metadata": {
        "id": "gsIuv49QoG5f"
      },
      "outputs": [],
      "source": [
        "import pandas as pd\n",
        "import os\n",
        "os.environ['KAGGLE_CONFIG_DIR'] = '/content/drive/MyDrive/1. Data Science/1. Trending YouTube Video Statistics '\n",
        "import pandas as pd\n",
        "import json\n",
        "import plotly.express as px\n",
        "import matplotlib.pyplot as plt\n",
        "import seaborn as sns"
      ]
    },
    {
      "cell_type": "markdown",
      "source": [
        "# **1. Check dataset**"
      ],
      "metadata": {
        "id": "SvweKF7Krddn"
      }
    },
    {
      "cell_type": "code",
      "source": [
        "# retrieve API of Trending YouTube Video Statistics data\n",
        "!kaggle datasets download -d datasnaek/youtube-new"
      ],
      "metadata": {
        "colab": {
          "base_uri": "https://localhost:8080/"
        },
        "id": "EBUuZ8KHskfd",
        "outputId": "a0df98ea-b76a-4ce8-b0e8-b5634847eccd"
      },
      "execution_count": 2,
      "outputs": [
        {
          "output_type": "stream",
          "name": "stdout",
          "text": [
            "Downloading youtube-new.zip to /content\n",
            " 95% 190M/201M [00:00<00:00, 202MB/s]\n",
            "100% 201M/201M [00:01<00:00, 202MB/s]\n"
          ]
        }
      ]
    },
    {
      "cell_type": "code",
      "source": [
        "# unzip the zip file and then remove the zip file\n",
        "!unzip youtube-new.zip && rm youtube-new.zip"
      ],
      "metadata": {
        "colab": {
          "base_uri": "https://localhost:8080/"
        },
        "id": "1pLRmtF9L2hM",
        "outputId": "000ef6ef-f0b3-418f-9e28-6eef89f13773"
      },
      "execution_count": 3,
      "outputs": [
        {
          "output_type": "stream",
          "name": "stdout",
          "text": [
            "Archive:  youtube-new.zip\n",
            "  inflating: CA_category_id.json     \n",
            "  inflating: CAvideos.csv            \n",
            "  inflating: DE_category_id.json     \n",
            "  inflating: DEvideos.csv            \n",
            "  inflating: FR_category_id.json     \n",
            "  inflating: FRvideos.csv            \n",
            "  inflating: GB_category_id.json     \n",
            "  inflating: GBvideos.csv            \n",
            "  inflating: IN_category_id.json     \n",
            "  inflating: INvideos.csv            \n",
            "  inflating: JP_category_id.json     \n",
            "  inflating: JPvideos.csv            \n",
            "  inflating: KR_category_id.json     \n",
            "  inflating: KRvideos.csv            \n",
            "  inflating: MX_category_id.json     \n",
            "  inflating: MXvideos.csv            \n",
            "  inflating: RU_category_id.json     \n",
            "  inflating: RUvideos.csv            \n",
            "  inflating: US_category_id.json     \n",
            "  inflating: USvideos.csv            \n"
          ]
        }
      ]
    },
    {
      "cell_type": "code",
      "source": [
        "# create and show the dataframe\n",
        "df = pd.read_csv('/content/CAvideos.csv')\n",
        "df.head()"
      ],
      "metadata": {
        "id": "fGNUzBYAKgEM",
        "colab": {
          "base_uri": "https://localhost:8080/",
          "height": 573
        },
        "outputId": "2b015bac-8937-43fd-fdc5-3c0583d0b3d0"
      },
      "execution_count": 4,
      "outputs": [
        {
          "output_type": "execute_result",
          "data": {
            "text/plain": [
              "      video_id trending_date  \\\n",
              "0  n1WpP7iowLc      17.14.11   \n",
              "1  0dBIkQ4Mz1M      17.14.11   \n",
              "2  5qpjK5DgCt4      17.14.11   \n",
              "3  d380meD0W0M      17.14.11   \n",
              "4  2Vv-BfVoq4g      17.14.11   \n",
              "\n",
              "                                               title channel_title  \\\n",
              "0         Eminem - Walk On Water (Audio) ft. Beyoncé    EminemVEVO   \n",
              "1                      PLUSH - Bad Unboxing Fan Mail     iDubbbzTV   \n",
              "2  Racist Superman | Rudy Mancuso, King Bach & Le...  Rudy Mancuso   \n",
              "3                           I Dare You: GOING BALD!?      nigahiga   \n",
              "4        Ed Sheeran - Perfect (Official Music Video)    Ed Sheeran   \n",
              "\n",
              "   category_id              publish_time  \\\n",
              "0           10  2017-11-10T17:00:03.000Z   \n",
              "1           23  2017-11-13T17:00:00.000Z   \n",
              "2           23  2017-11-12T19:05:24.000Z   \n",
              "3           24  2017-11-12T18:01:41.000Z   \n",
              "4           10  2017-11-09T11:04:14.000Z   \n",
              "\n",
              "                                                tags     views    likes  \\\n",
              "0  Eminem|\"Walk\"|\"On\"|\"Water\"|\"Aftermath/Shady/In...  17158579   787425   \n",
              "1  plush|\"bad unboxing\"|\"unboxing\"|\"fan mail\"|\"id...   1014651   127794   \n",
              "2  racist superman|\"rudy\"|\"mancuso\"|\"king\"|\"bach\"...   3191434   146035   \n",
              "3  ryan|\"higa\"|\"higatv\"|\"nigahiga\"|\"i dare you\"|\"...   2095828   132239   \n",
              "4  edsheeran|\"ed sheeran\"|\"acoustic\"|\"live\"|\"cove...  33523622  1634130   \n",
              "\n",
              "   dislikes  comment_count                                  thumbnail_link  \\\n",
              "0     43420         125882  https://i.ytimg.com/vi/n1WpP7iowLc/default.jpg   \n",
              "1      1688          13030  https://i.ytimg.com/vi/0dBIkQ4Mz1M/default.jpg   \n",
              "2      5339           8181  https://i.ytimg.com/vi/5qpjK5DgCt4/default.jpg   \n",
              "3      1989          17518  https://i.ytimg.com/vi/d380meD0W0M/default.jpg   \n",
              "4     21082          85067  https://i.ytimg.com/vi/2Vv-BfVoq4g/default.jpg   \n",
              "\n",
              "   comments_disabled  ratings_disabled  video_error_or_removed  \\\n",
              "0              False             False                   False   \n",
              "1              False             False                   False   \n",
              "2              False             False                   False   \n",
              "3              False             False                   False   \n",
              "4              False             False                   False   \n",
              "\n",
              "                                         description  \n",
              "0  Eminem's new track Walk on Water ft. Beyoncé i...  \n",
              "1  STill got a lot of packages. Probably will las...  \n",
              "2  WATCH MY PREVIOUS VIDEO ▶ \\n\\nSUBSCRIBE ► http...  \n",
              "3  I know it's been a while since we did this sho...  \n",
              "4  🎧: https://ad.gt/yt-perfect\\n💰: https://atlant...  "
            ],
            "text/html": [
              "\n",
              "  <div id=\"df-5958caa1-e655-4be1-9d5f-bb6315cec8f7\" class=\"colab-df-container\">\n",
              "    <div>\n",
              "<style scoped>\n",
              "    .dataframe tbody tr th:only-of-type {\n",
              "        vertical-align: middle;\n",
              "    }\n",
              "\n",
              "    .dataframe tbody tr th {\n",
              "        vertical-align: top;\n",
              "    }\n",
              "\n",
              "    .dataframe thead th {\n",
              "        text-align: right;\n",
              "    }\n",
              "</style>\n",
              "<table border=\"1\" class=\"dataframe\">\n",
              "  <thead>\n",
              "    <tr style=\"text-align: right;\">\n",
              "      <th></th>\n",
              "      <th>video_id</th>\n",
              "      <th>trending_date</th>\n",
              "      <th>title</th>\n",
              "      <th>channel_title</th>\n",
              "      <th>category_id</th>\n",
              "      <th>publish_time</th>\n",
              "      <th>tags</th>\n",
              "      <th>views</th>\n",
              "      <th>likes</th>\n",
              "      <th>dislikes</th>\n",
              "      <th>comment_count</th>\n",
              "      <th>thumbnail_link</th>\n",
              "      <th>comments_disabled</th>\n",
              "      <th>ratings_disabled</th>\n",
              "      <th>video_error_or_removed</th>\n",
              "      <th>description</th>\n",
              "    </tr>\n",
              "  </thead>\n",
              "  <tbody>\n",
              "    <tr>\n",
              "      <th>0</th>\n",
              "      <td>n1WpP7iowLc</td>\n",
              "      <td>17.14.11</td>\n",
              "      <td>Eminem - Walk On Water (Audio) ft. Beyoncé</td>\n",
              "      <td>EminemVEVO</td>\n",
              "      <td>10</td>\n",
              "      <td>2017-11-10T17:00:03.000Z</td>\n",
              "      <td>Eminem|\"Walk\"|\"On\"|\"Water\"|\"Aftermath/Shady/In...</td>\n",
              "      <td>17158579</td>\n",
              "      <td>787425</td>\n",
              "      <td>43420</td>\n",
              "      <td>125882</td>\n",
              "      <td>https://i.ytimg.com/vi/n1WpP7iowLc/default.jpg</td>\n",
              "      <td>False</td>\n",
              "      <td>False</td>\n",
              "      <td>False</td>\n",
              "      <td>Eminem's new track Walk on Water ft. Beyoncé i...</td>\n",
              "    </tr>\n",
              "    <tr>\n",
              "      <th>1</th>\n",
              "      <td>0dBIkQ4Mz1M</td>\n",
              "      <td>17.14.11</td>\n",
              "      <td>PLUSH - Bad Unboxing Fan Mail</td>\n",
              "      <td>iDubbbzTV</td>\n",
              "      <td>23</td>\n",
              "      <td>2017-11-13T17:00:00.000Z</td>\n",
              "      <td>plush|\"bad unboxing\"|\"unboxing\"|\"fan mail\"|\"id...</td>\n",
              "      <td>1014651</td>\n",
              "      <td>127794</td>\n",
              "      <td>1688</td>\n",
              "      <td>13030</td>\n",
              "      <td>https://i.ytimg.com/vi/0dBIkQ4Mz1M/default.jpg</td>\n",
              "      <td>False</td>\n",
              "      <td>False</td>\n",
              "      <td>False</td>\n",
              "      <td>STill got a lot of packages. Probably will las...</td>\n",
              "    </tr>\n",
              "    <tr>\n",
              "      <th>2</th>\n",
              "      <td>5qpjK5DgCt4</td>\n",
              "      <td>17.14.11</td>\n",
              "      <td>Racist Superman | Rudy Mancuso, King Bach &amp; Le...</td>\n",
              "      <td>Rudy Mancuso</td>\n",
              "      <td>23</td>\n",
              "      <td>2017-11-12T19:05:24.000Z</td>\n",
              "      <td>racist superman|\"rudy\"|\"mancuso\"|\"king\"|\"bach\"...</td>\n",
              "      <td>3191434</td>\n",
              "      <td>146035</td>\n",
              "      <td>5339</td>\n",
              "      <td>8181</td>\n",
              "      <td>https://i.ytimg.com/vi/5qpjK5DgCt4/default.jpg</td>\n",
              "      <td>False</td>\n",
              "      <td>False</td>\n",
              "      <td>False</td>\n",
              "      <td>WATCH MY PREVIOUS VIDEO ▶ \\n\\nSUBSCRIBE ► http...</td>\n",
              "    </tr>\n",
              "    <tr>\n",
              "      <th>3</th>\n",
              "      <td>d380meD0W0M</td>\n",
              "      <td>17.14.11</td>\n",
              "      <td>I Dare You: GOING BALD!?</td>\n",
              "      <td>nigahiga</td>\n",
              "      <td>24</td>\n",
              "      <td>2017-11-12T18:01:41.000Z</td>\n",
              "      <td>ryan|\"higa\"|\"higatv\"|\"nigahiga\"|\"i dare you\"|\"...</td>\n",
              "      <td>2095828</td>\n",
              "      <td>132239</td>\n",
              "      <td>1989</td>\n",
              "      <td>17518</td>\n",
              "      <td>https://i.ytimg.com/vi/d380meD0W0M/default.jpg</td>\n",
              "      <td>False</td>\n",
              "      <td>False</td>\n",
              "      <td>False</td>\n",
              "      <td>I know it's been a while since we did this sho...</td>\n",
              "    </tr>\n",
              "    <tr>\n",
              "      <th>4</th>\n",
              "      <td>2Vv-BfVoq4g</td>\n",
              "      <td>17.14.11</td>\n",
              "      <td>Ed Sheeran - Perfect (Official Music Video)</td>\n",
              "      <td>Ed Sheeran</td>\n",
              "      <td>10</td>\n",
              "      <td>2017-11-09T11:04:14.000Z</td>\n",
              "      <td>edsheeran|\"ed sheeran\"|\"acoustic\"|\"live\"|\"cove...</td>\n",
              "      <td>33523622</td>\n",
              "      <td>1634130</td>\n",
              "      <td>21082</td>\n",
              "      <td>85067</td>\n",
              "      <td>https://i.ytimg.com/vi/2Vv-BfVoq4g/default.jpg</td>\n",
              "      <td>False</td>\n",
              "      <td>False</td>\n",
              "      <td>False</td>\n",
              "      <td>🎧: https://ad.gt/yt-perfect\\n💰: https://atlant...</td>\n",
              "    </tr>\n",
              "  </tbody>\n",
              "</table>\n",
              "</div>\n",
              "    <div class=\"colab-df-buttons\">\n",
              "\n",
              "  <div class=\"colab-df-container\">\n",
              "    <button class=\"colab-df-convert\" onclick=\"convertToInteractive('df-5958caa1-e655-4be1-9d5f-bb6315cec8f7')\"\n",
              "            title=\"Convert this dataframe to an interactive table.\"\n",
              "            style=\"display:none;\">\n",
              "\n",
              "  <svg xmlns=\"http://www.w3.org/2000/svg\" height=\"24px\" viewBox=\"0 -960 960 960\">\n",
              "    <path d=\"M120-120v-720h720v720H120Zm60-500h600v-160H180v160Zm220 220h160v-160H400v160Zm0 220h160v-160H400v160ZM180-400h160v-160H180v160Zm440 0h160v-160H620v160ZM180-180h160v-160H180v160Zm440 0h160v-160H620v160Z\"/>\n",
              "  </svg>\n",
              "    </button>\n",
              "\n",
              "  <style>\n",
              "    .colab-df-container {\n",
              "      display:flex;\n",
              "      gap: 12px;\n",
              "    }\n",
              "\n",
              "    .colab-df-convert {\n",
              "      background-color: #E8F0FE;\n",
              "      border: none;\n",
              "      border-radius: 50%;\n",
              "      cursor: pointer;\n",
              "      display: none;\n",
              "      fill: #1967D2;\n",
              "      height: 32px;\n",
              "      padding: 0 0 0 0;\n",
              "      width: 32px;\n",
              "    }\n",
              "\n",
              "    .colab-df-convert:hover {\n",
              "      background-color: #E2EBFA;\n",
              "      box-shadow: 0px 1px 2px rgba(60, 64, 67, 0.3), 0px 1px 3px 1px rgba(60, 64, 67, 0.15);\n",
              "      fill: #174EA6;\n",
              "    }\n",
              "\n",
              "    .colab-df-buttons div {\n",
              "      margin-bottom: 4px;\n",
              "    }\n",
              "\n",
              "    [theme=dark] .colab-df-convert {\n",
              "      background-color: #3B4455;\n",
              "      fill: #D2E3FC;\n",
              "    }\n",
              "\n",
              "    [theme=dark] .colab-df-convert:hover {\n",
              "      background-color: #434B5C;\n",
              "      box-shadow: 0px 1px 3px 1px rgba(0, 0, 0, 0.15);\n",
              "      filter: drop-shadow(0px 1px 2px rgba(0, 0, 0, 0.3));\n",
              "      fill: #FFFFFF;\n",
              "    }\n",
              "  </style>\n",
              "\n",
              "    <script>\n",
              "      const buttonEl =\n",
              "        document.querySelector('#df-5958caa1-e655-4be1-9d5f-bb6315cec8f7 button.colab-df-convert');\n",
              "      buttonEl.style.display =\n",
              "        google.colab.kernel.accessAllowed ? 'block' : 'none';\n",
              "\n",
              "      async function convertToInteractive(key) {\n",
              "        const element = document.querySelector('#df-5958caa1-e655-4be1-9d5f-bb6315cec8f7');\n",
              "        const dataTable =\n",
              "          await google.colab.kernel.invokeFunction('convertToInteractive',\n",
              "                                                    [key], {});\n",
              "        if (!dataTable) return;\n",
              "\n",
              "        const docLinkHtml = 'Like what you see? Visit the ' +\n",
              "          '<a target=\"_blank\" href=https://colab.research.google.com/notebooks/data_table.ipynb>data table notebook</a>'\n",
              "          + ' to learn more about interactive tables.';\n",
              "        element.innerHTML = '';\n",
              "        dataTable['output_type'] = 'display_data';\n",
              "        await google.colab.output.renderOutput(dataTable, element);\n",
              "        const docLink = document.createElement('div');\n",
              "        docLink.innerHTML = docLinkHtml;\n",
              "        element.appendChild(docLink);\n",
              "      }\n",
              "    </script>\n",
              "  </div>\n",
              "\n",
              "\n",
              "<div id=\"df-01aff755-02a7-457a-8e57-d4a7c9c0fd02\">\n",
              "  <button class=\"colab-df-quickchart\" onclick=\"quickchart('df-01aff755-02a7-457a-8e57-d4a7c9c0fd02')\"\n",
              "            title=\"Suggest charts\"\n",
              "            style=\"display:none;\">\n",
              "\n",
              "<svg xmlns=\"http://www.w3.org/2000/svg\" height=\"24px\"viewBox=\"0 0 24 24\"\n",
              "     width=\"24px\">\n",
              "    <g>\n",
              "        <path d=\"M19 3H5c-1.1 0-2 .9-2 2v14c0 1.1.9 2 2 2h14c1.1 0 2-.9 2-2V5c0-1.1-.9-2-2-2zM9 17H7v-7h2v7zm4 0h-2V7h2v10zm4 0h-2v-4h2v4z\"/>\n",
              "    </g>\n",
              "</svg>\n",
              "  </button>\n",
              "\n",
              "<style>\n",
              "  .colab-df-quickchart {\n",
              "      --bg-color: #E8F0FE;\n",
              "      --fill-color: #1967D2;\n",
              "      --hover-bg-color: #E2EBFA;\n",
              "      --hover-fill-color: #174EA6;\n",
              "      --disabled-fill-color: #AAA;\n",
              "      --disabled-bg-color: #DDD;\n",
              "  }\n",
              "\n",
              "  [theme=dark] .colab-df-quickchart {\n",
              "      --bg-color: #3B4455;\n",
              "      --fill-color: #D2E3FC;\n",
              "      --hover-bg-color: #434B5C;\n",
              "      --hover-fill-color: #FFFFFF;\n",
              "      --disabled-bg-color: #3B4455;\n",
              "      --disabled-fill-color: #666;\n",
              "  }\n",
              "\n",
              "  .colab-df-quickchart {\n",
              "    background-color: var(--bg-color);\n",
              "    border: none;\n",
              "    border-radius: 50%;\n",
              "    cursor: pointer;\n",
              "    display: none;\n",
              "    fill: var(--fill-color);\n",
              "    height: 32px;\n",
              "    padding: 0;\n",
              "    width: 32px;\n",
              "  }\n",
              "\n",
              "  .colab-df-quickchart:hover {\n",
              "    background-color: var(--hover-bg-color);\n",
              "    box-shadow: 0 1px 2px rgba(60, 64, 67, 0.3), 0 1px 3px 1px rgba(60, 64, 67, 0.15);\n",
              "    fill: var(--button-hover-fill-color);\n",
              "  }\n",
              "\n",
              "  .colab-df-quickchart-complete:disabled,\n",
              "  .colab-df-quickchart-complete:disabled:hover {\n",
              "    background-color: var(--disabled-bg-color);\n",
              "    fill: var(--disabled-fill-color);\n",
              "    box-shadow: none;\n",
              "  }\n",
              "\n",
              "  .colab-df-spinner {\n",
              "    border: 2px solid var(--fill-color);\n",
              "    border-color: transparent;\n",
              "    border-bottom-color: var(--fill-color);\n",
              "    animation:\n",
              "      spin 1s steps(1) infinite;\n",
              "  }\n",
              "\n",
              "  @keyframes spin {\n",
              "    0% {\n",
              "      border-color: transparent;\n",
              "      border-bottom-color: var(--fill-color);\n",
              "      border-left-color: var(--fill-color);\n",
              "    }\n",
              "    20% {\n",
              "      border-color: transparent;\n",
              "      border-left-color: var(--fill-color);\n",
              "      border-top-color: var(--fill-color);\n",
              "    }\n",
              "    30% {\n",
              "      border-color: transparent;\n",
              "      border-left-color: var(--fill-color);\n",
              "      border-top-color: var(--fill-color);\n",
              "      border-right-color: var(--fill-color);\n",
              "    }\n",
              "    40% {\n",
              "      border-color: transparent;\n",
              "      border-right-color: var(--fill-color);\n",
              "      border-top-color: var(--fill-color);\n",
              "    }\n",
              "    60% {\n",
              "      border-color: transparent;\n",
              "      border-right-color: var(--fill-color);\n",
              "    }\n",
              "    80% {\n",
              "      border-color: transparent;\n",
              "      border-right-color: var(--fill-color);\n",
              "      border-bottom-color: var(--fill-color);\n",
              "    }\n",
              "    90% {\n",
              "      border-color: transparent;\n",
              "      border-bottom-color: var(--fill-color);\n",
              "    }\n",
              "  }\n",
              "</style>\n",
              "\n",
              "  <script>\n",
              "    async function quickchart(key) {\n",
              "      const quickchartButtonEl =\n",
              "        document.querySelector('#' + key + ' button');\n",
              "      quickchartButtonEl.disabled = true;  // To prevent multiple clicks.\n",
              "      quickchartButtonEl.classList.add('colab-df-spinner');\n",
              "      try {\n",
              "        const charts = await google.colab.kernel.invokeFunction(\n",
              "            'suggestCharts', [key], {});\n",
              "      } catch (error) {\n",
              "        console.error('Error during call to suggestCharts:', error);\n",
              "      }\n",
              "      quickchartButtonEl.classList.remove('colab-df-spinner');\n",
              "      quickchartButtonEl.classList.add('colab-df-quickchart-complete');\n",
              "    }\n",
              "    (() => {\n",
              "      let quickchartButtonEl =\n",
              "        document.querySelector('#df-01aff755-02a7-457a-8e57-d4a7c9c0fd02 button');\n",
              "      quickchartButtonEl.style.display =\n",
              "        google.colab.kernel.accessAllowed ? 'block' : 'none';\n",
              "    })();\n",
              "  </script>\n",
              "</div>\n",
              "    </div>\n",
              "  </div>\n"
            ]
          },
          "metadata": {},
          "execution_count": 4
        }
      ]
    },
    {
      "cell_type": "code",
      "source": [
        "# show the last 5 rows of the dataframe\n",
        "df.tail(5)"
      ],
      "metadata": {
        "colab": {
          "base_uri": "https://localhost:8080/",
          "height": 539
        },
        "id": "tH_DrMjPMqKr",
        "outputId": "9fb9ef38-d690-42e7-c468-530640b5c318"
      },
      "execution_count": 5,
      "outputs": [
        {
          "output_type": "execute_result",
          "data": {
            "text/plain": [
              "          video_id trending_date  \\\n",
              "40876  sGolxsMSGfQ      18.14.06   \n",
              "40877  8HNuRNi8t70      18.14.06   \n",
              "40878  GWlKEM3m2EE      18.14.06   \n",
              "40879  lbMKLzQ4cNQ      18.14.06   \n",
              "40880  POTgw38-m58      18.14.06   \n",
              "\n",
              "                                                   title     channel_title  \\\n",
              "40876                       HOW2: How to Solve a Mystery   Annoying Orange   \n",
              "40877                   Eli Lik Lik Episode 13 Partie 01  Elhiwar Ettounsi   \n",
              "40878  KINGDOM HEARTS III – SQUARE ENIX E3 SHOWCASE 2...    Kingdom Hearts   \n",
              "40879                   Trump Advisor Grovels To Trudeau   The Young Turks   \n",
              "40880                   【完整版】遇到恐怖情人該怎麼辦？2018.06.13小明星大跟班          我愛小明星大跟班   \n",
              "\n",
              "       category_id              publish_time  \\\n",
              "40876           24  2018-06-13T18:00:07.000Z   \n",
              "40877           24  2018-06-13T19:01:18.000Z   \n",
              "40878           20  2018-06-11T17:30:53.000Z   \n",
              "40879           25  2018-06-13T04:00:05.000Z   \n",
              "40880           24  2018-06-13T16:00:03.000Z   \n",
              "\n",
              "                                                    tags   views  likes  \\\n",
              "40876  annoying orange|\"funny\"|\"fruit\"|\"talking\"|\"ani...   80685   1701   \n",
              "40877  hkayet tounsia|\"elhiwar ettounsi\"|\"denya okhra...  103339    460   \n",
              "40878  Kingdom Hearts|\"KH3\"|\"Kingdom Hearts 3\"|\"Froze...  773347  25900   \n",
              "40879  180612__TB02SorryExcuse|\"News\"|\"Politics\"|\"The...  115225   2115   \n",
              "40880  吳宗憲|\"吳姍儒\"|\"小明星大跟班\"|\"Sandy\"|\"Jacky wu\"|\"憲哥\"|\"中天...  107392    300   \n",
              "\n",
              "       dislikes  comment_count  \\\n",
              "40876        99           1312   \n",
              "40877        66             51   \n",
              "40878       224           3881   \n",
              "40879       182           1672   \n",
              "40880        62            251   \n",
              "\n",
              "                                       thumbnail_link  comments_disabled  \\\n",
              "40876  https://i.ytimg.com/vi/sGolxsMSGfQ/default.jpg              False   \n",
              "40877  https://i.ytimg.com/vi/8HNuRNi8t70/default.jpg              False   \n",
              "40878  https://i.ytimg.com/vi/GWlKEM3m2EE/default.jpg              False   \n",
              "40879  https://i.ytimg.com/vi/lbMKLzQ4cNQ/default.jpg              False   \n",
              "40880  https://i.ytimg.com/vi/POTgw38-m58/default.jpg              False   \n",
              "\n",
              "       ratings_disabled  video_error_or_removed  \\\n",
              "40876             False                   False   \n",
              "40877             False                   False   \n",
              "40878             False                   False   \n",
              "40879             False                   False   \n",
              "40880             False                   False   \n",
              "\n",
              "                                             description  \n",
              "40876  🚨 NEW MERCH! http://amzn.to/annoyingorange 🚨➤ ...  \n",
              "40877  ► Retrouvez vos programmes préférés : https://...  \n",
              "40878  Find out more about Kingdom Hearts 3: https://...  \n",
              "40879  Peter Navarro isn’t talking so tough now. Ana ...  \n",
              "40880  藝人：李妍瑾、玉兔、班傑、LaLa、小優、少少專家：陳筱屏(律師)、Wendy(心理師)、羅...  "
            ],
            "text/html": [
              "\n",
              "  <div id=\"df-dd49ae02-13ec-46c1-81b1-2121860a1bf1\" class=\"colab-df-container\">\n",
              "    <div>\n",
              "<style scoped>\n",
              "    .dataframe tbody tr th:only-of-type {\n",
              "        vertical-align: middle;\n",
              "    }\n",
              "\n",
              "    .dataframe tbody tr th {\n",
              "        vertical-align: top;\n",
              "    }\n",
              "\n",
              "    .dataframe thead th {\n",
              "        text-align: right;\n",
              "    }\n",
              "</style>\n",
              "<table border=\"1\" class=\"dataframe\">\n",
              "  <thead>\n",
              "    <tr style=\"text-align: right;\">\n",
              "      <th></th>\n",
              "      <th>video_id</th>\n",
              "      <th>trending_date</th>\n",
              "      <th>title</th>\n",
              "      <th>channel_title</th>\n",
              "      <th>category_id</th>\n",
              "      <th>publish_time</th>\n",
              "      <th>tags</th>\n",
              "      <th>views</th>\n",
              "      <th>likes</th>\n",
              "      <th>dislikes</th>\n",
              "      <th>comment_count</th>\n",
              "      <th>thumbnail_link</th>\n",
              "      <th>comments_disabled</th>\n",
              "      <th>ratings_disabled</th>\n",
              "      <th>video_error_or_removed</th>\n",
              "      <th>description</th>\n",
              "    </tr>\n",
              "  </thead>\n",
              "  <tbody>\n",
              "    <tr>\n",
              "      <th>40876</th>\n",
              "      <td>sGolxsMSGfQ</td>\n",
              "      <td>18.14.06</td>\n",
              "      <td>HOW2: How to Solve a Mystery</td>\n",
              "      <td>Annoying Orange</td>\n",
              "      <td>24</td>\n",
              "      <td>2018-06-13T18:00:07.000Z</td>\n",
              "      <td>annoying orange|\"funny\"|\"fruit\"|\"talking\"|\"ani...</td>\n",
              "      <td>80685</td>\n",
              "      <td>1701</td>\n",
              "      <td>99</td>\n",
              "      <td>1312</td>\n",
              "      <td>https://i.ytimg.com/vi/sGolxsMSGfQ/default.jpg</td>\n",
              "      <td>False</td>\n",
              "      <td>False</td>\n",
              "      <td>False</td>\n",
              "      <td>🚨 NEW MERCH! http://amzn.to/annoyingorange 🚨➤ ...</td>\n",
              "    </tr>\n",
              "    <tr>\n",
              "      <th>40877</th>\n",
              "      <td>8HNuRNi8t70</td>\n",
              "      <td>18.14.06</td>\n",
              "      <td>Eli Lik Lik Episode 13 Partie 01</td>\n",
              "      <td>Elhiwar Ettounsi</td>\n",
              "      <td>24</td>\n",
              "      <td>2018-06-13T19:01:18.000Z</td>\n",
              "      <td>hkayet tounsia|\"elhiwar ettounsi\"|\"denya okhra...</td>\n",
              "      <td>103339</td>\n",
              "      <td>460</td>\n",
              "      <td>66</td>\n",
              "      <td>51</td>\n",
              "      <td>https://i.ytimg.com/vi/8HNuRNi8t70/default.jpg</td>\n",
              "      <td>False</td>\n",
              "      <td>False</td>\n",
              "      <td>False</td>\n",
              "      <td>► Retrouvez vos programmes préférés : https://...</td>\n",
              "    </tr>\n",
              "    <tr>\n",
              "      <th>40878</th>\n",
              "      <td>GWlKEM3m2EE</td>\n",
              "      <td>18.14.06</td>\n",
              "      <td>KINGDOM HEARTS III – SQUARE ENIX E3 SHOWCASE 2...</td>\n",
              "      <td>Kingdom Hearts</td>\n",
              "      <td>20</td>\n",
              "      <td>2018-06-11T17:30:53.000Z</td>\n",
              "      <td>Kingdom Hearts|\"KH3\"|\"Kingdom Hearts 3\"|\"Froze...</td>\n",
              "      <td>773347</td>\n",
              "      <td>25900</td>\n",
              "      <td>224</td>\n",
              "      <td>3881</td>\n",
              "      <td>https://i.ytimg.com/vi/GWlKEM3m2EE/default.jpg</td>\n",
              "      <td>False</td>\n",
              "      <td>False</td>\n",
              "      <td>False</td>\n",
              "      <td>Find out more about Kingdom Hearts 3: https://...</td>\n",
              "    </tr>\n",
              "    <tr>\n",
              "      <th>40879</th>\n",
              "      <td>lbMKLzQ4cNQ</td>\n",
              "      <td>18.14.06</td>\n",
              "      <td>Trump Advisor Grovels To Trudeau</td>\n",
              "      <td>The Young Turks</td>\n",
              "      <td>25</td>\n",
              "      <td>2018-06-13T04:00:05.000Z</td>\n",
              "      <td>180612__TB02SorryExcuse|\"News\"|\"Politics\"|\"The...</td>\n",
              "      <td>115225</td>\n",
              "      <td>2115</td>\n",
              "      <td>182</td>\n",
              "      <td>1672</td>\n",
              "      <td>https://i.ytimg.com/vi/lbMKLzQ4cNQ/default.jpg</td>\n",
              "      <td>False</td>\n",
              "      <td>False</td>\n",
              "      <td>False</td>\n",
              "      <td>Peter Navarro isn’t talking so tough now. Ana ...</td>\n",
              "    </tr>\n",
              "    <tr>\n",
              "      <th>40880</th>\n",
              "      <td>POTgw38-m58</td>\n",
              "      <td>18.14.06</td>\n",
              "      <td>【完整版】遇到恐怖情人該怎麼辦？2018.06.13小明星大跟班</td>\n",
              "      <td>我愛小明星大跟班</td>\n",
              "      <td>24</td>\n",
              "      <td>2018-06-13T16:00:03.000Z</td>\n",
              "      <td>吳宗憲|\"吳姍儒\"|\"小明星大跟班\"|\"Sandy\"|\"Jacky wu\"|\"憲哥\"|\"中天...</td>\n",
              "      <td>107392</td>\n",
              "      <td>300</td>\n",
              "      <td>62</td>\n",
              "      <td>251</td>\n",
              "      <td>https://i.ytimg.com/vi/POTgw38-m58/default.jpg</td>\n",
              "      <td>False</td>\n",
              "      <td>False</td>\n",
              "      <td>False</td>\n",
              "      <td>藝人：李妍瑾、玉兔、班傑、LaLa、小優、少少專家：陳筱屏(律師)、Wendy(心理師)、羅...</td>\n",
              "    </tr>\n",
              "  </tbody>\n",
              "</table>\n",
              "</div>\n",
              "    <div class=\"colab-df-buttons\">\n",
              "\n",
              "  <div class=\"colab-df-container\">\n",
              "    <button class=\"colab-df-convert\" onclick=\"convertToInteractive('df-dd49ae02-13ec-46c1-81b1-2121860a1bf1')\"\n",
              "            title=\"Convert this dataframe to an interactive table.\"\n",
              "            style=\"display:none;\">\n",
              "\n",
              "  <svg xmlns=\"http://www.w3.org/2000/svg\" height=\"24px\" viewBox=\"0 -960 960 960\">\n",
              "    <path d=\"M120-120v-720h720v720H120Zm60-500h600v-160H180v160Zm220 220h160v-160H400v160Zm0 220h160v-160H400v160ZM180-400h160v-160H180v160Zm440 0h160v-160H620v160ZM180-180h160v-160H180v160Zm440 0h160v-160H620v160Z\"/>\n",
              "  </svg>\n",
              "    </button>\n",
              "\n",
              "  <style>\n",
              "    .colab-df-container {\n",
              "      display:flex;\n",
              "      gap: 12px;\n",
              "    }\n",
              "\n",
              "    .colab-df-convert {\n",
              "      background-color: #E8F0FE;\n",
              "      border: none;\n",
              "      border-radius: 50%;\n",
              "      cursor: pointer;\n",
              "      display: none;\n",
              "      fill: #1967D2;\n",
              "      height: 32px;\n",
              "      padding: 0 0 0 0;\n",
              "      width: 32px;\n",
              "    }\n",
              "\n",
              "    .colab-df-convert:hover {\n",
              "      background-color: #E2EBFA;\n",
              "      box-shadow: 0px 1px 2px rgba(60, 64, 67, 0.3), 0px 1px 3px 1px rgba(60, 64, 67, 0.15);\n",
              "      fill: #174EA6;\n",
              "    }\n",
              "\n",
              "    .colab-df-buttons div {\n",
              "      margin-bottom: 4px;\n",
              "    }\n",
              "\n",
              "    [theme=dark] .colab-df-convert {\n",
              "      background-color: #3B4455;\n",
              "      fill: #D2E3FC;\n",
              "    }\n",
              "\n",
              "    [theme=dark] .colab-df-convert:hover {\n",
              "      background-color: #434B5C;\n",
              "      box-shadow: 0px 1px 3px 1px rgba(0, 0, 0, 0.15);\n",
              "      filter: drop-shadow(0px 1px 2px rgba(0, 0, 0, 0.3));\n",
              "      fill: #FFFFFF;\n",
              "    }\n",
              "  </style>\n",
              "\n",
              "    <script>\n",
              "      const buttonEl =\n",
              "        document.querySelector('#df-dd49ae02-13ec-46c1-81b1-2121860a1bf1 button.colab-df-convert');\n",
              "      buttonEl.style.display =\n",
              "        google.colab.kernel.accessAllowed ? 'block' : 'none';\n",
              "\n",
              "      async function convertToInteractive(key) {\n",
              "        const element = document.querySelector('#df-dd49ae02-13ec-46c1-81b1-2121860a1bf1');\n",
              "        const dataTable =\n",
              "          await google.colab.kernel.invokeFunction('convertToInteractive',\n",
              "                                                    [key], {});\n",
              "        if (!dataTable) return;\n",
              "\n",
              "        const docLinkHtml = 'Like what you see? Visit the ' +\n",
              "          '<a target=\"_blank\" href=https://colab.research.google.com/notebooks/data_table.ipynb>data table notebook</a>'\n",
              "          + ' to learn more about interactive tables.';\n",
              "        element.innerHTML = '';\n",
              "        dataTable['output_type'] = 'display_data';\n",
              "        await google.colab.output.renderOutput(dataTable, element);\n",
              "        const docLink = document.createElement('div');\n",
              "        docLink.innerHTML = docLinkHtml;\n",
              "        element.appendChild(docLink);\n",
              "      }\n",
              "    </script>\n",
              "  </div>\n",
              "\n",
              "\n",
              "<div id=\"df-8fb554d0-02d8-480a-8993-210b085de475\">\n",
              "  <button class=\"colab-df-quickchart\" onclick=\"quickchart('df-8fb554d0-02d8-480a-8993-210b085de475')\"\n",
              "            title=\"Suggest charts\"\n",
              "            style=\"display:none;\">\n",
              "\n",
              "<svg xmlns=\"http://www.w3.org/2000/svg\" height=\"24px\"viewBox=\"0 0 24 24\"\n",
              "     width=\"24px\">\n",
              "    <g>\n",
              "        <path d=\"M19 3H5c-1.1 0-2 .9-2 2v14c0 1.1.9 2 2 2h14c1.1 0 2-.9 2-2V5c0-1.1-.9-2-2-2zM9 17H7v-7h2v7zm4 0h-2V7h2v10zm4 0h-2v-4h2v4z\"/>\n",
              "    </g>\n",
              "</svg>\n",
              "  </button>\n",
              "\n",
              "<style>\n",
              "  .colab-df-quickchart {\n",
              "      --bg-color: #E8F0FE;\n",
              "      --fill-color: #1967D2;\n",
              "      --hover-bg-color: #E2EBFA;\n",
              "      --hover-fill-color: #174EA6;\n",
              "      --disabled-fill-color: #AAA;\n",
              "      --disabled-bg-color: #DDD;\n",
              "  }\n",
              "\n",
              "  [theme=dark] .colab-df-quickchart {\n",
              "      --bg-color: #3B4455;\n",
              "      --fill-color: #D2E3FC;\n",
              "      --hover-bg-color: #434B5C;\n",
              "      --hover-fill-color: #FFFFFF;\n",
              "      --disabled-bg-color: #3B4455;\n",
              "      --disabled-fill-color: #666;\n",
              "  }\n",
              "\n",
              "  .colab-df-quickchart {\n",
              "    background-color: var(--bg-color);\n",
              "    border: none;\n",
              "    border-radius: 50%;\n",
              "    cursor: pointer;\n",
              "    display: none;\n",
              "    fill: var(--fill-color);\n",
              "    height: 32px;\n",
              "    padding: 0;\n",
              "    width: 32px;\n",
              "  }\n",
              "\n",
              "  .colab-df-quickchart:hover {\n",
              "    background-color: var(--hover-bg-color);\n",
              "    box-shadow: 0 1px 2px rgba(60, 64, 67, 0.3), 0 1px 3px 1px rgba(60, 64, 67, 0.15);\n",
              "    fill: var(--button-hover-fill-color);\n",
              "  }\n",
              "\n",
              "  .colab-df-quickchart-complete:disabled,\n",
              "  .colab-df-quickchart-complete:disabled:hover {\n",
              "    background-color: var(--disabled-bg-color);\n",
              "    fill: var(--disabled-fill-color);\n",
              "    box-shadow: none;\n",
              "  }\n",
              "\n",
              "  .colab-df-spinner {\n",
              "    border: 2px solid var(--fill-color);\n",
              "    border-color: transparent;\n",
              "    border-bottom-color: var(--fill-color);\n",
              "    animation:\n",
              "      spin 1s steps(1) infinite;\n",
              "  }\n",
              "\n",
              "  @keyframes spin {\n",
              "    0% {\n",
              "      border-color: transparent;\n",
              "      border-bottom-color: var(--fill-color);\n",
              "      border-left-color: var(--fill-color);\n",
              "    }\n",
              "    20% {\n",
              "      border-color: transparent;\n",
              "      border-left-color: var(--fill-color);\n",
              "      border-top-color: var(--fill-color);\n",
              "    }\n",
              "    30% {\n",
              "      border-color: transparent;\n",
              "      border-left-color: var(--fill-color);\n",
              "      border-top-color: var(--fill-color);\n",
              "      border-right-color: var(--fill-color);\n",
              "    }\n",
              "    40% {\n",
              "      border-color: transparent;\n",
              "      border-right-color: var(--fill-color);\n",
              "      border-top-color: var(--fill-color);\n",
              "    }\n",
              "    60% {\n",
              "      border-color: transparent;\n",
              "      border-right-color: var(--fill-color);\n",
              "    }\n",
              "    80% {\n",
              "      border-color: transparent;\n",
              "      border-right-color: var(--fill-color);\n",
              "      border-bottom-color: var(--fill-color);\n",
              "    }\n",
              "    90% {\n",
              "      border-color: transparent;\n",
              "      border-bottom-color: var(--fill-color);\n",
              "    }\n",
              "  }\n",
              "</style>\n",
              "\n",
              "  <script>\n",
              "    async function quickchart(key) {\n",
              "      const quickchartButtonEl =\n",
              "        document.querySelector('#' + key + ' button');\n",
              "      quickchartButtonEl.disabled = true;  // To prevent multiple clicks.\n",
              "      quickchartButtonEl.classList.add('colab-df-spinner');\n",
              "      try {\n",
              "        const charts = await google.colab.kernel.invokeFunction(\n",
              "            'suggestCharts', [key], {});\n",
              "      } catch (error) {\n",
              "        console.error('Error during call to suggestCharts:', error);\n",
              "      }\n",
              "      quickchartButtonEl.classList.remove('colab-df-spinner');\n",
              "      quickchartButtonEl.classList.add('colab-df-quickchart-complete');\n",
              "    }\n",
              "    (() => {\n",
              "      let quickchartButtonEl =\n",
              "        document.querySelector('#df-8fb554d0-02d8-480a-8993-210b085de475 button');\n",
              "      quickchartButtonEl.style.display =\n",
              "        google.colab.kernel.accessAllowed ? 'block' : 'none';\n",
              "    })();\n",
              "  </script>\n",
              "</div>\n",
              "    </div>\n",
              "  </div>\n"
            ]
          },
          "metadata": {},
          "execution_count": 5
        }
      ]
    },
    {
      "cell_type": "code",
      "source": [
        "# show the dimension of the dataframe\n",
        "df.shape"
      ],
      "metadata": {
        "colab": {
          "base_uri": "https://localhost:8080/"
        },
        "id": "HRo4u-RKMqM2",
        "outputId": "c4b5cb83-1cc6-40e7-cd37-71ecae307fdb"
      },
      "execution_count": 6,
      "outputs": [
        {
          "output_type": "execute_result",
          "data": {
            "text/plain": [
              "(40881, 16)"
            ]
          },
          "metadata": {},
          "execution_count": 6
        }
      ]
    },
    {
      "cell_type": "markdown",
      "source": [
        "*There are 40,881 rows and 16 columns in the dataframe.*\n",
        "\n",
        "---\n",
        "\n"
      ],
      "metadata": {
        "id": "O9R0_5RCNXuN"
      }
    },
    {
      "cell_type": "code",
      "source": [
        "# show the non-null count and datatype of each variable\n",
        "df.info()"
      ],
      "metadata": {
        "colab": {
          "base_uri": "https://localhost:8080/"
        },
        "id": "Exr1qYqnMqPO",
        "outputId": "2209d8d8-c81a-4560-bb12-418f60fdafcd"
      },
      "execution_count": 7,
      "outputs": [
        {
          "output_type": "stream",
          "name": "stdout",
          "text": [
            "<class 'pandas.core.frame.DataFrame'>\n",
            "RangeIndex: 40881 entries, 0 to 40880\n",
            "Data columns (total 16 columns):\n",
            " #   Column                  Non-Null Count  Dtype \n",
            "---  ------                  --------------  ----- \n",
            " 0   video_id                40881 non-null  object\n",
            " 1   trending_date           40881 non-null  object\n",
            " 2   title                   40881 non-null  object\n",
            " 3   channel_title           40881 non-null  object\n",
            " 4   category_id             40881 non-null  int64 \n",
            " 5   publish_time            40881 non-null  object\n",
            " 6   tags                    40881 non-null  object\n",
            " 7   views                   40881 non-null  int64 \n",
            " 8   likes                   40881 non-null  int64 \n",
            " 9   dislikes                40881 non-null  int64 \n",
            " 10  comment_count           40881 non-null  int64 \n",
            " 11  thumbnail_link          40881 non-null  object\n",
            " 12  comments_disabled       40881 non-null  bool  \n",
            " 13  ratings_disabled        40881 non-null  bool  \n",
            " 14  video_error_or_removed  40881 non-null  bool  \n",
            " 15  description             39585 non-null  object\n",
            "dtypes: bool(3), int64(5), object(8)\n",
            "memory usage: 4.2+ MB\n"
          ]
        }
      ]
    },
    {
      "cell_type": "markdown",
      "source": [
        "*Only description variable (column 15) has null values.*\n",
        "\n",
        "---\n",
        "\n"
      ],
      "metadata": {
        "id": "Rjxcd-3ANs4n"
      }
    },
    {
      "cell_type": "markdown",
      "source": [
        "# **2. Data cleaning**"
      ],
      "metadata": {
        "id": "-S48Rqq6N7vA"
      }
    },
    {
      "cell_type": "code",
      "source": [
        "# check the null values again\n",
        "df.isnull().sum()"
      ],
      "metadata": {
        "colab": {
          "base_uri": "https://localhost:8080/"
        },
        "id": "o9Ecjqy0MqRs",
        "outputId": "71f1a589-3472-4667-e9d6-2b8fdf5656aa"
      },
      "execution_count": 8,
      "outputs": [
        {
          "output_type": "execute_result",
          "data": {
            "text/plain": [
              "video_id                     0\n",
              "trending_date                0\n",
              "title                        0\n",
              "channel_title                0\n",
              "category_id                  0\n",
              "publish_time                 0\n",
              "tags                         0\n",
              "views                        0\n",
              "likes                        0\n",
              "dislikes                     0\n",
              "comment_count                0\n",
              "thumbnail_link               0\n",
              "comments_disabled            0\n",
              "ratings_disabled             0\n",
              "video_error_or_removed       0\n",
              "description               1296\n",
              "dtype: int64"
            ]
          },
          "metadata": {},
          "execution_count": 8
        }
      ]
    },
    {
      "cell_type": "markdown",
      "source": [
        "*Description variable has 1,296 null values. So we will remove rows that have null values later. But first we will remove variables we think we will not use at this time which are video_id, thumbnail_link and description.*\n",
        "\n",
        "---\n",
        "\n"
      ],
      "metadata": {
        "id": "7Wc5bkwqOPYR"
      }
    },
    {
      "cell_type": "code",
      "source": [
        "# remove video_id variable\n",
        "df.drop(df.columns[df.columns.str.contains('video_id', case=False)], axis=1, inplace=True)"
      ],
      "metadata": {
        "id": "Rajxj6gyOOtV"
      },
      "execution_count": 9,
      "outputs": []
    },
    {
      "cell_type": "code",
      "source": [
        "# remove thumbnail_link variable\n",
        "df.drop(df.columns[df.columns.str.contains('thumbnail_link')], axis=1, inplace=True)"
      ],
      "metadata": {
        "id": "h5DAiEohOcA1"
      },
      "execution_count": 10,
      "outputs": []
    },
    {
      "cell_type": "code",
      "source": [
        "# remove description variable\n",
        "df.drop(df.columns[df.columns.str.contains('description')], axis=1, inplace=True)"
      ],
      "metadata": {
        "id": "FF0ZZ3KOOcDU"
      },
      "execution_count": 11,
      "outputs": []
    },
    {
      "cell_type": "code",
      "source": [
        "# check the columns\n",
        "df.info()"
      ],
      "metadata": {
        "colab": {
          "base_uri": "https://localhost:8080/"
        },
        "id": "Q5H4ajtUOcF7",
        "outputId": "3dbe4d6b-addd-42fa-cd25-9f3e0b795cec"
      },
      "execution_count": 12,
      "outputs": [
        {
          "output_type": "stream",
          "name": "stdout",
          "text": [
            "<class 'pandas.core.frame.DataFrame'>\n",
            "RangeIndex: 40881 entries, 0 to 40880\n",
            "Data columns (total 13 columns):\n",
            " #   Column                  Non-Null Count  Dtype \n",
            "---  ------                  --------------  ----- \n",
            " 0   trending_date           40881 non-null  object\n",
            " 1   title                   40881 non-null  object\n",
            " 2   channel_title           40881 non-null  object\n",
            " 3   category_id             40881 non-null  int64 \n",
            " 4   publish_time            40881 non-null  object\n",
            " 5   tags                    40881 non-null  object\n",
            " 6   views                   40881 non-null  int64 \n",
            " 7   likes                   40881 non-null  int64 \n",
            " 8   dislikes                40881 non-null  int64 \n",
            " 9   comment_count           40881 non-null  int64 \n",
            " 10  comments_disabled       40881 non-null  bool  \n",
            " 11  ratings_disabled        40881 non-null  bool  \n",
            " 12  video_error_or_removed  40881 non-null  bool  \n",
            "dtypes: bool(3), int64(5), object(5)\n",
            "memory usage: 3.2+ MB\n"
          ]
        }
      ]
    },
    {
      "cell_type": "markdown",
      "source": [
        "*We now have 12 variables left.*\n",
        "\n",
        "---\n",
        "\n"
      ],
      "metadata": {
        "id": "T_MKwd3WSL5_"
      }
    },
    {
      "cell_type": "code",
      "source": [
        "# check if there duplicate rows or note\n",
        "df[df.duplicated()].shape"
      ],
      "metadata": {
        "colab": {
          "base_uri": "https://localhost:8080/"
        },
        "id": "wPR4gDYHOcIB",
        "outputId": "403e68bd-019c-45c6-d9c4-5befb3357875"
      },
      "execution_count": 13,
      "outputs": [
        {
          "output_type": "execute_result",
          "data": {
            "text/plain": [
              "(0, 13)"
            ]
          },
          "metadata": {},
          "execution_count": 13
        }
      ]
    },
    {
      "cell_type": "markdown",
      "source": [
        "*There is no duplicate row becasue the row index shows 0.*\n",
        "\n",
        "---\n",
        "\n"
      ],
      "metadata": {
        "id": "_kql7w3PSk4a"
      }
    },
    {
      "cell_type": "code",
      "source": [
        "# check the null values again in the descending order\n",
        "df.isnull().sum().sort_values(ascending=False)"
      ],
      "metadata": {
        "colab": {
          "base_uri": "https://localhost:8080/"
        },
        "id": "wt_xlx5oOcKd",
        "outputId": "44e3eed9-cbef-494a-ba15-ad9a6367a03c"
      },
      "execution_count": 14,
      "outputs": [
        {
          "output_type": "execute_result",
          "data": {
            "text/plain": [
              "trending_date             0\n",
              "title                     0\n",
              "channel_title             0\n",
              "category_id               0\n",
              "publish_time              0\n",
              "tags                      0\n",
              "views                     0\n",
              "likes                     0\n",
              "dislikes                  0\n",
              "comment_count             0\n",
              "comments_disabled         0\n",
              "ratings_disabled          0\n",
              "video_error_or_removed    0\n",
              "dtype: int64"
            ]
          },
          "metadata": {},
          "execution_count": 14
        }
      ]
    },
    {
      "cell_type": "markdown",
      "source": [
        "*There is no variable that has null values.*\n",
        "\n",
        "---\n",
        "\n"
      ],
      "metadata": {
        "id": "zfMprWwATBeh"
      }
    },
    {
      "cell_type": "code",
      "source": [
        "# check the datatype\n",
        "df.info()"
      ],
      "metadata": {
        "colab": {
          "base_uri": "https://localhost:8080/"
        },
        "id": "i_172A5xSwEs",
        "outputId": "9ef17d7f-3e68-4eb1-e61f-3781c00115af"
      },
      "execution_count": 15,
      "outputs": [
        {
          "output_type": "stream",
          "name": "stdout",
          "text": [
            "<class 'pandas.core.frame.DataFrame'>\n",
            "RangeIndex: 40881 entries, 0 to 40880\n",
            "Data columns (total 13 columns):\n",
            " #   Column                  Non-Null Count  Dtype \n",
            "---  ------                  --------------  ----- \n",
            " 0   trending_date           40881 non-null  object\n",
            " 1   title                   40881 non-null  object\n",
            " 2   channel_title           40881 non-null  object\n",
            " 3   category_id             40881 non-null  int64 \n",
            " 4   publish_time            40881 non-null  object\n",
            " 5   tags                    40881 non-null  object\n",
            " 6   views                   40881 non-null  int64 \n",
            " 7   likes                   40881 non-null  int64 \n",
            " 8   dislikes                40881 non-null  int64 \n",
            " 9   comment_count           40881 non-null  int64 \n",
            " 10  comments_disabled       40881 non-null  bool  \n",
            " 11  ratings_disabled        40881 non-null  bool  \n",
            " 12  video_error_or_removed  40881 non-null  bool  \n",
            "dtypes: bool(3), int64(5), object(5)\n",
            "memory usage: 3.2+ MB\n"
          ]
        }
      ]
    },
    {
      "cell_type": "markdown",
      "source": [
        "*trending_date and publish_time variables are in object type. So let's set them to date format instead.*\n",
        "\n",
        "---\n",
        "\n"
      ],
      "metadata": {
        "id": "LZwQ6EB3UHdN"
      }
    },
    {
      "cell_type": "code",
      "source": [
        "# set datetime format for publish_time variable\n",
        "df['publish_time'] = pd.to_datetime(df['publish_time'], format='%Y-%m-%dT%H:%M:%S.%fZ')"
      ],
      "metadata": {
        "id": "X52wS9R2SwHo"
      },
      "execution_count": 16,
      "outputs": []
    },
    {
      "cell_type": "code",
      "source": [
        "# check the publish_time variable\n",
        "df['publish_time']"
      ],
      "metadata": {
        "colab": {
          "base_uri": "https://localhost:8080/"
        },
        "id": "XCo3UNR2SwJS",
        "outputId": "979a171c-53bc-4ec0-8282-c8ff3dee2e71"
      },
      "execution_count": 17,
      "outputs": [
        {
          "output_type": "execute_result",
          "data": {
            "text/plain": [
              "0       2017-11-10 17:00:03\n",
              "1       2017-11-13 17:00:00\n",
              "2       2017-11-12 19:05:24\n",
              "3       2017-11-12 18:01:41\n",
              "4       2017-11-09 11:04:14\n",
              "                ...        \n",
              "40876   2018-06-13 18:00:07\n",
              "40877   2018-06-13 19:01:18\n",
              "40878   2018-06-11 17:30:53\n",
              "40879   2018-06-13 04:00:05\n",
              "40880   2018-06-13 16:00:03\n",
              "Name: publish_time, Length: 40881, dtype: datetime64[ns]"
            ]
          },
          "metadata": {},
          "execution_count": 17
        }
      ]
    },
    {
      "cell_type": "markdown",
      "source": [
        "*The date format has been changed to our favor. But there might be some rows that do not follow the specific type of date. Let's set set the non-matching values to NaN.*\n",
        "\n",
        "---\n",
        "\n"
      ],
      "metadata": {
        "id": "0XUwbJeaVfcP"
      }
    },
    {
      "cell_type": "code",
      "source": [
        "# set non-matching values to NaN\n",
        "df['publish_time'] = pd.to_datetime(df['publish_time'], format='%Y-%m-%dT%H:%M:%S.%fZ', errors='coerce')"
      ],
      "metadata": {
        "id": "5I8bQIr6SwLA"
      },
      "execution_count": 18,
      "outputs": []
    },
    {
      "cell_type": "code",
      "source": [
        "# let's check if publish_time variable has any NaN\n",
        "df['publish_time'].isnull().sum()"
      ],
      "metadata": {
        "colab": {
          "base_uri": "https://localhost:8080/"
        },
        "id": "4Xvwxu_JMqUM",
        "outputId": "3d62016c-1f76-4bd3-8422-90f5b9734470"
      },
      "execution_count": 19,
      "outputs": [
        {
          "output_type": "execute_result",
          "data": {
            "text/plain": [
              "0"
            ]
          },
          "metadata": {},
          "execution_count": 19
        }
      ]
    },
    {
      "cell_type": "markdown",
      "source": [
        "*Number 0 means that there is no row that is NaN.*\n",
        "\n",
        "---\n",
        "\n"
      ],
      "metadata": {
        "id": "cj8xpsqCWfE4"
      }
    },
    {
      "cell_type": "code",
      "source": [
        "# set time format for trending_date variable and set the non-matching values to NaN\n",
        "df['trending_date'] = pd.to_datetime(df['trending_date'], format='%y.%d.%m', errors='coerce')"
      ],
      "metadata": {
        "id": "Rui4f0USMqXN"
      },
      "execution_count": 20,
      "outputs": []
    },
    {
      "cell_type": "code",
      "source": [
        "# check trending_date variable\n",
        "df['trending_date']"
      ],
      "metadata": {
        "colab": {
          "base_uri": "https://localhost:8080/"
        },
        "id": "_CG0KkuAXHMd",
        "outputId": "11fabd43-28d5-4b58-ef6c-b9b42aea714e"
      },
      "execution_count": 21,
      "outputs": [
        {
          "output_type": "execute_result",
          "data": {
            "text/plain": [
              "0       2017-11-14\n",
              "1       2017-11-14\n",
              "2       2017-11-14\n",
              "3       2017-11-14\n",
              "4       2017-11-14\n",
              "           ...    \n",
              "40876   2018-06-14\n",
              "40877   2018-06-14\n",
              "40878   2018-06-14\n",
              "40879   2018-06-14\n",
              "40880   2018-06-14\n",
              "Name: trending_date, Length: 40881, dtype: datetime64[ns]"
            ]
          },
          "metadata": {},
          "execution_count": 21
        }
      ]
    },
    {
      "cell_type": "code",
      "source": [
        "# check if trending_date variable has any NaN values\n",
        "df['trending_date'].isnull().sum()"
      ],
      "metadata": {
        "colab": {
          "base_uri": "https://localhost:8080/"
        },
        "id": "oYkkRkzkXHOy",
        "outputId": "7c47ce2d-ea6a-4add-fa7e-5f58a02ce246"
      },
      "execution_count": 22,
      "outputs": [
        {
          "output_type": "execute_result",
          "data": {
            "text/plain": [
              "0"
            ]
          },
          "metadata": {},
          "execution_count": 22
        }
      ]
    },
    {
      "cell_type": "markdown",
      "source": [
        "*Number 0 means that there is no row that is NaN.*\n",
        "\n",
        "\n",
        "---\n",
        "\n"
      ],
      "metadata": {
        "id": "Y-PQCfIBXtW2"
      }
    },
    {
      "cell_type": "code",
      "source": [
        "# check the dataframe again\n",
        "df.head()"
      ],
      "metadata": {
        "colab": {
          "base_uri": "https://localhost:8080/",
          "height": 573
        },
        "id": "NHBvfW7aXHRS",
        "outputId": "317a8cf2-e796-40c0-ec03-73d6e4910703"
      },
      "execution_count": 23,
      "outputs": [
        {
          "output_type": "execute_result",
          "data": {
            "text/plain": [
              "  trending_date                                              title  \\\n",
              "0    2017-11-14         Eminem - Walk On Water (Audio) ft. Beyoncé   \n",
              "1    2017-11-14                      PLUSH - Bad Unboxing Fan Mail   \n",
              "2    2017-11-14  Racist Superman | Rudy Mancuso, King Bach & Le...   \n",
              "3    2017-11-14                           I Dare You: GOING BALD!?   \n",
              "4    2017-11-14        Ed Sheeran - Perfect (Official Music Video)   \n",
              "\n",
              "  channel_title  category_id        publish_time  \\\n",
              "0    EminemVEVO           10 2017-11-10 17:00:03   \n",
              "1     iDubbbzTV           23 2017-11-13 17:00:00   \n",
              "2  Rudy Mancuso           23 2017-11-12 19:05:24   \n",
              "3      nigahiga           24 2017-11-12 18:01:41   \n",
              "4    Ed Sheeran           10 2017-11-09 11:04:14   \n",
              "\n",
              "                                                tags     views    likes  \\\n",
              "0  Eminem|\"Walk\"|\"On\"|\"Water\"|\"Aftermath/Shady/In...  17158579   787425   \n",
              "1  plush|\"bad unboxing\"|\"unboxing\"|\"fan mail\"|\"id...   1014651   127794   \n",
              "2  racist superman|\"rudy\"|\"mancuso\"|\"king\"|\"bach\"...   3191434   146035   \n",
              "3  ryan|\"higa\"|\"higatv\"|\"nigahiga\"|\"i dare you\"|\"...   2095828   132239   \n",
              "4  edsheeran|\"ed sheeran\"|\"acoustic\"|\"live\"|\"cove...  33523622  1634130   \n",
              "\n",
              "   dislikes  comment_count  comments_disabled  ratings_disabled  \\\n",
              "0     43420         125882              False             False   \n",
              "1      1688          13030              False             False   \n",
              "2      5339           8181              False             False   \n",
              "3      1989          17518              False             False   \n",
              "4     21082          85067              False             False   \n",
              "\n",
              "   video_error_or_removed  \n",
              "0                   False  \n",
              "1                   False  \n",
              "2                   False  \n",
              "3                   False  \n",
              "4                   False  "
            ],
            "text/html": [
              "\n",
              "  <div id=\"df-05ce6a4b-5741-4e97-aabe-7c729ab25b9f\" class=\"colab-df-container\">\n",
              "    <div>\n",
              "<style scoped>\n",
              "    .dataframe tbody tr th:only-of-type {\n",
              "        vertical-align: middle;\n",
              "    }\n",
              "\n",
              "    .dataframe tbody tr th {\n",
              "        vertical-align: top;\n",
              "    }\n",
              "\n",
              "    .dataframe thead th {\n",
              "        text-align: right;\n",
              "    }\n",
              "</style>\n",
              "<table border=\"1\" class=\"dataframe\">\n",
              "  <thead>\n",
              "    <tr style=\"text-align: right;\">\n",
              "      <th></th>\n",
              "      <th>trending_date</th>\n",
              "      <th>title</th>\n",
              "      <th>channel_title</th>\n",
              "      <th>category_id</th>\n",
              "      <th>publish_time</th>\n",
              "      <th>tags</th>\n",
              "      <th>views</th>\n",
              "      <th>likes</th>\n",
              "      <th>dislikes</th>\n",
              "      <th>comment_count</th>\n",
              "      <th>comments_disabled</th>\n",
              "      <th>ratings_disabled</th>\n",
              "      <th>video_error_or_removed</th>\n",
              "    </tr>\n",
              "  </thead>\n",
              "  <tbody>\n",
              "    <tr>\n",
              "      <th>0</th>\n",
              "      <td>2017-11-14</td>\n",
              "      <td>Eminem - Walk On Water (Audio) ft. Beyoncé</td>\n",
              "      <td>EminemVEVO</td>\n",
              "      <td>10</td>\n",
              "      <td>2017-11-10 17:00:03</td>\n",
              "      <td>Eminem|\"Walk\"|\"On\"|\"Water\"|\"Aftermath/Shady/In...</td>\n",
              "      <td>17158579</td>\n",
              "      <td>787425</td>\n",
              "      <td>43420</td>\n",
              "      <td>125882</td>\n",
              "      <td>False</td>\n",
              "      <td>False</td>\n",
              "      <td>False</td>\n",
              "    </tr>\n",
              "    <tr>\n",
              "      <th>1</th>\n",
              "      <td>2017-11-14</td>\n",
              "      <td>PLUSH - Bad Unboxing Fan Mail</td>\n",
              "      <td>iDubbbzTV</td>\n",
              "      <td>23</td>\n",
              "      <td>2017-11-13 17:00:00</td>\n",
              "      <td>plush|\"bad unboxing\"|\"unboxing\"|\"fan mail\"|\"id...</td>\n",
              "      <td>1014651</td>\n",
              "      <td>127794</td>\n",
              "      <td>1688</td>\n",
              "      <td>13030</td>\n",
              "      <td>False</td>\n",
              "      <td>False</td>\n",
              "      <td>False</td>\n",
              "    </tr>\n",
              "    <tr>\n",
              "      <th>2</th>\n",
              "      <td>2017-11-14</td>\n",
              "      <td>Racist Superman | Rudy Mancuso, King Bach &amp; Le...</td>\n",
              "      <td>Rudy Mancuso</td>\n",
              "      <td>23</td>\n",
              "      <td>2017-11-12 19:05:24</td>\n",
              "      <td>racist superman|\"rudy\"|\"mancuso\"|\"king\"|\"bach\"...</td>\n",
              "      <td>3191434</td>\n",
              "      <td>146035</td>\n",
              "      <td>5339</td>\n",
              "      <td>8181</td>\n",
              "      <td>False</td>\n",
              "      <td>False</td>\n",
              "      <td>False</td>\n",
              "    </tr>\n",
              "    <tr>\n",
              "      <th>3</th>\n",
              "      <td>2017-11-14</td>\n",
              "      <td>I Dare You: GOING BALD!?</td>\n",
              "      <td>nigahiga</td>\n",
              "      <td>24</td>\n",
              "      <td>2017-11-12 18:01:41</td>\n",
              "      <td>ryan|\"higa\"|\"higatv\"|\"nigahiga\"|\"i dare you\"|\"...</td>\n",
              "      <td>2095828</td>\n",
              "      <td>132239</td>\n",
              "      <td>1989</td>\n",
              "      <td>17518</td>\n",
              "      <td>False</td>\n",
              "      <td>False</td>\n",
              "      <td>False</td>\n",
              "    </tr>\n",
              "    <tr>\n",
              "      <th>4</th>\n",
              "      <td>2017-11-14</td>\n",
              "      <td>Ed Sheeran - Perfect (Official Music Video)</td>\n",
              "      <td>Ed Sheeran</td>\n",
              "      <td>10</td>\n",
              "      <td>2017-11-09 11:04:14</td>\n",
              "      <td>edsheeran|\"ed sheeran\"|\"acoustic\"|\"live\"|\"cove...</td>\n",
              "      <td>33523622</td>\n",
              "      <td>1634130</td>\n",
              "      <td>21082</td>\n",
              "      <td>85067</td>\n",
              "      <td>False</td>\n",
              "      <td>False</td>\n",
              "      <td>False</td>\n",
              "    </tr>\n",
              "  </tbody>\n",
              "</table>\n",
              "</div>\n",
              "    <div class=\"colab-df-buttons\">\n",
              "\n",
              "  <div class=\"colab-df-container\">\n",
              "    <button class=\"colab-df-convert\" onclick=\"convertToInteractive('df-05ce6a4b-5741-4e97-aabe-7c729ab25b9f')\"\n",
              "            title=\"Convert this dataframe to an interactive table.\"\n",
              "            style=\"display:none;\">\n",
              "\n",
              "  <svg xmlns=\"http://www.w3.org/2000/svg\" height=\"24px\" viewBox=\"0 -960 960 960\">\n",
              "    <path d=\"M120-120v-720h720v720H120Zm60-500h600v-160H180v160Zm220 220h160v-160H400v160Zm0 220h160v-160H400v160ZM180-400h160v-160H180v160Zm440 0h160v-160H620v160ZM180-180h160v-160H180v160Zm440 0h160v-160H620v160Z\"/>\n",
              "  </svg>\n",
              "    </button>\n",
              "\n",
              "  <style>\n",
              "    .colab-df-container {\n",
              "      display:flex;\n",
              "      gap: 12px;\n",
              "    }\n",
              "\n",
              "    .colab-df-convert {\n",
              "      background-color: #E8F0FE;\n",
              "      border: none;\n",
              "      border-radius: 50%;\n",
              "      cursor: pointer;\n",
              "      display: none;\n",
              "      fill: #1967D2;\n",
              "      height: 32px;\n",
              "      padding: 0 0 0 0;\n",
              "      width: 32px;\n",
              "    }\n",
              "\n",
              "    .colab-df-convert:hover {\n",
              "      background-color: #E2EBFA;\n",
              "      box-shadow: 0px 1px 2px rgba(60, 64, 67, 0.3), 0px 1px 3px 1px rgba(60, 64, 67, 0.15);\n",
              "      fill: #174EA6;\n",
              "    }\n",
              "\n",
              "    .colab-df-buttons div {\n",
              "      margin-bottom: 4px;\n",
              "    }\n",
              "\n",
              "    [theme=dark] .colab-df-convert {\n",
              "      background-color: #3B4455;\n",
              "      fill: #D2E3FC;\n",
              "    }\n",
              "\n",
              "    [theme=dark] .colab-df-convert:hover {\n",
              "      background-color: #434B5C;\n",
              "      box-shadow: 0px 1px 3px 1px rgba(0, 0, 0, 0.15);\n",
              "      filter: drop-shadow(0px 1px 2px rgba(0, 0, 0, 0.3));\n",
              "      fill: #FFFFFF;\n",
              "    }\n",
              "  </style>\n",
              "\n",
              "    <script>\n",
              "      const buttonEl =\n",
              "        document.querySelector('#df-05ce6a4b-5741-4e97-aabe-7c729ab25b9f button.colab-df-convert');\n",
              "      buttonEl.style.display =\n",
              "        google.colab.kernel.accessAllowed ? 'block' : 'none';\n",
              "\n",
              "      async function convertToInteractive(key) {\n",
              "        const element = document.querySelector('#df-05ce6a4b-5741-4e97-aabe-7c729ab25b9f');\n",
              "        const dataTable =\n",
              "          await google.colab.kernel.invokeFunction('convertToInteractive',\n",
              "                                                    [key], {});\n",
              "        if (!dataTable) return;\n",
              "\n",
              "        const docLinkHtml = 'Like what you see? Visit the ' +\n",
              "          '<a target=\"_blank\" href=https://colab.research.google.com/notebooks/data_table.ipynb>data table notebook</a>'\n",
              "          + ' to learn more about interactive tables.';\n",
              "        element.innerHTML = '';\n",
              "        dataTable['output_type'] = 'display_data';\n",
              "        await google.colab.output.renderOutput(dataTable, element);\n",
              "        const docLink = document.createElement('div');\n",
              "        docLink.innerHTML = docLinkHtml;\n",
              "        element.appendChild(docLink);\n",
              "      }\n",
              "    </script>\n",
              "  </div>\n",
              "\n",
              "\n",
              "<div id=\"df-ca1f443e-6638-4bb6-bf81-c760c294843e\">\n",
              "  <button class=\"colab-df-quickchart\" onclick=\"quickchart('df-ca1f443e-6638-4bb6-bf81-c760c294843e')\"\n",
              "            title=\"Suggest charts\"\n",
              "            style=\"display:none;\">\n",
              "\n",
              "<svg xmlns=\"http://www.w3.org/2000/svg\" height=\"24px\"viewBox=\"0 0 24 24\"\n",
              "     width=\"24px\">\n",
              "    <g>\n",
              "        <path d=\"M19 3H5c-1.1 0-2 .9-2 2v14c0 1.1.9 2 2 2h14c1.1 0 2-.9 2-2V5c0-1.1-.9-2-2-2zM9 17H7v-7h2v7zm4 0h-2V7h2v10zm4 0h-2v-4h2v4z\"/>\n",
              "    </g>\n",
              "</svg>\n",
              "  </button>\n",
              "\n",
              "<style>\n",
              "  .colab-df-quickchart {\n",
              "      --bg-color: #E8F0FE;\n",
              "      --fill-color: #1967D2;\n",
              "      --hover-bg-color: #E2EBFA;\n",
              "      --hover-fill-color: #174EA6;\n",
              "      --disabled-fill-color: #AAA;\n",
              "      --disabled-bg-color: #DDD;\n",
              "  }\n",
              "\n",
              "  [theme=dark] .colab-df-quickchart {\n",
              "      --bg-color: #3B4455;\n",
              "      --fill-color: #D2E3FC;\n",
              "      --hover-bg-color: #434B5C;\n",
              "      --hover-fill-color: #FFFFFF;\n",
              "      --disabled-bg-color: #3B4455;\n",
              "      --disabled-fill-color: #666;\n",
              "  }\n",
              "\n",
              "  .colab-df-quickchart {\n",
              "    background-color: var(--bg-color);\n",
              "    border: none;\n",
              "    border-radius: 50%;\n",
              "    cursor: pointer;\n",
              "    display: none;\n",
              "    fill: var(--fill-color);\n",
              "    height: 32px;\n",
              "    padding: 0;\n",
              "    width: 32px;\n",
              "  }\n",
              "\n",
              "  .colab-df-quickchart:hover {\n",
              "    background-color: var(--hover-bg-color);\n",
              "    box-shadow: 0 1px 2px rgba(60, 64, 67, 0.3), 0 1px 3px 1px rgba(60, 64, 67, 0.15);\n",
              "    fill: var(--button-hover-fill-color);\n",
              "  }\n",
              "\n",
              "  .colab-df-quickchart-complete:disabled,\n",
              "  .colab-df-quickchart-complete:disabled:hover {\n",
              "    background-color: var(--disabled-bg-color);\n",
              "    fill: var(--disabled-fill-color);\n",
              "    box-shadow: none;\n",
              "  }\n",
              "\n",
              "  .colab-df-spinner {\n",
              "    border: 2px solid var(--fill-color);\n",
              "    border-color: transparent;\n",
              "    border-bottom-color: var(--fill-color);\n",
              "    animation:\n",
              "      spin 1s steps(1) infinite;\n",
              "  }\n",
              "\n",
              "  @keyframes spin {\n",
              "    0% {\n",
              "      border-color: transparent;\n",
              "      border-bottom-color: var(--fill-color);\n",
              "      border-left-color: var(--fill-color);\n",
              "    }\n",
              "    20% {\n",
              "      border-color: transparent;\n",
              "      border-left-color: var(--fill-color);\n",
              "      border-top-color: var(--fill-color);\n",
              "    }\n",
              "    30% {\n",
              "      border-color: transparent;\n",
              "      border-left-color: var(--fill-color);\n",
              "      border-top-color: var(--fill-color);\n",
              "      border-right-color: var(--fill-color);\n",
              "    }\n",
              "    40% {\n",
              "      border-color: transparent;\n",
              "      border-right-color: var(--fill-color);\n",
              "      border-top-color: var(--fill-color);\n",
              "    }\n",
              "    60% {\n",
              "      border-color: transparent;\n",
              "      border-right-color: var(--fill-color);\n",
              "    }\n",
              "    80% {\n",
              "      border-color: transparent;\n",
              "      border-right-color: var(--fill-color);\n",
              "      border-bottom-color: var(--fill-color);\n",
              "    }\n",
              "    90% {\n",
              "      border-color: transparent;\n",
              "      border-bottom-color: var(--fill-color);\n",
              "    }\n",
              "  }\n",
              "</style>\n",
              "\n",
              "  <script>\n",
              "    async function quickchart(key) {\n",
              "      const quickchartButtonEl =\n",
              "        document.querySelector('#' + key + ' button');\n",
              "      quickchartButtonEl.disabled = true;  // To prevent multiple clicks.\n",
              "      quickchartButtonEl.classList.add('colab-df-spinner');\n",
              "      try {\n",
              "        const charts = await google.colab.kernel.invokeFunction(\n",
              "            'suggestCharts', [key], {});\n",
              "      } catch (error) {\n",
              "        console.error('Error during call to suggestCharts:', error);\n",
              "      }\n",
              "      quickchartButtonEl.classList.remove('colab-df-spinner');\n",
              "      quickchartButtonEl.classList.add('colab-df-quickchart-complete');\n",
              "    }\n",
              "    (() => {\n",
              "      let quickchartButtonEl =\n",
              "        document.querySelector('#df-ca1f443e-6638-4bb6-bf81-c760c294843e button');\n",
              "      quickchartButtonEl.style.display =\n",
              "        google.colab.kernel.accessAllowed ? 'block' : 'none';\n",
              "    })();\n",
              "  </script>\n",
              "</div>\n",
              "    </div>\n",
              "  </div>\n"
            ]
          },
          "metadata": {},
          "execution_count": 23
        }
      ]
    },
    {
      "cell_type": "code",
      "source": [
        "# check datatype of each variable\n",
        "df.dtypes"
      ],
      "metadata": {
        "colab": {
          "base_uri": "https://localhost:8080/"
        },
        "id": "cjNn0JPHXHTy",
        "outputId": "15a22a17-5bc8-42cb-ab29-7df6390c4b8e"
      },
      "execution_count": 24,
      "outputs": [
        {
          "output_type": "execute_result",
          "data": {
            "text/plain": [
              "trending_date             datetime64[ns]\n",
              "title                             object\n",
              "channel_title                     object\n",
              "category_id                        int64\n",
              "publish_time              datetime64[ns]\n",
              "tags                              object\n",
              "views                              int64\n",
              "likes                              int64\n",
              "dislikes                           int64\n",
              "comment_count                      int64\n",
              "comments_disabled                   bool\n",
              "ratings_disabled                    bool\n",
              "video_error_or_removed              bool\n",
              "dtype: object"
            ]
          },
          "metadata": {},
          "execution_count": 24
        }
      ]
    },
    {
      "cell_type": "markdown",
      "source": [
        "*We see that views, likes, dislikes and comment_count variables are in integer type. So let's change them to float instead.*\n",
        "\n",
        "\n",
        "---\n",
        "\n"
      ],
      "metadata": {
        "id": "CMbes6o6Y3Y3"
      }
    },
    {
      "cell_type": "code",
      "source": [
        "# change data type of views, likes, dislikes and comment_count variables to float\n",
        "type_float_list = ['views', 'likes', 'dislikes', 'comment_count']\n",
        "\n",
        "for i in type_float_list:\n",
        "    df[i] = df[i].astype(float)"
      ],
      "metadata": {
        "id": "ZUVEcSXVYoXI"
      },
      "execution_count": 25,
      "outputs": []
    },
    {
      "cell_type": "code",
      "source": [
        "# check the data type again\n",
        "df.dtypes"
      ],
      "metadata": {
        "colab": {
          "base_uri": "https://localhost:8080/"
        },
        "id": "wG7xB49jYoaM",
        "outputId": "891ae719-faa4-4994-d478-92f938712f86"
      },
      "execution_count": 26,
      "outputs": [
        {
          "output_type": "execute_result",
          "data": {
            "text/plain": [
              "trending_date             datetime64[ns]\n",
              "title                             object\n",
              "channel_title                     object\n",
              "category_id                        int64\n",
              "publish_time              datetime64[ns]\n",
              "tags                              object\n",
              "views                            float64\n",
              "likes                            float64\n",
              "dislikes                         float64\n",
              "comment_count                    float64\n",
              "comments_disabled                   bool\n",
              "ratings_disabled                    bool\n",
              "video_error_or_removed              bool\n",
              "dtype: object"
            ]
          },
          "metadata": {},
          "execution_count": 26
        }
      ]
    },
    {
      "cell_type": "markdown",
      "source": [
        "*Since we will match the category_id variable to its category (new) variable later, we will change category_id data type to object instead of int64.*\n",
        "\n",
        "---\n",
        "\n"
      ],
      "metadata": {
        "id": "25HZMNRgbKz4"
      }
    },
    {
      "cell_type": "code",
      "source": [
        "# change category_id data type to string\n",
        "df['category_id'] = df['category_id'].astype(str)"
      ],
      "metadata": {
        "id": "uBklq9eVYocs"
      },
      "execution_count": 27,
      "outputs": []
    },
    {
      "cell_type": "code",
      "source": [
        "# check the data type again\n",
        "df.dtypes"
      ],
      "metadata": {
        "colab": {
          "base_uri": "https://localhost:8080/"
        },
        "id": "JRdXJVpNYofT",
        "outputId": "ce00677e-214e-412b-e165-024d8e0d3b07"
      },
      "execution_count": 28,
      "outputs": [
        {
          "output_type": "execute_result",
          "data": {
            "text/plain": [
              "trending_date             datetime64[ns]\n",
              "title                             object\n",
              "channel_title                     object\n",
              "category_id                       object\n",
              "publish_time              datetime64[ns]\n",
              "tags                              object\n",
              "views                            float64\n",
              "likes                            float64\n",
              "dislikes                         float64\n",
              "comment_count                    float64\n",
              "comments_disabled                   bool\n",
              "ratings_disabled                    bool\n",
              "video_error_or_removed              bool\n",
              "dtype: object"
            ]
          },
          "metadata": {},
          "execution_count": 28
        }
      ]
    },
    {
      "cell_type": "code",
      "source": [
        "# match category_id to its category item\n",
        "id_to_category = {}\n",
        "\n",
        "with open('/content/CA_category_id.json', 'r') as f:\n",
        "    data = json.load(f)\n",
        "\n",
        "    for i in data['items']:\n",
        "        id_to_category[i['id']] = i['snippet']['title']"
      ],
      "metadata": {
        "id": "nwdNHrgAYoh-"
      },
      "execution_count": 29,
      "outputs": []
    },
    {
      "cell_type": "code",
      "source": [
        "# show this new dictionary of id and category\n",
        "id_to_category"
      ],
      "metadata": {
        "colab": {
          "base_uri": "https://localhost:8080/"
        },
        "id": "Rq1jpwbyYoki",
        "outputId": "088e3e50-623e-42a8-8217-5c41f32434f1"
      },
      "execution_count": 30,
      "outputs": [
        {
          "output_type": "execute_result",
          "data": {
            "text/plain": [
              "{'1': 'Film & Animation',\n",
              " '2': 'Autos & Vehicles',\n",
              " '10': 'Music',\n",
              " '15': 'Pets & Animals',\n",
              " '17': 'Sports',\n",
              " '18': 'Short Movies',\n",
              " '19': 'Travel & Events',\n",
              " '20': 'Gaming',\n",
              " '21': 'Videoblogging',\n",
              " '22': 'People & Blogs',\n",
              " '23': 'Comedy',\n",
              " '24': 'Entertainment',\n",
              " '25': 'News & Politics',\n",
              " '26': 'Howto & Style',\n",
              " '27': 'Education',\n",
              " '28': 'Science & Technology',\n",
              " '30': 'Movies',\n",
              " '31': 'Anime/Animation',\n",
              " '32': 'Action/Adventure',\n",
              " '33': 'Classics',\n",
              " '34': 'Comedy',\n",
              " '35': 'Documentary',\n",
              " '36': 'Drama',\n",
              " '37': 'Family',\n",
              " '38': 'Foreign',\n",
              " '39': 'Horror',\n",
              " '40': 'Sci-Fi/Fantasy',\n",
              " '41': 'Thriller',\n",
              " '42': 'Shorts',\n",
              " '43': 'Shows',\n",
              " '44': 'Trailers'}"
            ]
          },
          "metadata": {},
          "execution_count": 30
        }
      ]
    },
    {
      "cell_type": "code",
      "source": [
        "# add a new column called category and map it next to the category_id column\n",
        "df.insert(4, 'category', df['category_id'].map(id_to_category))"
      ],
      "metadata": {
        "id": "GMUjLxrDjEqa"
      },
      "execution_count": 31,
      "outputs": []
    },
    {
      "cell_type": "code",
      "source": [
        "# check the dataframe again of those two columns\n",
        "df[['category_id', 'category']].head()"
      ],
      "metadata": {
        "colab": {
          "base_uri": "https://localhost:8080/",
          "height": 206
        },
        "id": "nKogYtkTjoAE",
        "outputId": "81c5a050-d213-4491-e217-6f9bd9f13a68"
      },
      "execution_count": 32,
      "outputs": [
        {
          "output_type": "execute_result",
          "data": {
            "text/plain": [
              "  category_id       category\n",
              "0          10          Music\n",
              "1          23         Comedy\n",
              "2          23         Comedy\n",
              "3          24  Entertainment\n",
              "4          10          Music"
            ],
            "text/html": [
              "\n",
              "  <div id=\"df-3714dd66-f256-4af1-aa23-648e699f59ab\" class=\"colab-df-container\">\n",
              "    <div>\n",
              "<style scoped>\n",
              "    .dataframe tbody tr th:only-of-type {\n",
              "        vertical-align: middle;\n",
              "    }\n",
              "\n",
              "    .dataframe tbody tr th {\n",
              "        vertical-align: top;\n",
              "    }\n",
              "\n",
              "    .dataframe thead th {\n",
              "        text-align: right;\n",
              "    }\n",
              "</style>\n",
              "<table border=\"1\" class=\"dataframe\">\n",
              "  <thead>\n",
              "    <tr style=\"text-align: right;\">\n",
              "      <th></th>\n",
              "      <th>category_id</th>\n",
              "      <th>category</th>\n",
              "    </tr>\n",
              "  </thead>\n",
              "  <tbody>\n",
              "    <tr>\n",
              "      <th>0</th>\n",
              "      <td>10</td>\n",
              "      <td>Music</td>\n",
              "    </tr>\n",
              "    <tr>\n",
              "      <th>1</th>\n",
              "      <td>23</td>\n",
              "      <td>Comedy</td>\n",
              "    </tr>\n",
              "    <tr>\n",
              "      <th>2</th>\n",
              "      <td>23</td>\n",
              "      <td>Comedy</td>\n",
              "    </tr>\n",
              "    <tr>\n",
              "      <th>3</th>\n",
              "      <td>24</td>\n",
              "      <td>Entertainment</td>\n",
              "    </tr>\n",
              "    <tr>\n",
              "      <th>4</th>\n",
              "      <td>10</td>\n",
              "      <td>Music</td>\n",
              "    </tr>\n",
              "  </tbody>\n",
              "</table>\n",
              "</div>\n",
              "    <div class=\"colab-df-buttons\">\n",
              "\n",
              "  <div class=\"colab-df-container\">\n",
              "    <button class=\"colab-df-convert\" onclick=\"convertToInteractive('df-3714dd66-f256-4af1-aa23-648e699f59ab')\"\n",
              "            title=\"Convert this dataframe to an interactive table.\"\n",
              "            style=\"display:none;\">\n",
              "\n",
              "  <svg xmlns=\"http://www.w3.org/2000/svg\" height=\"24px\" viewBox=\"0 -960 960 960\">\n",
              "    <path d=\"M120-120v-720h720v720H120Zm60-500h600v-160H180v160Zm220 220h160v-160H400v160Zm0 220h160v-160H400v160ZM180-400h160v-160H180v160Zm440 0h160v-160H620v160ZM180-180h160v-160H180v160Zm440 0h160v-160H620v160Z\"/>\n",
              "  </svg>\n",
              "    </button>\n",
              "\n",
              "  <style>\n",
              "    .colab-df-container {\n",
              "      display:flex;\n",
              "      gap: 12px;\n",
              "    }\n",
              "\n",
              "    .colab-df-convert {\n",
              "      background-color: #E8F0FE;\n",
              "      border: none;\n",
              "      border-radius: 50%;\n",
              "      cursor: pointer;\n",
              "      display: none;\n",
              "      fill: #1967D2;\n",
              "      height: 32px;\n",
              "      padding: 0 0 0 0;\n",
              "      width: 32px;\n",
              "    }\n",
              "\n",
              "    .colab-df-convert:hover {\n",
              "      background-color: #E2EBFA;\n",
              "      box-shadow: 0px 1px 2px rgba(60, 64, 67, 0.3), 0px 1px 3px 1px rgba(60, 64, 67, 0.15);\n",
              "      fill: #174EA6;\n",
              "    }\n",
              "\n",
              "    .colab-df-buttons div {\n",
              "      margin-bottom: 4px;\n",
              "    }\n",
              "\n",
              "    [theme=dark] .colab-df-convert {\n",
              "      background-color: #3B4455;\n",
              "      fill: #D2E3FC;\n",
              "    }\n",
              "\n",
              "    [theme=dark] .colab-df-convert:hover {\n",
              "      background-color: #434B5C;\n",
              "      box-shadow: 0px 1px 3px 1px rgba(0, 0, 0, 0.15);\n",
              "      filter: drop-shadow(0px 1px 2px rgba(0, 0, 0, 0.3));\n",
              "      fill: #FFFFFF;\n",
              "    }\n",
              "  </style>\n",
              "\n",
              "    <script>\n",
              "      const buttonEl =\n",
              "        document.querySelector('#df-3714dd66-f256-4af1-aa23-648e699f59ab button.colab-df-convert');\n",
              "      buttonEl.style.display =\n",
              "        google.colab.kernel.accessAllowed ? 'block' : 'none';\n",
              "\n",
              "      async function convertToInteractive(key) {\n",
              "        const element = document.querySelector('#df-3714dd66-f256-4af1-aa23-648e699f59ab');\n",
              "        const dataTable =\n",
              "          await google.colab.kernel.invokeFunction('convertToInteractive',\n",
              "                                                    [key], {});\n",
              "        if (!dataTable) return;\n",
              "\n",
              "        const docLinkHtml = 'Like what you see? Visit the ' +\n",
              "          '<a target=\"_blank\" href=https://colab.research.google.com/notebooks/data_table.ipynb>data table notebook</a>'\n",
              "          + ' to learn more about interactive tables.';\n",
              "        element.innerHTML = '';\n",
              "        dataTable['output_type'] = 'display_data';\n",
              "        await google.colab.output.renderOutput(dataTable, element);\n",
              "        const docLink = document.createElement('div');\n",
              "        docLink.innerHTML = docLinkHtml;\n",
              "        element.appendChild(docLink);\n",
              "      }\n",
              "    </script>\n",
              "  </div>\n",
              "\n",
              "\n",
              "<div id=\"df-64364512-5786-45fc-ab5b-527d75a55434\">\n",
              "  <button class=\"colab-df-quickchart\" onclick=\"quickchart('df-64364512-5786-45fc-ab5b-527d75a55434')\"\n",
              "            title=\"Suggest charts\"\n",
              "            style=\"display:none;\">\n",
              "\n",
              "<svg xmlns=\"http://www.w3.org/2000/svg\" height=\"24px\"viewBox=\"0 0 24 24\"\n",
              "     width=\"24px\">\n",
              "    <g>\n",
              "        <path d=\"M19 3H5c-1.1 0-2 .9-2 2v14c0 1.1.9 2 2 2h14c1.1 0 2-.9 2-2V5c0-1.1-.9-2-2-2zM9 17H7v-7h2v7zm4 0h-2V7h2v10zm4 0h-2v-4h2v4z\"/>\n",
              "    </g>\n",
              "</svg>\n",
              "  </button>\n",
              "\n",
              "<style>\n",
              "  .colab-df-quickchart {\n",
              "      --bg-color: #E8F0FE;\n",
              "      --fill-color: #1967D2;\n",
              "      --hover-bg-color: #E2EBFA;\n",
              "      --hover-fill-color: #174EA6;\n",
              "      --disabled-fill-color: #AAA;\n",
              "      --disabled-bg-color: #DDD;\n",
              "  }\n",
              "\n",
              "  [theme=dark] .colab-df-quickchart {\n",
              "      --bg-color: #3B4455;\n",
              "      --fill-color: #D2E3FC;\n",
              "      --hover-bg-color: #434B5C;\n",
              "      --hover-fill-color: #FFFFFF;\n",
              "      --disabled-bg-color: #3B4455;\n",
              "      --disabled-fill-color: #666;\n",
              "  }\n",
              "\n",
              "  .colab-df-quickchart {\n",
              "    background-color: var(--bg-color);\n",
              "    border: none;\n",
              "    border-radius: 50%;\n",
              "    cursor: pointer;\n",
              "    display: none;\n",
              "    fill: var(--fill-color);\n",
              "    height: 32px;\n",
              "    padding: 0;\n",
              "    width: 32px;\n",
              "  }\n",
              "\n",
              "  .colab-df-quickchart:hover {\n",
              "    background-color: var(--hover-bg-color);\n",
              "    box-shadow: 0 1px 2px rgba(60, 64, 67, 0.3), 0 1px 3px 1px rgba(60, 64, 67, 0.15);\n",
              "    fill: var(--button-hover-fill-color);\n",
              "  }\n",
              "\n",
              "  .colab-df-quickchart-complete:disabled,\n",
              "  .colab-df-quickchart-complete:disabled:hover {\n",
              "    background-color: var(--disabled-bg-color);\n",
              "    fill: var(--disabled-fill-color);\n",
              "    box-shadow: none;\n",
              "  }\n",
              "\n",
              "  .colab-df-spinner {\n",
              "    border: 2px solid var(--fill-color);\n",
              "    border-color: transparent;\n",
              "    border-bottom-color: var(--fill-color);\n",
              "    animation:\n",
              "      spin 1s steps(1) infinite;\n",
              "  }\n",
              "\n",
              "  @keyframes spin {\n",
              "    0% {\n",
              "      border-color: transparent;\n",
              "      border-bottom-color: var(--fill-color);\n",
              "      border-left-color: var(--fill-color);\n",
              "    }\n",
              "    20% {\n",
              "      border-color: transparent;\n",
              "      border-left-color: var(--fill-color);\n",
              "      border-top-color: var(--fill-color);\n",
              "    }\n",
              "    30% {\n",
              "      border-color: transparent;\n",
              "      border-left-color: var(--fill-color);\n",
              "      border-top-color: var(--fill-color);\n",
              "      border-right-color: var(--fill-color);\n",
              "    }\n",
              "    40% {\n",
              "      border-color: transparent;\n",
              "      border-right-color: var(--fill-color);\n",
              "      border-top-color: var(--fill-color);\n",
              "    }\n",
              "    60% {\n",
              "      border-color: transparent;\n",
              "      border-right-color: var(--fill-color);\n",
              "    }\n",
              "    80% {\n",
              "      border-color: transparent;\n",
              "      border-right-color: var(--fill-color);\n",
              "      border-bottom-color: var(--fill-color);\n",
              "    }\n",
              "    90% {\n",
              "      border-color: transparent;\n",
              "      border-bottom-color: var(--fill-color);\n",
              "    }\n",
              "  }\n",
              "</style>\n",
              "\n",
              "  <script>\n",
              "    async function quickchart(key) {\n",
              "      const quickchartButtonEl =\n",
              "        document.querySelector('#' + key + ' button');\n",
              "      quickchartButtonEl.disabled = true;  // To prevent multiple clicks.\n",
              "      quickchartButtonEl.classList.add('colab-df-spinner');\n",
              "      try {\n",
              "        const charts = await google.colab.kernel.invokeFunction(\n",
              "            'suggestCharts', [key], {});\n",
              "      } catch (error) {\n",
              "        console.error('Error during call to suggestCharts:', error);\n",
              "      }\n",
              "      quickchartButtonEl.classList.remove('colab-df-spinner');\n",
              "      quickchartButtonEl.classList.add('colab-df-quickchart-complete');\n",
              "    }\n",
              "    (() => {\n",
              "      let quickchartButtonEl =\n",
              "        document.querySelector('#df-64364512-5786-45fc-ab5b-527d75a55434 button');\n",
              "      quickchartButtonEl.style.display =\n",
              "        google.colab.kernel.accessAllowed ? 'block' : 'none';\n",
              "    })();\n",
              "  </script>\n",
              "</div>\n",
              "    </div>\n",
              "  </div>\n"
            ]
          },
          "metadata": {},
          "execution_count": 32
        }
      ]
    },
    {
      "cell_type": "code",
      "source": [
        "# check the dateframe\n",
        "df.head()"
      ],
      "metadata": {
        "colab": {
          "base_uri": "https://localhost:8080/",
          "height": 573
        },
        "id": "1S9l08HqjoF4",
        "outputId": "e84c60e4-06e8-499d-c766-7607000627eb"
      },
      "execution_count": 33,
      "outputs": [
        {
          "output_type": "execute_result",
          "data": {
            "text/plain": [
              "  trending_date                                              title  \\\n",
              "0    2017-11-14         Eminem - Walk On Water (Audio) ft. Beyoncé   \n",
              "1    2017-11-14                      PLUSH - Bad Unboxing Fan Mail   \n",
              "2    2017-11-14  Racist Superman | Rudy Mancuso, King Bach & Le...   \n",
              "3    2017-11-14                           I Dare You: GOING BALD!?   \n",
              "4    2017-11-14        Ed Sheeran - Perfect (Official Music Video)   \n",
              "\n",
              "  channel_title category_id       category        publish_time  \\\n",
              "0    EminemVEVO          10          Music 2017-11-10 17:00:03   \n",
              "1     iDubbbzTV          23         Comedy 2017-11-13 17:00:00   \n",
              "2  Rudy Mancuso          23         Comedy 2017-11-12 19:05:24   \n",
              "3      nigahiga          24  Entertainment 2017-11-12 18:01:41   \n",
              "4    Ed Sheeran          10          Music 2017-11-09 11:04:14   \n",
              "\n",
              "                                                tags       views      likes  \\\n",
              "0  Eminem|\"Walk\"|\"On\"|\"Water\"|\"Aftermath/Shady/In...  17158579.0   787425.0   \n",
              "1  plush|\"bad unboxing\"|\"unboxing\"|\"fan mail\"|\"id...   1014651.0   127794.0   \n",
              "2  racist superman|\"rudy\"|\"mancuso\"|\"king\"|\"bach\"...   3191434.0   146035.0   \n",
              "3  ryan|\"higa\"|\"higatv\"|\"nigahiga\"|\"i dare you\"|\"...   2095828.0   132239.0   \n",
              "4  edsheeran|\"ed sheeran\"|\"acoustic\"|\"live\"|\"cove...  33523622.0  1634130.0   \n",
              "\n",
              "   dislikes  comment_count  comments_disabled  ratings_disabled  \\\n",
              "0   43420.0       125882.0              False             False   \n",
              "1    1688.0        13030.0              False             False   \n",
              "2    5339.0         8181.0              False             False   \n",
              "3    1989.0        17518.0              False             False   \n",
              "4   21082.0        85067.0              False             False   \n",
              "\n",
              "   video_error_or_removed  \n",
              "0                   False  \n",
              "1                   False  \n",
              "2                   False  \n",
              "3                   False  \n",
              "4                   False  "
            ],
            "text/html": [
              "\n",
              "  <div id=\"df-63b1f022-740a-45f2-abac-6ab4b1b447f6\" class=\"colab-df-container\">\n",
              "    <div>\n",
              "<style scoped>\n",
              "    .dataframe tbody tr th:only-of-type {\n",
              "        vertical-align: middle;\n",
              "    }\n",
              "\n",
              "    .dataframe tbody tr th {\n",
              "        vertical-align: top;\n",
              "    }\n",
              "\n",
              "    .dataframe thead th {\n",
              "        text-align: right;\n",
              "    }\n",
              "</style>\n",
              "<table border=\"1\" class=\"dataframe\">\n",
              "  <thead>\n",
              "    <tr style=\"text-align: right;\">\n",
              "      <th></th>\n",
              "      <th>trending_date</th>\n",
              "      <th>title</th>\n",
              "      <th>channel_title</th>\n",
              "      <th>category_id</th>\n",
              "      <th>category</th>\n",
              "      <th>publish_time</th>\n",
              "      <th>tags</th>\n",
              "      <th>views</th>\n",
              "      <th>likes</th>\n",
              "      <th>dislikes</th>\n",
              "      <th>comment_count</th>\n",
              "      <th>comments_disabled</th>\n",
              "      <th>ratings_disabled</th>\n",
              "      <th>video_error_or_removed</th>\n",
              "    </tr>\n",
              "  </thead>\n",
              "  <tbody>\n",
              "    <tr>\n",
              "      <th>0</th>\n",
              "      <td>2017-11-14</td>\n",
              "      <td>Eminem - Walk On Water (Audio) ft. Beyoncé</td>\n",
              "      <td>EminemVEVO</td>\n",
              "      <td>10</td>\n",
              "      <td>Music</td>\n",
              "      <td>2017-11-10 17:00:03</td>\n",
              "      <td>Eminem|\"Walk\"|\"On\"|\"Water\"|\"Aftermath/Shady/In...</td>\n",
              "      <td>17158579.0</td>\n",
              "      <td>787425.0</td>\n",
              "      <td>43420.0</td>\n",
              "      <td>125882.0</td>\n",
              "      <td>False</td>\n",
              "      <td>False</td>\n",
              "      <td>False</td>\n",
              "    </tr>\n",
              "    <tr>\n",
              "      <th>1</th>\n",
              "      <td>2017-11-14</td>\n",
              "      <td>PLUSH - Bad Unboxing Fan Mail</td>\n",
              "      <td>iDubbbzTV</td>\n",
              "      <td>23</td>\n",
              "      <td>Comedy</td>\n",
              "      <td>2017-11-13 17:00:00</td>\n",
              "      <td>plush|\"bad unboxing\"|\"unboxing\"|\"fan mail\"|\"id...</td>\n",
              "      <td>1014651.0</td>\n",
              "      <td>127794.0</td>\n",
              "      <td>1688.0</td>\n",
              "      <td>13030.0</td>\n",
              "      <td>False</td>\n",
              "      <td>False</td>\n",
              "      <td>False</td>\n",
              "    </tr>\n",
              "    <tr>\n",
              "      <th>2</th>\n",
              "      <td>2017-11-14</td>\n",
              "      <td>Racist Superman | Rudy Mancuso, King Bach &amp; Le...</td>\n",
              "      <td>Rudy Mancuso</td>\n",
              "      <td>23</td>\n",
              "      <td>Comedy</td>\n",
              "      <td>2017-11-12 19:05:24</td>\n",
              "      <td>racist superman|\"rudy\"|\"mancuso\"|\"king\"|\"bach\"...</td>\n",
              "      <td>3191434.0</td>\n",
              "      <td>146035.0</td>\n",
              "      <td>5339.0</td>\n",
              "      <td>8181.0</td>\n",
              "      <td>False</td>\n",
              "      <td>False</td>\n",
              "      <td>False</td>\n",
              "    </tr>\n",
              "    <tr>\n",
              "      <th>3</th>\n",
              "      <td>2017-11-14</td>\n",
              "      <td>I Dare You: GOING BALD!?</td>\n",
              "      <td>nigahiga</td>\n",
              "      <td>24</td>\n",
              "      <td>Entertainment</td>\n",
              "      <td>2017-11-12 18:01:41</td>\n",
              "      <td>ryan|\"higa\"|\"higatv\"|\"nigahiga\"|\"i dare you\"|\"...</td>\n",
              "      <td>2095828.0</td>\n",
              "      <td>132239.0</td>\n",
              "      <td>1989.0</td>\n",
              "      <td>17518.0</td>\n",
              "      <td>False</td>\n",
              "      <td>False</td>\n",
              "      <td>False</td>\n",
              "    </tr>\n",
              "    <tr>\n",
              "      <th>4</th>\n",
              "      <td>2017-11-14</td>\n",
              "      <td>Ed Sheeran - Perfect (Official Music Video)</td>\n",
              "      <td>Ed Sheeran</td>\n",
              "      <td>10</td>\n",
              "      <td>Music</td>\n",
              "      <td>2017-11-09 11:04:14</td>\n",
              "      <td>edsheeran|\"ed sheeran\"|\"acoustic\"|\"live\"|\"cove...</td>\n",
              "      <td>33523622.0</td>\n",
              "      <td>1634130.0</td>\n",
              "      <td>21082.0</td>\n",
              "      <td>85067.0</td>\n",
              "      <td>False</td>\n",
              "      <td>False</td>\n",
              "      <td>False</td>\n",
              "    </tr>\n",
              "  </tbody>\n",
              "</table>\n",
              "</div>\n",
              "    <div class=\"colab-df-buttons\">\n",
              "\n",
              "  <div class=\"colab-df-container\">\n",
              "    <button class=\"colab-df-convert\" onclick=\"convertToInteractive('df-63b1f022-740a-45f2-abac-6ab4b1b447f6')\"\n",
              "            title=\"Convert this dataframe to an interactive table.\"\n",
              "            style=\"display:none;\">\n",
              "\n",
              "  <svg xmlns=\"http://www.w3.org/2000/svg\" height=\"24px\" viewBox=\"0 -960 960 960\">\n",
              "    <path d=\"M120-120v-720h720v720H120Zm60-500h600v-160H180v160Zm220 220h160v-160H400v160Zm0 220h160v-160H400v160ZM180-400h160v-160H180v160Zm440 0h160v-160H620v160ZM180-180h160v-160H180v160Zm440 0h160v-160H620v160Z\"/>\n",
              "  </svg>\n",
              "    </button>\n",
              "\n",
              "  <style>\n",
              "    .colab-df-container {\n",
              "      display:flex;\n",
              "      gap: 12px;\n",
              "    }\n",
              "\n",
              "    .colab-df-convert {\n",
              "      background-color: #E8F0FE;\n",
              "      border: none;\n",
              "      border-radius: 50%;\n",
              "      cursor: pointer;\n",
              "      display: none;\n",
              "      fill: #1967D2;\n",
              "      height: 32px;\n",
              "      padding: 0 0 0 0;\n",
              "      width: 32px;\n",
              "    }\n",
              "\n",
              "    .colab-df-convert:hover {\n",
              "      background-color: #E2EBFA;\n",
              "      box-shadow: 0px 1px 2px rgba(60, 64, 67, 0.3), 0px 1px 3px 1px rgba(60, 64, 67, 0.15);\n",
              "      fill: #174EA6;\n",
              "    }\n",
              "\n",
              "    .colab-df-buttons div {\n",
              "      margin-bottom: 4px;\n",
              "    }\n",
              "\n",
              "    [theme=dark] .colab-df-convert {\n",
              "      background-color: #3B4455;\n",
              "      fill: #D2E3FC;\n",
              "    }\n",
              "\n",
              "    [theme=dark] .colab-df-convert:hover {\n",
              "      background-color: #434B5C;\n",
              "      box-shadow: 0px 1px 3px 1px rgba(0, 0, 0, 0.15);\n",
              "      filter: drop-shadow(0px 1px 2px rgba(0, 0, 0, 0.3));\n",
              "      fill: #FFFFFF;\n",
              "    }\n",
              "  </style>\n",
              "\n",
              "    <script>\n",
              "      const buttonEl =\n",
              "        document.querySelector('#df-63b1f022-740a-45f2-abac-6ab4b1b447f6 button.colab-df-convert');\n",
              "      buttonEl.style.display =\n",
              "        google.colab.kernel.accessAllowed ? 'block' : 'none';\n",
              "\n",
              "      async function convertToInteractive(key) {\n",
              "        const element = document.querySelector('#df-63b1f022-740a-45f2-abac-6ab4b1b447f6');\n",
              "        const dataTable =\n",
              "          await google.colab.kernel.invokeFunction('convertToInteractive',\n",
              "                                                    [key], {});\n",
              "        if (!dataTable) return;\n",
              "\n",
              "        const docLinkHtml = 'Like what you see? Visit the ' +\n",
              "          '<a target=\"_blank\" href=https://colab.research.google.com/notebooks/data_table.ipynb>data table notebook</a>'\n",
              "          + ' to learn more about interactive tables.';\n",
              "        element.innerHTML = '';\n",
              "        dataTable['output_type'] = 'display_data';\n",
              "        await google.colab.output.renderOutput(dataTable, element);\n",
              "        const docLink = document.createElement('div');\n",
              "        docLink.innerHTML = docLinkHtml;\n",
              "        element.appendChild(docLink);\n",
              "      }\n",
              "    </script>\n",
              "  </div>\n",
              "\n",
              "\n",
              "<div id=\"df-0d1189d1-dd2e-4ac8-ac36-d4f6e9d9a105\">\n",
              "  <button class=\"colab-df-quickchart\" onclick=\"quickchart('df-0d1189d1-dd2e-4ac8-ac36-d4f6e9d9a105')\"\n",
              "            title=\"Suggest charts\"\n",
              "            style=\"display:none;\">\n",
              "\n",
              "<svg xmlns=\"http://www.w3.org/2000/svg\" height=\"24px\"viewBox=\"0 0 24 24\"\n",
              "     width=\"24px\">\n",
              "    <g>\n",
              "        <path d=\"M19 3H5c-1.1 0-2 .9-2 2v14c0 1.1.9 2 2 2h14c1.1 0 2-.9 2-2V5c0-1.1-.9-2-2-2zM9 17H7v-7h2v7zm4 0h-2V7h2v10zm4 0h-2v-4h2v4z\"/>\n",
              "    </g>\n",
              "</svg>\n",
              "  </button>\n",
              "\n",
              "<style>\n",
              "  .colab-df-quickchart {\n",
              "      --bg-color: #E8F0FE;\n",
              "      --fill-color: #1967D2;\n",
              "      --hover-bg-color: #E2EBFA;\n",
              "      --hover-fill-color: #174EA6;\n",
              "      --disabled-fill-color: #AAA;\n",
              "      --disabled-bg-color: #DDD;\n",
              "  }\n",
              "\n",
              "  [theme=dark] .colab-df-quickchart {\n",
              "      --bg-color: #3B4455;\n",
              "      --fill-color: #D2E3FC;\n",
              "      --hover-bg-color: #434B5C;\n",
              "      --hover-fill-color: #FFFFFF;\n",
              "      --disabled-bg-color: #3B4455;\n",
              "      --disabled-fill-color: #666;\n",
              "  }\n",
              "\n",
              "  .colab-df-quickchart {\n",
              "    background-color: var(--bg-color);\n",
              "    border: none;\n",
              "    border-radius: 50%;\n",
              "    cursor: pointer;\n",
              "    display: none;\n",
              "    fill: var(--fill-color);\n",
              "    height: 32px;\n",
              "    padding: 0;\n",
              "    width: 32px;\n",
              "  }\n",
              "\n",
              "  .colab-df-quickchart:hover {\n",
              "    background-color: var(--hover-bg-color);\n",
              "    box-shadow: 0 1px 2px rgba(60, 64, 67, 0.3), 0 1px 3px 1px rgba(60, 64, 67, 0.15);\n",
              "    fill: var(--button-hover-fill-color);\n",
              "  }\n",
              "\n",
              "  .colab-df-quickchart-complete:disabled,\n",
              "  .colab-df-quickchart-complete:disabled:hover {\n",
              "    background-color: var(--disabled-bg-color);\n",
              "    fill: var(--disabled-fill-color);\n",
              "    box-shadow: none;\n",
              "  }\n",
              "\n",
              "  .colab-df-spinner {\n",
              "    border: 2px solid var(--fill-color);\n",
              "    border-color: transparent;\n",
              "    border-bottom-color: var(--fill-color);\n",
              "    animation:\n",
              "      spin 1s steps(1) infinite;\n",
              "  }\n",
              "\n",
              "  @keyframes spin {\n",
              "    0% {\n",
              "      border-color: transparent;\n",
              "      border-bottom-color: var(--fill-color);\n",
              "      border-left-color: var(--fill-color);\n",
              "    }\n",
              "    20% {\n",
              "      border-color: transparent;\n",
              "      border-left-color: var(--fill-color);\n",
              "      border-top-color: var(--fill-color);\n",
              "    }\n",
              "    30% {\n",
              "      border-color: transparent;\n",
              "      border-left-color: var(--fill-color);\n",
              "      border-top-color: var(--fill-color);\n",
              "      border-right-color: var(--fill-color);\n",
              "    }\n",
              "    40% {\n",
              "      border-color: transparent;\n",
              "      border-right-color: var(--fill-color);\n",
              "      border-top-color: var(--fill-color);\n",
              "    }\n",
              "    60% {\n",
              "      border-color: transparent;\n",
              "      border-right-color: var(--fill-color);\n",
              "    }\n",
              "    80% {\n",
              "      border-color: transparent;\n",
              "      border-right-color: var(--fill-color);\n",
              "      border-bottom-color: var(--fill-color);\n",
              "    }\n",
              "    90% {\n",
              "      border-color: transparent;\n",
              "      border-bottom-color: var(--fill-color);\n",
              "    }\n",
              "  }\n",
              "</style>\n",
              "\n",
              "  <script>\n",
              "    async function quickchart(key) {\n",
              "      const quickchartButtonEl =\n",
              "        document.querySelector('#' + key + ' button');\n",
              "      quickchartButtonEl.disabled = true;  // To prevent multiple clicks.\n",
              "      quickchartButtonEl.classList.add('colab-df-spinner');\n",
              "      try {\n",
              "        const charts = await google.colab.kernel.invokeFunction(\n",
              "            'suggestCharts', [key], {});\n",
              "      } catch (error) {\n",
              "        console.error('Error during call to suggestCharts:', error);\n",
              "      }\n",
              "      quickchartButtonEl.classList.remove('colab-df-spinner');\n",
              "      quickchartButtonEl.classList.add('colab-df-quickchart-complete');\n",
              "    }\n",
              "    (() => {\n",
              "      let quickchartButtonEl =\n",
              "        document.querySelector('#df-0d1189d1-dd2e-4ac8-ac36-d4f6e9d9a105 button');\n",
              "      quickchartButtonEl.style.display =\n",
              "        google.colab.kernel.accessAllowed ? 'block' : 'none';\n",
              "    })();\n",
              "  </script>\n",
              "</div>\n",
              "    </div>\n",
              "  </div>\n"
            ]
          },
          "metadata": {},
          "execution_count": 33
        }
      ]
    },
    {
      "cell_type": "code",
      "source": [
        "# remove tag variable\n",
        "df = df.drop('tags', axis=1)"
      ],
      "metadata": {
        "id": "N8W5rGPmjoKb"
      },
      "execution_count": 34,
      "outputs": []
    },
    {
      "cell_type": "code",
      "source": [
        "# check the dataframe again\n",
        "df.tail()"
      ],
      "metadata": {
        "colab": {
          "base_uri": "https://localhost:8080/",
          "height": 539
        },
        "id": "BNkz46-6kmqE",
        "outputId": "4b07a473-bc92-4eae-8493-b0c8f5276dd5"
      },
      "execution_count": 35,
      "outputs": [
        {
          "output_type": "execute_result",
          "data": {
            "text/plain": [
              "      trending_date                                              title  \\\n",
              "40876    2018-06-14                       HOW2: How to Solve a Mystery   \n",
              "40877    2018-06-14                   Eli Lik Lik Episode 13 Partie 01   \n",
              "40878    2018-06-14  KINGDOM HEARTS III – SQUARE ENIX E3 SHOWCASE 2...   \n",
              "40879    2018-06-14                   Trump Advisor Grovels To Trudeau   \n",
              "40880    2018-06-14                   【完整版】遇到恐怖情人該怎麼辦？2018.06.13小明星大跟班   \n",
              "\n",
              "          channel_title category_id         category        publish_time  \\\n",
              "40876   Annoying Orange          24    Entertainment 2018-06-13 18:00:07   \n",
              "40877  Elhiwar Ettounsi          24    Entertainment 2018-06-13 19:01:18   \n",
              "40878    Kingdom Hearts          20           Gaming 2018-06-11 17:30:53   \n",
              "40879   The Young Turks          25  News & Politics 2018-06-13 04:00:05   \n",
              "40880          我愛小明星大跟班          24    Entertainment 2018-06-13 16:00:03   \n",
              "\n",
              "          views    likes  dislikes  comment_count  comments_disabled  \\\n",
              "40876   80685.0   1701.0      99.0         1312.0              False   \n",
              "40877  103339.0    460.0      66.0           51.0              False   \n",
              "40878  773347.0  25900.0     224.0         3881.0              False   \n",
              "40879  115225.0   2115.0     182.0         1672.0              False   \n",
              "40880  107392.0    300.0      62.0          251.0              False   \n",
              "\n",
              "       ratings_disabled  video_error_or_removed  \n",
              "40876             False                   False  \n",
              "40877             False                   False  \n",
              "40878             False                   False  \n",
              "40879             False                   False  \n",
              "40880             False                   False  "
            ],
            "text/html": [
              "\n",
              "  <div id=\"df-6eea0d1e-25fb-479d-99e8-9e05544715b2\" class=\"colab-df-container\">\n",
              "    <div>\n",
              "<style scoped>\n",
              "    .dataframe tbody tr th:only-of-type {\n",
              "        vertical-align: middle;\n",
              "    }\n",
              "\n",
              "    .dataframe tbody tr th {\n",
              "        vertical-align: top;\n",
              "    }\n",
              "\n",
              "    .dataframe thead th {\n",
              "        text-align: right;\n",
              "    }\n",
              "</style>\n",
              "<table border=\"1\" class=\"dataframe\">\n",
              "  <thead>\n",
              "    <tr style=\"text-align: right;\">\n",
              "      <th></th>\n",
              "      <th>trending_date</th>\n",
              "      <th>title</th>\n",
              "      <th>channel_title</th>\n",
              "      <th>category_id</th>\n",
              "      <th>category</th>\n",
              "      <th>publish_time</th>\n",
              "      <th>views</th>\n",
              "      <th>likes</th>\n",
              "      <th>dislikes</th>\n",
              "      <th>comment_count</th>\n",
              "      <th>comments_disabled</th>\n",
              "      <th>ratings_disabled</th>\n",
              "      <th>video_error_or_removed</th>\n",
              "    </tr>\n",
              "  </thead>\n",
              "  <tbody>\n",
              "    <tr>\n",
              "      <th>40876</th>\n",
              "      <td>2018-06-14</td>\n",
              "      <td>HOW2: How to Solve a Mystery</td>\n",
              "      <td>Annoying Orange</td>\n",
              "      <td>24</td>\n",
              "      <td>Entertainment</td>\n",
              "      <td>2018-06-13 18:00:07</td>\n",
              "      <td>80685.0</td>\n",
              "      <td>1701.0</td>\n",
              "      <td>99.0</td>\n",
              "      <td>1312.0</td>\n",
              "      <td>False</td>\n",
              "      <td>False</td>\n",
              "      <td>False</td>\n",
              "    </tr>\n",
              "    <tr>\n",
              "      <th>40877</th>\n",
              "      <td>2018-06-14</td>\n",
              "      <td>Eli Lik Lik Episode 13 Partie 01</td>\n",
              "      <td>Elhiwar Ettounsi</td>\n",
              "      <td>24</td>\n",
              "      <td>Entertainment</td>\n",
              "      <td>2018-06-13 19:01:18</td>\n",
              "      <td>103339.0</td>\n",
              "      <td>460.0</td>\n",
              "      <td>66.0</td>\n",
              "      <td>51.0</td>\n",
              "      <td>False</td>\n",
              "      <td>False</td>\n",
              "      <td>False</td>\n",
              "    </tr>\n",
              "    <tr>\n",
              "      <th>40878</th>\n",
              "      <td>2018-06-14</td>\n",
              "      <td>KINGDOM HEARTS III – SQUARE ENIX E3 SHOWCASE 2...</td>\n",
              "      <td>Kingdom Hearts</td>\n",
              "      <td>20</td>\n",
              "      <td>Gaming</td>\n",
              "      <td>2018-06-11 17:30:53</td>\n",
              "      <td>773347.0</td>\n",
              "      <td>25900.0</td>\n",
              "      <td>224.0</td>\n",
              "      <td>3881.0</td>\n",
              "      <td>False</td>\n",
              "      <td>False</td>\n",
              "      <td>False</td>\n",
              "    </tr>\n",
              "    <tr>\n",
              "      <th>40879</th>\n",
              "      <td>2018-06-14</td>\n",
              "      <td>Trump Advisor Grovels To Trudeau</td>\n",
              "      <td>The Young Turks</td>\n",
              "      <td>25</td>\n",
              "      <td>News &amp; Politics</td>\n",
              "      <td>2018-06-13 04:00:05</td>\n",
              "      <td>115225.0</td>\n",
              "      <td>2115.0</td>\n",
              "      <td>182.0</td>\n",
              "      <td>1672.0</td>\n",
              "      <td>False</td>\n",
              "      <td>False</td>\n",
              "      <td>False</td>\n",
              "    </tr>\n",
              "    <tr>\n",
              "      <th>40880</th>\n",
              "      <td>2018-06-14</td>\n",
              "      <td>【完整版】遇到恐怖情人該怎麼辦？2018.06.13小明星大跟班</td>\n",
              "      <td>我愛小明星大跟班</td>\n",
              "      <td>24</td>\n",
              "      <td>Entertainment</td>\n",
              "      <td>2018-06-13 16:00:03</td>\n",
              "      <td>107392.0</td>\n",
              "      <td>300.0</td>\n",
              "      <td>62.0</td>\n",
              "      <td>251.0</td>\n",
              "      <td>False</td>\n",
              "      <td>False</td>\n",
              "      <td>False</td>\n",
              "    </tr>\n",
              "  </tbody>\n",
              "</table>\n",
              "</div>\n",
              "    <div class=\"colab-df-buttons\">\n",
              "\n",
              "  <div class=\"colab-df-container\">\n",
              "    <button class=\"colab-df-convert\" onclick=\"convertToInteractive('df-6eea0d1e-25fb-479d-99e8-9e05544715b2')\"\n",
              "            title=\"Convert this dataframe to an interactive table.\"\n",
              "            style=\"display:none;\">\n",
              "\n",
              "  <svg xmlns=\"http://www.w3.org/2000/svg\" height=\"24px\" viewBox=\"0 -960 960 960\">\n",
              "    <path d=\"M120-120v-720h720v720H120Zm60-500h600v-160H180v160Zm220 220h160v-160H400v160Zm0 220h160v-160H400v160ZM180-400h160v-160H180v160Zm440 0h160v-160H620v160ZM180-180h160v-160H180v160Zm440 0h160v-160H620v160Z\"/>\n",
              "  </svg>\n",
              "    </button>\n",
              "\n",
              "  <style>\n",
              "    .colab-df-container {\n",
              "      display:flex;\n",
              "      gap: 12px;\n",
              "    }\n",
              "\n",
              "    .colab-df-convert {\n",
              "      background-color: #E8F0FE;\n",
              "      border: none;\n",
              "      border-radius: 50%;\n",
              "      cursor: pointer;\n",
              "      display: none;\n",
              "      fill: #1967D2;\n",
              "      height: 32px;\n",
              "      padding: 0 0 0 0;\n",
              "      width: 32px;\n",
              "    }\n",
              "\n",
              "    .colab-df-convert:hover {\n",
              "      background-color: #E2EBFA;\n",
              "      box-shadow: 0px 1px 2px rgba(60, 64, 67, 0.3), 0px 1px 3px 1px rgba(60, 64, 67, 0.15);\n",
              "      fill: #174EA6;\n",
              "    }\n",
              "\n",
              "    .colab-df-buttons div {\n",
              "      margin-bottom: 4px;\n",
              "    }\n",
              "\n",
              "    [theme=dark] .colab-df-convert {\n",
              "      background-color: #3B4455;\n",
              "      fill: #D2E3FC;\n",
              "    }\n",
              "\n",
              "    [theme=dark] .colab-df-convert:hover {\n",
              "      background-color: #434B5C;\n",
              "      box-shadow: 0px 1px 3px 1px rgba(0, 0, 0, 0.15);\n",
              "      filter: drop-shadow(0px 1px 2px rgba(0, 0, 0, 0.3));\n",
              "      fill: #FFFFFF;\n",
              "    }\n",
              "  </style>\n",
              "\n",
              "    <script>\n",
              "      const buttonEl =\n",
              "        document.querySelector('#df-6eea0d1e-25fb-479d-99e8-9e05544715b2 button.colab-df-convert');\n",
              "      buttonEl.style.display =\n",
              "        google.colab.kernel.accessAllowed ? 'block' : 'none';\n",
              "\n",
              "      async function convertToInteractive(key) {\n",
              "        const element = document.querySelector('#df-6eea0d1e-25fb-479d-99e8-9e05544715b2');\n",
              "        const dataTable =\n",
              "          await google.colab.kernel.invokeFunction('convertToInteractive',\n",
              "                                                    [key], {});\n",
              "        if (!dataTable) return;\n",
              "\n",
              "        const docLinkHtml = 'Like what you see? Visit the ' +\n",
              "          '<a target=\"_blank\" href=https://colab.research.google.com/notebooks/data_table.ipynb>data table notebook</a>'\n",
              "          + ' to learn more about interactive tables.';\n",
              "        element.innerHTML = '';\n",
              "        dataTable['output_type'] = 'display_data';\n",
              "        await google.colab.output.renderOutput(dataTable, element);\n",
              "        const docLink = document.createElement('div');\n",
              "        docLink.innerHTML = docLinkHtml;\n",
              "        element.appendChild(docLink);\n",
              "      }\n",
              "    </script>\n",
              "  </div>\n",
              "\n",
              "\n",
              "<div id=\"df-78305294-979b-4848-b12b-6f18a2c65a83\">\n",
              "  <button class=\"colab-df-quickchart\" onclick=\"quickchart('df-78305294-979b-4848-b12b-6f18a2c65a83')\"\n",
              "            title=\"Suggest charts\"\n",
              "            style=\"display:none;\">\n",
              "\n",
              "<svg xmlns=\"http://www.w3.org/2000/svg\" height=\"24px\"viewBox=\"0 0 24 24\"\n",
              "     width=\"24px\">\n",
              "    <g>\n",
              "        <path d=\"M19 3H5c-1.1 0-2 .9-2 2v14c0 1.1.9 2 2 2h14c1.1 0 2-.9 2-2V5c0-1.1-.9-2-2-2zM9 17H7v-7h2v7zm4 0h-2V7h2v10zm4 0h-2v-4h2v4z\"/>\n",
              "    </g>\n",
              "</svg>\n",
              "  </button>\n",
              "\n",
              "<style>\n",
              "  .colab-df-quickchart {\n",
              "      --bg-color: #E8F0FE;\n",
              "      --fill-color: #1967D2;\n",
              "      --hover-bg-color: #E2EBFA;\n",
              "      --hover-fill-color: #174EA6;\n",
              "      --disabled-fill-color: #AAA;\n",
              "      --disabled-bg-color: #DDD;\n",
              "  }\n",
              "\n",
              "  [theme=dark] .colab-df-quickchart {\n",
              "      --bg-color: #3B4455;\n",
              "      --fill-color: #D2E3FC;\n",
              "      --hover-bg-color: #434B5C;\n",
              "      --hover-fill-color: #FFFFFF;\n",
              "      --disabled-bg-color: #3B4455;\n",
              "      --disabled-fill-color: #666;\n",
              "  }\n",
              "\n",
              "  .colab-df-quickchart {\n",
              "    background-color: var(--bg-color);\n",
              "    border: none;\n",
              "    border-radius: 50%;\n",
              "    cursor: pointer;\n",
              "    display: none;\n",
              "    fill: var(--fill-color);\n",
              "    height: 32px;\n",
              "    padding: 0;\n",
              "    width: 32px;\n",
              "  }\n",
              "\n",
              "  .colab-df-quickchart:hover {\n",
              "    background-color: var(--hover-bg-color);\n",
              "    box-shadow: 0 1px 2px rgba(60, 64, 67, 0.3), 0 1px 3px 1px rgba(60, 64, 67, 0.15);\n",
              "    fill: var(--button-hover-fill-color);\n",
              "  }\n",
              "\n",
              "  .colab-df-quickchart-complete:disabled,\n",
              "  .colab-df-quickchart-complete:disabled:hover {\n",
              "    background-color: var(--disabled-bg-color);\n",
              "    fill: var(--disabled-fill-color);\n",
              "    box-shadow: none;\n",
              "  }\n",
              "\n",
              "  .colab-df-spinner {\n",
              "    border: 2px solid var(--fill-color);\n",
              "    border-color: transparent;\n",
              "    border-bottom-color: var(--fill-color);\n",
              "    animation:\n",
              "      spin 1s steps(1) infinite;\n",
              "  }\n",
              "\n",
              "  @keyframes spin {\n",
              "    0% {\n",
              "      border-color: transparent;\n",
              "      border-bottom-color: var(--fill-color);\n",
              "      border-left-color: var(--fill-color);\n",
              "    }\n",
              "    20% {\n",
              "      border-color: transparent;\n",
              "      border-left-color: var(--fill-color);\n",
              "      border-top-color: var(--fill-color);\n",
              "    }\n",
              "    30% {\n",
              "      border-color: transparent;\n",
              "      border-left-color: var(--fill-color);\n",
              "      border-top-color: var(--fill-color);\n",
              "      border-right-color: var(--fill-color);\n",
              "    }\n",
              "    40% {\n",
              "      border-color: transparent;\n",
              "      border-right-color: var(--fill-color);\n",
              "      border-top-color: var(--fill-color);\n",
              "    }\n",
              "    60% {\n",
              "      border-color: transparent;\n",
              "      border-right-color: var(--fill-color);\n",
              "    }\n",
              "    80% {\n",
              "      border-color: transparent;\n",
              "      border-right-color: var(--fill-color);\n",
              "      border-bottom-color: var(--fill-color);\n",
              "    }\n",
              "    90% {\n",
              "      border-color: transparent;\n",
              "      border-bottom-color: var(--fill-color);\n",
              "    }\n",
              "  }\n",
              "</style>\n",
              "\n",
              "  <script>\n",
              "    async function quickchart(key) {\n",
              "      const quickchartButtonEl =\n",
              "        document.querySelector('#' + key + ' button');\n",
              "      quickchartButtonEl.disabled = true;  // To prevent multiple clicks.\n",
              "      quickchartButtonEl.classList.add('colab-df-spinner');\n",
              "      try {\n",
              "        const charts = await google.colab.kernel.invokeFunction(\n",
              "            'suggestCharts', [key], {});\n",
              "      } catch (error) {\n",
              "        console.error('Error during call to suggestCharts:', error);\n",
              "      }\n",
              "      quickchartButtonEl.classList.remove('colab-df-spinner');\n",
              "      quickchartButtonEl.classList.add('colab-df-quickchart-complete');\n",
              "    }\n",
              "    (() => {\n",
              "      let quickchartButtonEl =\n",
              "        document.querySelector('#df-78305294-979b-4848-b12b-6f18a2c65a83 button');\n",
              "      quickchartButtonEl.style.display =\n",
              "        google.colab.kernel.accessAllowed ? 'block' : 'none';\n",
              "    })();\n",
              "  </script>\n",
              "</div>\n",
              "    </div>\n",
              "  </div>\n"
            ]
          },
          "metadata": {},
          "execution_count": 35
        }
      ]
    },
    {
      "cell_type": "markdown",
      "source": [
        "# **3. Analysis**"
      ],
      "metadata": {
        "id": "-uDboOl2YpCO"
      }
    },
    {
      "cell_type": "markdown",
      "source": [
        "Questions:\n",
        "\n",
        "1. What is the category that has the highest number of videos (the one that has been posted most frequent)?\n",
        "\n",
        "2. What is the most popular category (the one that receives the highest number of likes)?\n",
        "\n",
        "3. What is the channel that posted the most frequent?\n",
        "\n",
        "4. Which channel has got the highest number of views?\n",
        "\n",
        "5. Which channel has got the highest number of likes?\n",
        "\n",
        "---\n",
        "\n"
      ],
      "metadata": {
        "id": "3YJ9Rco-k_OX"
      }
    },
    {
      "cell_type": "markdown",
      "source": [
        "**Q1. What is the category that has the highest number of videos (the one that has been posted most frequent)?**\n",
        "\n",
        "---\n",
        "\n",
        "\n"
      ],
      "metadata": {
        "id": "0vf1THmQ1i5Z"
      }
    },
    {
      "cell_type": "markdown",
      "source": [
        "*So we have to find the total number of videos appeared in each category.*\n",
        "\n",
        "---\n",
        "\n"
      ],
      "metadata": {
        "id": "7oTAfcB81w_s"
      }
    },
    {
      "cell_type": "code",
      "source": [
        "# count the number of rows in each category\n",
        "categories = df['category'].value_counts()\n",
        "categories"
      ],
      "metadata": {
        "id": "rUvNr8Xjk6Ca",
        "colab": {
          "base_uri": "https://localhost:8080/"
        },
        "outputId": "33130df8-6d90-4d2a-c7d0-8177f4b05a5e"
      },
      "execution_count": 36,
      "outputs": [
        {
          "output_type": "execute_result",
          "data": {
            "text/plain": [
              "Entertainment           13451\n",
              "News & Politics          4159\n",
              "People & Blogs           4105\n",
              "Comedy                   3773\n",
              "Music                    3731\n",
              "Sports                   2787\n",
              "Film & Animation         2060\n",
              "Howto & Style            2007\n",
              "Gaming                   1344\n",
              "Science & Technology     1155\n",
              "Education                 991\n",
              "Travel & Events           392\n",
              "Pets & Animals            369\n",
              "Autos & Vehicles          353\n",
              "Shows                     124\n",
              "Movies                      6\n",
              "Name: category, dtype: int64"
            ]
          },
          "metadata": {},
          "execution_count": 36
        }
      ]
    },
    {
      "cell_type": "markdown",
      "source": [
        "***A1. Entertainment category has the higest number of videos. It covers 33% of the total.***"
      ],
      "metadata": {
        "id": "ntERzqJP4zai"
      }
    },
    {
      "cell_type": "code",
      "source": [
        "# show its pie chart\n",
        "fig = px.pie(\n",
        "    values=categories.values,\n",
        "    names=categories.index,\n",
        "    title='YouTube Categories',\n",
        "    template='presentation'\n",
        ")\n",
        "\n",
        "fig.update_traces(\n",
        "    textposition='inside',\n",
        "    textfont_size=12,\n",
        "    textinfo='percent+label'\n",
        ")\n",
        "\n",
        "fig.show()"
      ],
      "metadata": {
        "id": "Pxylx0yKk6GA",
        "colab": {
          "base_uri": "https://localhost:8080/",
          "height": 542
        },
        "outputId": "0a193b58-358c-4765-db11-f91f5b61bd18"
      },
      "execution_count": 47,
      "outputs": [
        {
          "output_type": "display_data",
          "data": {
            "text/html": [
              "<html>\n",
              "<head><meta charset=\"utf-8\" /></head>\n",
              "<body>\n",
              "    <div>            <script src=\"https://cdnjs.cloudflare.com/ajax/libs/mathjax/2.7.5/MathJax.js?config=TeX-AMS-MML_SVG\"></script><script type=\"text/javascript\">if (window.MathJax && window.MathJax.Hub && window.MathJax.Hub.Config) {window.MathJax.Hub.Config({SVG: {font: \"STIX-Web\"}});}</script>                <script type=\"text/javascript\">window.PlotlyConfig = {MathJaxConfig: 'local'};</script>\n",
              "        <script charset=\"utf-8\" src=\"https://cdn.plot.ly/plotly-2.24.1.min.js\"></script>                <div id=\"3e17c708-45f7-4e91-aba0-c47756226995\" class=\"plotly-graph-div\" style=\"height:525px; width:100%;\"></div>            <script type=\"text/javascript\">                                    window.PLOTLYENV=window.PLOTLYENV || {};                                    if (document.getElementById(\"3e17c708-45f7-4e91-aba0-c47756226995\")) {                    Plotly.newPlot(                        \"3e17c708-45f7-4e91-aba0-c47756226995\",                        [{\"domain\":{\"x\":[0.0,1.0],\"y\":[0.0,1.0]},\"hovertemplate\":\"label=%{label}\\u003cbr\\u003evalue=%{value}\\u003cextra\\u003e\\u003c\\u002fextra\\u003e\",\"labels\":[\"Entertainment\",\"News & Politics\",\"People & Blogs\",\"Comedy\",\"Music\",\"Sports\",\"Film & Animation\",\"Howto & Style\",\"Gaming\",\"Science & Technology\",\"Education\",\"Travel & Events\",\"Pets & Animals\",\"Autos & Vehicles\",\"Shows\",\"Movies\"],\"legendgroup\":\"\",\"name\":\"\",\"showlegend\":true,\"values\":[13451,4159,4105,3773,3731,2787,2060,2007,1344,1155,991,392,369,353,124,6],\"type\":\"pie\",\"textfont\":{\"size\":12},\"textinfo\":\"percent+label\",\"textposition\":\"inside\"}],                        {\"template\":{\"data\":{\"pie\":[{\"automargin\":true,\"type\":\"pie\"}],\"scatter3d\":[{\"line\":{\"width\":3},\"marker\":{\"size\":9},\"type\":\"scatter3d\"}],\"scattergeo\":[{\"line\":{\"width\":3},\"marker\":{\"size\":9},\"type\":\"scattergeo\"}],\"scattergl\":[{\"line\":{\"width\":3},\"marker\":{\"size\":9},\"type\":\"scattergl\"}],\"scatterpolargl\":[{\"line\":{\"width\":3},\"marker\":{\"size\":9},\"type\":\"scatterpolargl\"}],\"scatterpolar\":[{\"line\":{\"width\":3},\"marker\":{\"size\":9},\"type\":\"scatterpolar\"}],\"scatter\":[{\"line\":{\"width\":3},\"marker\":{\"size\":9},\"type\":\"scatter\"}],\"scatterternary\":[{\"line\":{\"width\":3},\"marker\":{\"size\":9},\"type\":\"scatterternary\"}],\"table\":[{\"cells\":{\"height\":30},\"header\":{\"height\":36},\"type\":\"table\"}]},\"layout\":{\"font\":{\"size\":18},\"xaxis\":{\"title\":{\"standoff\":15}},\"yaxis\":{\"title\":{\"standoff\":15}}}},\"legend\":{\"tracegroupgap\":0},\"title\":{\"text\":\"YouTube Categories\"}},                        {\"responsive\": true}                    ).then(function(){\n",
              "                            \n",
              "var gd = document.getElementById('3e17c708-45f7-4e91-aba0-c47756226995');\n",
              "var x = new MutationObserver(function (mutations, observer) {{\n",
              "        var display = window.getComputedStyle(gd).display;\n",
              "        if (!display || display === 'none') {{\n",
              "            console.log([gd, 'removed!']);\n",
              "            Plotly.purge(gd);\n",
              "            observer.disconnect();\n",
              "        }}\n",
              "}});\n",
              "\n",
              "// Listen for the removal of the full notebook cells\n",
              "var notebookContainer = gd.closest('#notebook-container');\n",
              "if (notebookContainer) {{\n",
              "    x.observe(notebookContainer, {childList: true});\n",
              "}}\n",
              "\n",
              "// Listen for the clearing of the current output cell\n",
              "var outputEl = gd.closest('.output');\n",
              "if (outputEl) {{\n",
              "    x.observe(outputEl, {childList: true});\n",
              "}}\n",
              "\n",
              "                        })                };                            </script>        </div>\n",
              "</body>\n",
              "</html>"
            ]
          },
          "metadata": {}
        }
      ]
    },
    {
      "cell_type": "markdown",
      "source": [
        "**Q2. What is the most popular category (the one that receives the highest number of likes)?**\n",
        "\n",
        "---\n",
        "\n"
      ],
      "metadata": {
        "id": "QoH8ZAJd5nQB"
      }
    },
    {
      "cell_type": "code",
      "source": [
        "# group the category and show its total likes in descending order\n",
        "df.groupby('category')['likes'].sum().sort_values(ascending=False)"
      ],
      "metadata": {
        "id": "st1joDjQk6SG",
        "colab": {
          "base_uri": "https://localhost:8080/"
        },
        "outputId": "d9315d67-8321-4cfa-ec26-d1dfa19d585b"
      },
      "execution_count": 59,
      "outputs": [
        {
          "output_type": "execute_result",
          "data": {
            "text/plain": [
              "category\n",
              "Music                   564447530.0\n",
              "Entertainment           387245433.0\n",
              "Comedy                  196046674.0\n",
              "People & Blogs          105388564.0\n",
              "Film & Animation         77802003.0\n",
              "Sports                   59449419.0\n",
              "Gaming                   51726552.0\n",
              "Howto & Style            51183104.0\n",
              "Science & Technology     42814598.0\n",
              "News & Politics          32705054.0\n",
              "Education                20972402.0\n",
              "Pets & Animals            8830736.0\n",
              "Autos & Vehicles          4732114.0\n",
              "Travel & Events           3750914.0\n",
              "Shows                      589263.0\n",
              "Movies                     252905.0\n",
              "Name: likes, dtype: float64"
            ]
          },
          "metadata": {},
          "execution_count": 59
        }
      ]
    },
    {
      "cell_type": "markdown",
      "source": [
        "***A2. Music category has the highest number of likes with 564,447,530 likes.***\n",
        "\n",
        "---\n",
        "\n"
      ],
      "metadata": {
        "id": "_isH9r7k93rI"
      }
    },
    {
      "cell_type": "code",
      "source": [
        "# extra: show the average number of likes in each category through bar chart (average = number of likes/number of video posted)\n",
        "plt.figure(figsize=(10, 4))\n",
        "sns.barplot(x='category', y='likes', data=df)\n",
        "plt.title('Average number of likes in each category')\n",
        "plt.xticks(rotation='vertical')\n",
        "plt.ticklabel_format(axis='y', style='plain')\n",
        "plt.legend()"
      ],
      "metadata": {
        "id": "xdJi2Zbak6WQ",
        "colab": {
          "base_uri": "https://localhost:8080/",
          "height": 582
        },
        "outputId": "ebfdcfe7-4bfa-4aef-fa05-6c7666b3cf9b"
      },
      "execution_count": 67,
      "outputs": [
        {
          "output_type": "stream",
          "name": "stderr",
          "text": [
            "WARNING:matplotlib.legend:No artists with labels found to put in legend.  Note that artists whose label start with an underscore are ignored when legend() is called with no argument.\n"
          ]
        },
        {
          "output_type": "execute_result",
          "data": {
            "text/plain": [
              "<matplotlib.legend.Legend at 0x7ea269d8cf70>"
            ]
          },
          "metadata": {},
          "execution_count": 67
        },
        {
          "output_type": "display_data",
          "data": {
            "text/plain": [
              "<Figure size 1000x400 with 1 Axes>"
            ],
            "image/png": "[encoded data removed]"
          },
          "metadata": {}
        }
      ]
    },
    {
      "cell_type": "markdown",
      "source": [
        "*We found that music category has the highest number of average likes. Meaning that videos ralated to music was posted 3,731 times and has received 564,447,530 likes. So on average, one post of music video will receive 151,285 likes.*"
      ],
      "metadata": {
        "id": "SASMy8MrAar7"
      }
    },
    {
      "cell_type": "markdown",
      "source": [
        "**3. What is the channel that posted the most frequent?**\n",
        "\n",
        "---\n",
        "\n"
      ],
      "metadata": {
        "id": "jmbw9OSsAUUb"
      }
    },
    {
      "cell_type": "code",
      "source": [
        "# count the number of videos in each channel\n",
        "df1 = df.groupby('channel_title').count().sort_values(by='likes', ascending=False)['category'].head(10)\n",
        "df1"
      ],
      "metadata": {
        "id": "Gl_girhPk6az",
        "colab": {
          "base_uri": "https://localhost:8080/"
        },
        "outputId": "cb7d63fa-30fb-4245-a915-5bd306610c3e"
      },
      "execution_count": 92,
      "outputs": [
        {
          "output_type": "execute_result",
          "data": {
            "text/plain": [
              "channel_title\n",
              "SET India                             192\n",
              "MSNBC                                 189\n",
              "FBE                                   188\n",
              "The Young Turks                       186\n",
              "REACT                                 183\n",
              "VikatanTV                             182\n",
              "CNN                                   180\n",
              "The Late Show with Stephen Colbert    172\n",
              "RadaanMedia                           168\n",
              "ARY Digital                           168\n",
              "Name: category, dtype: int64"
            ]
          },
          "metadata": {},
          "execution_count": 92
        }
      ]
    },
    {
      "cell_type": "markdown",
      "source": [
        "***A3. SET India channel has posted most frequent which is 192 times.***\n",
        "\n",
        "---\n",
        "\n"
      ],
      "metadata": {
        "id": "cj6UZRB1Eh_U"
      }
    },
    {
      "cell_type": "code",
      "source": [
        "# show its bar graph\n",
        "plt.figure(figsize=(8, 4))\n",
        "df1.plot.bar().bar_label(df1.plot.bar().containers[0])\n",
        "plt.ylim(0, 300)\n",
        "plt.xlabel('Channel')\n",
        "plt.ylabel('Occurence')\n",
        "plt.show()"
      ],
      "metadata": {
        "id": "h9tw1C7yk6fo",
        "colab": {
          "base_uri": "https://localhost:8080/",
          "height": 633
        },
        "outputId": "8fb9f970-ac9c-479d-a630-99c2aca6e73e"
      },
      "execution_count": 93,
      "outputs": [
        {
          "output_type": "display_data",
          "data": {
            "text/plain": [
              "<Figure size 800x400 with 1 Axes>"
            ],
            "image/png": "[encoded data removed]"
          },
          "metadata": {}
        }
      ]
    },
    {
      "cell_type": "code",
      "source": [
        "# extra: count the number of unqiue channels\n",
        "df['channel_title'].nunique( )"
      ],
      "metadata": {
        "id": "rWHH-8qTk6kU",
        "colab": {
          "base_uri": "https://localhost:8080/"
        },
        "outputId": "4749abe2-6a26-43dc-da57-e0adcb4c0e3c"
      },
      "execution_count": 98,
      "outputs": [
        {
          "output_type": "execute_result",
          "data": {
            "text/plain": [
              "5076"
            ]
          },
          "metadata": {},
          "execution_count": 98
        }
      ]
    },
    {
      "cell_type": "markdown",
      "source": [
        "**Q4. Which channel has got the highest number of views?**\n",
        "\n",
        "---\n",
        "\n"
      ],
      "metadata": {
        "id": "qIUHO9n7Gffc"
      }
    },
    {
      "cell_type": "code",
      "source": [
        "# find the channel which has the highest number of views\n",
        "df2 = df.groupby('channel_title').sum().sort_values('views', ascending=False)['views'].head()\n",
        "#df2 = df2.apply(lambda x: format(x, '0f'))\n",
        "df2"
      ],
      "metadata": {
        "colab": {
          "base_uri": "https://localhost:8080/"
        },
        "id": "qfc1xuQsEtyZ",
        "outputId": "6702e03c-566a-42c1-b691-ffbf72d1199b"
      },
      "execution_count": 118,
      "outputs": [
        {
          "output_type": "stream",
          "name": "stderr",
          "text": [
            "<ipython-input-118-1a1cbf88fc4e>:2: FutureWarning:\n",
            "\n",
            "The default value of numeric_only in DataFrameGroupBy.sum is deprecated. In a future version, numeric_only will default to False. Either specify numeric_only or select only columns which should be valid for the function.\n",
            "\n"
          ]
        },
        {
          "output_type": "execute_result",
          "data": {
            "text/plain": [
              "channel_title\n",
              "Marvel Entertainment    1.011420e+09\n",
              "T-Series                7.991140e+08\n",
              "Dude Perfect            7.299163e+08\n",
              "YouTube Spotlight       6.359768e+08\n",
              "ibighit                 5.115679e+08\n",
              "Name: views, dtype: float64"
            ]
          },
          "metadata": {},
          "execution_count": 118
        }
      ]
    },
    {
      "cell_type": "markdown",
      "source": [
        "***A4. The channel that has got the highest number of views is Marvel Entertainment with 1,011,420,205 views.***\n",
        "\n",
        "---\n",
        "\n"
      ],
      "metadata": {
        "id": "kVCB3_yCI2BB"
      }
    },
    {
      "cell_type": "code",
      "source": [
        "# show its bar chart\n",
        "plt.figure(figsize=(8, 4))\n",
        "df2.plot.bar().bar_label(df2.plot.bar().containers[0])\n",
        "plt.ylabel('in billions')\n",
        "plt.ylim(0, 1500000000)\n",
        "plt.title('Channels with most views')\n",
        "#plt.ticklabel_format(axis='y', style='plain')\n",
        "plt.show()"
      ],
      "metadata": {
        "colab": {
          "base_uri": "https://localhost:8080/",
          "height": 548
        },
        "id": "TOJQSUcHEt1C",
        "outputId": "b1fcfeeb-e381-43eb-ca9a-25beff288fdf"
      },
      "execution_count": 137,
      "outputs": [
        {
          "output_type": "display_data",
          "data": {
            "text/plain": [
              "<Figure size 800x400 with 1 Axes>"
            ],
            "image/png": "[encoded data removed]"
          },
          "metadata": {}
        }
      ]
    },
    {
      "cell_type": "markdown",
      "source": [
        "**Q5. Which channel has got the highest number of likes?**\n",
        "\n",
        "---\n",
        "\n"
      ],
      "metadata": {
        "id": "28u288z0Kx6r"
      }
    },
    {
      "cell_type": "code",
      "source": [
        "# find the channel with highest number of likes\n",
        "df3 = df.groupby('channel_title').sum().sort_values('likes', ascending=False)['likes'].head()\n",
        "df3"
      ],
      "metadata": {
        "colab": {
          "base_uri": "https://localhost:8080/"
        },
        "id": "AoW7pLmxEt3p",
        "outputId": "4c2d92b6-5db6-493d-d6fc-846dd0ab29e9"
      },
      "execution_count": 129,
      "outputs": [
        {
          "output_type": "stream",
          "name": "stderr",
          "text": [
            "<ipython-input-129-ff23ce0b7a13>:2: FutureWarning:\n",
            "\n",
            "The default value of numeric_only in DataFrameGroupBy.sum is deprecated. In a future version, numeric_only will default to False. Either specify numeric_only or select only columns which should be valid for the function.\n",
            "\n"
          ]
        },
        {
          "output_type": "execute_result",
          "data": {
            "text/plain": [
              "channel_title\n",
              "ibighit                 50259874.0\n",
              "PewDiePie               33596931.0\n",
              "Marvel Entertainment    32892782.0\n",
              "Dude Perfect            28298398.0\n",
              "Logan Paul Vlogs        19592343.0\n",
              "Name: likes, dtype: float64"
            ]
          },
          "metadata": {},
          "execution_count": 129
        }
      ]
    },
    {
      "cell_type": "markdown",
      "source": [
        "***A5. ibighit has the highest number of likes which is 50,259,874 likes.***\n",
        "\n",
        "---\n",
        "\n"
      ],
      "metadata": {
        "id": "7o19ZNG6Lmhf"
      }
    },
    {
      "cell_type": "code",
      "source": [
        "# show its bar graph\n",
        "plt.figure(figsize=(8, 4))\n",
        "df3.plot.bar().bar_label(df3.plot.bar().containers[0])\n",
        "plt.ylim(0, 70000000)\n",
        "plt.ylabel('in 10 millions')\n",
        "plt.title('Channels with most likes')\n",
        "plt.show()"
      ],
      "metadata": {
        "colab": {
          "base_uri": "https://localhost:8080/",
          "height": 548
        },
        "id": "TofCQdcIKxVC",
        "outputId": "6e466cb9-9977-46b5-9803-e71c4d50b022"
      },
      "execution_count": 136,
      "outputs": [
        {
          "output_type": "display_data",
          "data": {
            "text/plain": [
              "<Figure size 800x400 with 1 Axes>"
            ],
            "image/png": "[encoded data removed]"
          },
          "metadata": {}
        }
      ]
    },
    {
      "cell_type": "markdown",
      "source": [
        "# **4. Conclusion**"
      ],
      "metadata": {
        "id": "yxxBUaZrk5US"
      }
    },
    {
      "cell_type": "markdown",
      "source": [
        "*A1. Entertainment category has the higest number of videos. It covers 33% of the total.*\n",
        "\n",
        "*A2. Music category has the highest number of likes with 564,447,530 likes.*\n",
        "\n",
        "*A3. SET India channel has posted most frequent which is 192 times.*\n",
        "\n",
        "*A4. The channel that has got the highest number of views is Marvel Entertainment with 1,011,420,205 views.*\n",
        "\n",
        "*A5. ibighit has the highest number of likes which is 50,259,874 likes.*\n",
        "\n",
        "---\n",
        "\n"
      ],
      "metadata": {
        "id": "aTNujG-KM4GV"
      }
    }
  ]
}