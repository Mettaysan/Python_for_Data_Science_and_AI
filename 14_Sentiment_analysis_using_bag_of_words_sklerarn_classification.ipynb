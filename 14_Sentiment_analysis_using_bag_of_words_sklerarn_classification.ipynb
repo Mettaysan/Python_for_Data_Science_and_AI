{
  "cells": [
    {
      "cell_type": "markdown",
      "metadata": {
        "id": "d_B6ZdW8T7Xg"
      },
      "source": [
        "**Textual analysis**\n",
        "\n",
        "**Model:**\n",
        "\n",
        "1. SVM\n",
        "\n",
        "2. Decision Tree\n",
        "\n",
        "3. Naive bayes\n",
        "\n",
        "4. Logistic Regression\n",
        "\n",
        "**Steps:**\n",
        "\n",
        "I. Import libaries\n",
        "\n",
        "II. Load data\n",
        "\n",
        "III. Train-test-split\n",
        "\n",
        "IV. Text vectorization\n",
        "\n",
        "V. Fit, cross-validation, predict and evaluate\n",
        "\n",
        "---\n",
        "\n"
      ]
    },
    {
      "cell_type": "markdown",
      "metadata": {
        "id": "dk-oejGKUBe8"
      },
      "source": [
        "# **0. Import libraries**"
      ]
    },
    {
      "cell_type": "code",
      "execution_count": 215,
      "metadata": {
        "colab": {
          "base_uri": "https://localhost:8080/"
        },
        "id": "mnqVu_xfTVsG",
        "outputId": "83a34a0d-9b51-40a5-d71b-0379ca074df3"
      },
      "outputs": [
        {
          "output_type": "stream",
          "name": "stderr",
          "text": [
            "[nltk_data] Downloading package movie_reviews to /root/nltk_data...\n",
            "[nltk_data]   Package movie_reviews is already up-to-date!\n"
          ]
        }
      ],
      "source": [
        "import nltk\n",
        "nltk.download('movie_reviews')\n",
        "from nltk.corpus import movie_reviews\n",
        "import random\n",
        "import numpy as np\n",
        "from collections import Counter\n",
        "from sklearn.model_selection import train_test_split, cross_val_score\n",
        "from sklearn.feature_extraction.text import TfidfVectorizer\n",
        "from sklearn import svm\n",
        "from sklearn.tree import DecisionTreeClassifier\n",
        "from sklearn.naive_bayes import GaussianNB\n",
        "from sklearn.linear_model import LogisticRegression\n",
        "from sklearn.metrics import f1_score, ConfusionMatrixDisplay, confusion_matrix"
      ]
    },
    {
      "cell_type": "markdown",
      "metadata": {
        "id": "0WBZNiW-UEvc"
      },
      "source": [
        "# **1. Load data**"
      ]
    },
    {
      "cell_type": "code",
      "execution_count": 216,
      "metadata": {
        "colab": {
          "base_uri": "https://localhost:8080/"
        },
        "id": "ENvm2GF1TVul",
        "outputId": "96780827-4a68-416f-b41b-c32ed5266ff8"
      },
      "outputs": [
        {
          "output_type": "execute_result",
          "data": {
            "text/plain": [
              "['neg/cv000_29416.txt',\n",
              " 'neg/cv001_19502.txt',\n",
              " 'neg/cv002_17424.txt',\n",
              " 'neg/cv003_12683.txt',\n",
              " 'neg/cv004_12641.txt',\n",
              " 'neg/cv005_29357.txt',\n",
              " 'neg/cv006_17022.txt',\n",
              " 'neg/cv007_4992.txt',\n",
              " 'neg/cv008_29326.txt',\n",
              " 'neg/cv009_29417.txt',\n",
              " 'neg/cv010_29063.txt',\n",
              " 'neg/cv011_13044.txt',\n",
              " 'neg/cv012_29411.txt',\n",
              " 'neg/cv013_10494.txt',\n",
              " 'neg/cv014_15600.txt',\n",
              " 'neg/cv015_29356.txt',\n",
              " 'neg/cv016_4348.txt',\n",
              " 'neg/cv017_23487.txt',\n",
              " 'neg/cv018_21672.txt',\n",
              " 'neg/cv019_16117.txt',\n",
              " 'neg/cv020_9234.txt',\n",
              " 'neg/cv021_17313.txt',\n",
              " 'neg/cv022_14227.txt',\n",
              " 'neg/cv023_13847.txt',\n",
              " 'neg/cv024_7033.txt',\n",
              " 'neg/cv025_29825.txt',\n",
              " 'neg/cv026_29229.txt',\n",
              " 'neg/cv027_26270.txt',\n",
              " 'neg/cv028_26964.txt',\n",
              " 'neg/cv029_19943.txt',\n",
              " 'neg/cv030_22893.txt',\n",
              " 'neg/cv031_19540.txt',\n",
              " 'neg/cv032_23718.txt',\n",
              " 'neg/cv033_25680.txt',\n",
              " 'neg/cv034_29446.txt',\n",
              " 'neg/cv035_3343.txt',\n",
              " 'neg/cv036_18385.txt',\n",
              " 'neg/cv037_19798.txt',\n",
              " 'neg/cv038_9781.txt',\n",
              " 'neg/cv039_5963.txt',\n",
              " 'neg/cv040_8829.txt',\n",
              " 'neg/cv041_22364.txt',\n",
              " 'neg/cv042_11927.txt',\n",
              " 'neg/cv043_16808.txt',\n",
              " 'neg/cv044_18429.txt',\n",
              " 'neg/cv045_25077.txt',\n",
              " 'neg/cv046_10613.txt',\n",
              " 'neg/cv047_18725.txt',\n",
              " 'neg/cv048_18380.txt',\n",
              " 'neg/cv049_21917.txt',\n",
              " 'neg/cv050_12128.txt',\n",
              " 'neg/cv051_10751.txt',\n",
              " 'neg/cv052_29318.txt',\n",
              " 'neg/cv053_23117.txt',\n",
              " 'neg/cv054_4101.txt',\n",
              " 'neg/cv055_8926.txt',\n",
              " 'neg/cv056_14663.txt',\n",
              " 'neg/cv057_7962.txt',\n",
              " 'neg/cv058_8469.txt',\n",
              " 'neg/cv059_28723.txt',\n",
              " 'neg/cv060_11754.txt',\n",
              " 'neg/cv061_9321.txt',\n",
              " 'neg/cv062_24556.txt',\n",
              " 'neg/cv063_28852.txt',\n",
              " 'neg/cv064_25842.txt',\n",
              " 'neg/cv065_16909.txt',\n",
              " 'neg/cv066_11668.txt',\n",
              " 'neg/cv067_21192.txt',\n",
              " 'neg/cv068_14810.txt',\n",
              " 'neg/cv069_11613.txt',\n",
              " 'neg/cv070_13249.txt',\n",
              " 'neg/cv071_12969.txt',\n",
              " 'neg/cv072_5928.txt',\n",
              " 'neg/cv073_23039.txt',\n",
              " 'neg/cv074_7188.txt',\n",
              " 'neg/cv075_6250.txt',\n",
              " 'neg/cv076_26009.txt',\n",
              " 'neg/cv077_23172.txt',\n",
              " 'neg/cv078_16506.txt',\n",
              " 'neg/cv079_12766.txt',\n",
              " 'neg/cv080_14899.txt',\n",
              " 'neg/cv081_18241.txt',\n",
              " 'neg/cv082_11979.txt',\n",
              " 'neg/cv083_25491.txt',\n",
              " 'neg/cv084_15183.txt',\n",
              " 'neg/cv085_15286.txt',\n",
              " 'neg/cv086_19488.txt',\n",
              " 'neg/cv087_2145.txt',\n",
              " 'neg/cv088_25274.txt',\n",
              " 'neg/cv089_12222.txt',\n",
              " 'neg/cv090_0049.txt',\n",
              " 'neg/cv091_7899.txt',\n",
              " 'neg/cv092_27987.txt',\n",
              " 'neg/cv093_15606.txt',\n",
              " 'neg/cv094_27868.txt',\n",
              " 'neg/cv095_28730.txt',\n",
              " 'neg/cv096_12262.txt',\n",
              " 'neg/cv097_26081.txt',\n",
              " 'neg/cv098_17021.txt',\n",
              " 'neg/cv099_11189.txt',\n",
              " 'neg/cv100_12406.txt',\n",
              " 'neg/cv101_10537.txt',\n",
              " 'neg/cv102_8306.txt',\n",
              " 'neg/cv103_11943.txt',\n",
              " 'neg/cv104_19176.txt',\n",
              " 'neg/cv105_19135.txt',\n",
              " 'neg/cv106_18379.txt',\n",
              " 'neg/cv107_25639.txt',\n",
              " 'neg/cv108_17064.txt',\n",
              " 'neg/cv109_22599.txt',\n",
              " 'neg/cv110_27832.txt',\n",
              " 'neg/cv111_12253.txt',\n",
              " 'neg/cv112_12178.txt',\n",
              " 'neg/cv113_24354.txt',\n",
              " 'neg/cv114_19501.txt',\n",
              " 'neg/cv115_26443.txt',\n",
              " 'neg/cv116_28734.txt',\n",
              " 'neg/cv117_25625.txt',\n",
              " 'neg/cv118_28837.txt',\n",
              " 'neg/cv119_9909.txt',\n",
              " 'neg/cv120_3793.txt',\n",
              " 'neg/cv121_18621.txt',\n",
              " 'neg/cv122_7891.txt',\n",
              " 'neg/cv123_12165.txt',\n",
              " 'neg/cv124_3903.txt',\n",
              " 'neg/cv125_9636.txt',\n",
              " 'neg/cv126_28821.txt',\n",
              " 'neg/cv127_16451.txt',\n",
              " 'neg/cv128_29444.txt',\n",
              " 'neg/cv129_18373.txt',\n",
              " 'neg/cv130_18521.txt',\n",
              " 'neg/cv131_11568.txt',\n",
              " 'neg/cv132_5423.txt',\n",
              " 'neg/cv133_18065.txt',\n",
              " 'neg/cv134_23300.txt',\n",
              " 'neg/cv135_12506.txt',\n",
              " 'neg/cv136_12384.txt',\n",
              " 'neg/cv137_17020.txt',\n",
              " 'neg/cv138_13903.txt',\n",
              " 'neg/cv139_14236.txt',\n",
              " 'neg/cv140_7963.txt',\n",
              " 'neg/cv141_17179.txt',\n",
              " 'neg/cv142_23657.txt',\n",
              " 'neg/cv143_21158.txt',\n",
              " 'neg/cv144_5010.txt',\n",
              " 'neg/cv145_12239.txt',\n",
              " 'neg/cv146_19587.txt',\n",
              " 'neg/cv147_22625.txt',\n",
              " 'neg/cv148_18084.txt',\n",
              " 'neg/cv149_17084.txt',\n",
              " 'neg/cv150_14279.txt',\n",
              " 'neg/cv151_17231.txt',\n",
              " 'neg/cv152_9052.txt',\n",
              " 'neg/cv153_11607.txt',\n",
              " 'neg/cv154_9562.txt',\n",
              " 'neg/cv155_7845.txt',\n",
              " 'neg/cv156_11119.txt',\n",
              " 'neg/cv157_29302.txt',\n",
              " 'neg/cv158_10914.txt',\n",
              " 'neg/cv159_29374.txt',\n",
              " 'neg/cv160_10848.txt',\n",
              " 'neg/cv161_12224.txt',\n",
              " 'neg/cv162_10977.txt',\n",
              " 'neg/cv163_10110.txt',\n",
              " 'neg/cv164_23451.txt',\n",
              " 'neg/cv165_2389.txt',\n",
              " 'neg/cv166_11959.txt',\n",
              " 'neg/cv167_18094.txt',\n",
              " 'neg/cv168_7435.txt',\n",
              " 'neg/cv169_24973.txt',\n",
              " 'neg/cv170_29808.txt',\n",
              " 'neg/cv171_15164.txt',\n",
              " 'neg/cv172_12037.txt',\n",
              " 'neg/cv173_4295.txt',\n",
              " 'neg/cv174_9735.txt',\n",
              " 'neg/cv175_7375.txt',\n",
              " 'neg/cv176_14196.txt',\n",
              " 'neg/cv177_10904.txt',\n",
              " 'neg/cv178_14380.txt',\n",
              " 'neg/cv179_9533.txt',\n",
              " 'neg/cv180_17823.txt',\n",
              " 'neg/cv181_16083.txt',\n",
              " 'neg/cv182_7791.txt',\n",
              " 'neg/cv183_19826.txt',\n",
              " 'neg/cv184_26935.txt',\n",
              " 'neg/cv185_28372.txt',\n",
              " 'neg/cv186_2396.txt',\n",
              " 'neg/cv187_14112.txt',\n",
              " 'neg/cv188_20687.txt',\n",
              " 'neg/cv189_24248.txt',\n",
              " 'neg/cv190_27176.txt',\n",
              " 'neg/cv191_29539.txt',\n",
              " 'neg/cv192_16079.txt',\n",
              " 'neg/cv193_5393.txt',\n",
              " 'neg/cv194_12855.txt',\n",
              " 'neg/cv195_16146.txt',\n",
              " 'neg/cv196_28898.txt',\n",
              " 'neg/cv197_29271.txt',\n",
              " 'neg/cv198_19313.txt',\n",
              " 'neg/cv199_9721.txt',\n",
              " 'neg/cv200_29006.txt',\n",
              " 'neg/cv201_7421.txt',\n",
              " 'neg/cv202_11382.txt',\n",
              " 'neg/cv203_19052.txt',\n",
              " 'neg/cv204_8930.txt',\n",
              " 'neg/cv205_9676.txt',\n",
              " 'neg/cv206_15893.txt',\n",
              " 'neg/cv207_29141.txt',\n",
              " 'neg/cv208_9475.txt',\n",
              " 'neg/cv209_28973.txt',\n",
              " 'neg/cv210_9557.txt',\n",
              " 'neg/cv211_9955.txt',\n",
              " 'neg/cv212_10054.txt',\n",
              " 'neg/cv213_20300.txt',\n",
              " 'neg/cv214_13285.txt',\n",
              " 'neg/cv215_23246.txt',\n",
              " 'neg/cv216_20165.txt',\n",
              " 'neg/cv217_28707.txt',\n",
              " 'neg/cv218_25651.txt',\n",
              " 'neg/cv219_19874.txt',\n",
              " 'neg/cv220_28906.txt',\n",
              " 'neg/cv221_27081.txt',\n",
              " 'neg/cv222_18720.txt',\n",
              " 'neg/cv223_28923.txt',\n",
              " 'neg/cv224_18875.txt',\n",
              " 'neg/cv225_29083.txt',\n",
              " 'neg/cv226_26692.txt',\n",
              " 'neg/cv227_25406.txt',\n",
              " 'neg/cv228_5644.txt',\n",
              " 'neg/cv229_15200.txt',\n",
              " 'neg/cv230_7913.txt',\n",
              " 'neg/cv231_11028.txt',\n",
              " 'neg/cv232_16768.txt',\n",
              " 'neg/cv233_17614.txt',\n",
              " 'neg/cv234_22123.txt',\n",
              " 'neg/cv235_10704.txt',\n",
              " 'neg/cv236_12427.txt',\n",
              " 'neg/cv237_20635.txt',\n",
              " 'neg/cv238_14285.txt',\n",
              " 'neg/cv239_29828.txt',\n",
              " 'neg/cv240_15948.txt',\n",
              " 'neg/cv241_24602.txt',\n",
              " 'neg/cv242_11354.txt',\n",
              " 'neg/cv243_22164.txt',\n",
              " 'neg/cv244_22935.txt',\n",
              " 'neg/cv245_8938.txt',\n",
              " 'neg/cv246_28668.txt',\n",
              " 'neg/cv247_14668.txt',\n",
              " 'neg/cv248_15672.txt',\n",
              " 'neg/cv249_12674.txt',\n",
              " 'neg/cv250_26462.txt',\n",
              " 'neg/cv251_23901.txt',\n",
              " 'neg/cv252_24974.txt',\n",
              " 'neg/cv253_10190.txt',\n",
              " 'neg/cv254_5870.txt',\n",
              " 'neg/cv255_15267.txt',\n",
              " 'neg/cv256_16529.txt',\n",
              " 'neg/cv257_11856.txt',\n",
              " 'neg/cv258_5627.txt',\n",
              " 'neg/cv259_11827.txt',\n",
              " 'neg/cv260_15652.txt',\n",
              " 'neg/cv261_11855.txt',\n",
              " 'neg/cv262_13812.txt',\n",
              " 'neg/cv263_20693.txt',\n",
              " 'neg/cv264_14108.txt',\n",
              " 'neg/cv265_11625.txt',\n",
              " 'neg/cv266_26644.txt',\n",
              " 'neg/cv267_16618.txt',\n",
              " 'neg/cv268_20288.txt',\n",
              " 'neg/cv269_23018.txt',\n",
              " 'neg/cv270_5873.txt',\n",
              " 'neg/cv271_15364.txt',\n",
              " 'neg/cv272_20313.txt',\n",
              " 'neg/cv273_28961.txt',\n",
              " 'neg/cv274_26379.txt',\n",
              " 'neg/cv275_28725.txt',\n",
              " 'neg/cv276_17126.txt',\n",
              " 'neg/cv277_20467.txt',\n",
              " 'neg/cv278_14533.txt',\n",
              " 'neg/cv279_19452.txt',\n",
              " 'neg/cv280_8651.txt',\n",
              " 'neg/cv281_24711.txt',\n",
              " 'neg/cv282_6833.txt',\n",
              " 'neg/cv283_11963.txt',\n",
              " 'neg/cv284_20530.txt',\n",
              " 'neg/cv285_18186.txt',\n",
              " 'neg/cv286_26156.txt',\n",
              " 'neg/cv287_17410.txt',\n",
              " 'neg/cv288_20212.txt',\n",
              " 'neg/cv289_6239.txt',\n",
              " 'neg/cv290_11981.txt',\n",
              " 'neg/cv291_26844.txt',\n",
              " 'neg/cv292_7804.txt',\n",
              " 'neg/cv293_29731.txt',\n",
              " 'neg/cv294_12695.txt',\n",
              " 'neg/cv295_17060.txt',\n",
              " 'neg/cv296_13146.txt',\n",
              " 'neg/cv297_10104.txt',\n",
              " 'neg/cv298_24487.txt',\n",
              " 'neg/cv299_17950.txt',\n",
              " 'neg/cv300_23302.txt',\n",
              " 'neg/cv301_13010.txt',\n",
              " 'neg/cv302_26481.txt',\n",
              " 'neg/cv303_27366.txt',\n",
              " 'neg/cv304_28489.txt',\n",
              " 'neg/cv305_9937.txt',\n",
              " 'neg/cv306_10859.txt',\n",
              " 'neg/cv307_26382.txt',\n",
              " 'neg/cv308_5079.txt',\n",
              " 'neg/cv309_23737.txt',\n",
              " 'neg/cv310_14568.txt',\n",
              " 'neg/cv311_17708.txt',\n",
              " 'neg/cv312_29308.txt',\n",
              " 'neg/cv313_19337.txt',\n",
              " 'neg/cv314_16095.txt',\n",
              " 'neg/cv315_12638.txt',\n",
              " 'neg/cv316_5972.txt',\n",
              " 'neg/cv317_25111.txt',\n",
              " 'neg/cv318_11146.txt',\n",
              " 'neg/cv319_16459.txt',\n",
              " 'neg/cv320_9693.txt',\n",
              " 'neg/cv321_14191.txt',\n",
              " 'neg/cv322_21820.txt',\n",
              " 'neg/cv323_29633.txt',\n",
              " 'neg/cv324_7502.txt',\n",
              " 'neg/cv325_18330.txt',\n",
              " 'neg/cv326_14777.txt',\n",
              " 'neg/cv327_21743.txt',\n",
              " 'neg/cv328_10908.txt',\n",
              " 'neg/cv329_29293.txt',\n",
              " 'neg/cv330_29675.txt',\n",
              " 'neg/cv331_8656.txt',\n",
              " 'neg/cv332_17997.txt',\n",
              " 'neg/cv333_9443.txt',\n",
              " 'neg/cv334_0074.txt',\n",
              " 'neg/cv335_16299.txt',\n",
              " 'neg/cv336_10363.txt',\n",
              " 'neg/cv337_29061.txt',\n",
              " 'neg/cv338_9183.txt',\n",
              " 'neg/cv339_22452.txt',\n",
              " 'neg/cv340_14776.txt',\n",
              " 'neg/cv341_25667.txt',\n",
              " 'neg/cv342_20917.txt',\n",
              " 'neg/cv343_10906.txt',\n",
              " 'neg/cv344_5376.txt',\n",
              " 'neg/cv345_9966.txt',\n",
              " 'neg/cv346_19198.txt',\n",
              " 'neg/cv347_14722.txt',\n",
              " 'neg/cv348_19207.txt',\n",
              " 'neg/cv349_15032.txt',\n",
              " 'neg/cv350_22139.txt',\n",
              " 'neg/cv351_17029.txt',\n",
              " 'neg/cv352_5414.txt',\n",
              " 'neg/cv353_19197.txt',\n",
              " 'neg/cv354_8573.txt',\n",
              " 'neg/cv355_18174.txt',\n",
              " 'neg/cv356_26170.txt',\n",
              " 'neg/cv357_14710.txt',\n",
              " 'neg/cv358_11557.txt',\n",
              " 'neg/cv359_6751.txt',\n",
              " 'neg/cv360_8927.txt',\n",
              " 'neg/cv361_28738.txt',\n",
              " 'neg/cv362_16985.txt',\n",
              " 'neg/cv363_29273.txt',\n",
              " 'neg/cv364_14254.txt',\n",
              " 'neg/cv365_12442.txt',\n",
              " 'neg/cv366_10709.txt',\n",
              " 'neg/cv367_24065.txt',\n",
              " 'neg/cv368_11090.txt',\n",
              " 'neg/cv369_14245.txt',\n",
              " 'neg/cv370_5338.txt',\n",
              " 'neg/cv371_8197.txt',\n",
              " 'neg/cv372_6654.txt',\n",
              " 'neg/cv373_21872.txt',\n",
              " 'neg/cv374_26455.txt',\n",
              " 'neg/cv375_9932.txt',\n",
              " 'neg/cv376_20883.txt',\n",
              " 'neg/cv377_8440.txt',\n",
              " 'neg/cv378_21982.txt',\n",
              " 'neg/cv379_23167.txt',\n",
              " 'neg/cv380_8164.txt',\n",
              " 'neg/cv381_21673.txt',\n",
              " 'neg/cv382_8393.txt',\n",
              " 'neg/cv383_14662.txt',\n",
              " 'neg/cv384_18536.txt',\n",
              " 'neg/cv385_29621.txt',\n",
              " 'neg/cv386_10229.txt',\n",
              " 'neg/cv387_12391.txt',\n",
              " 'neg/cv388_12810.txt',\n",
              " 'neg/cv389_9611.txt',\n",
              " 'neg/cv390_12187.txt',\n",
              " 'neg/cv391_11615.txt',\n",
              " 'neg/cv392_12238.txt',\n",
              " 'neg/cv393_29234.txt',\n",
              " 'neg/cv394_5311.txt',\n",
              " 'neg/cv395_11761.txt',\n",
              " 'neg/cv396_19127.txt',\n",
              " 'neg/cv397_28890.txt',\n",
              " 'neg/cv398_17047.txt',\n",
              " 'neg/cv399_28593.txt',\n",
              " 'neg/cv400_20631.txt',\n",
              " 'neg/cv401_13758.txt',\n",
              " 'neg/cv402_16097.txt',\n",
              " 'neg/cv403_6721.txt',\n",
              " 'neg/cv404_21805.txt',\n",
              " 'neg/cv405_21868.txt',\n",
              " 'neg/cv406_22199.txt',\n",
              " 'neg/cv407_23928.txt',\n",
              " 'neg/cv408_5367.txt',\n",
              " 'neg/cv409_29625.txt',\n",
              " 'neg/cv410_25624.txt',\n",
              " 'neg/cv411_16799.txt',\n",
              " 'neg/cv412_25254.txt',\n",
              " 'neg/cv413_7893.txt',\n",
              " 'neg/cv414_11161.txt',\n",
              " 'neg/cv415_23674.txt',\n",
              " 'neg/cv416_12048.txt',\n",
              " 'neg/cv417_14653.txt',\n",
              " 'neg/cv418_16562.txt',\n",
              " 'neg/cv419_14799.txt',\n",
              " 'neg/cv420_28631.txt',\n",
              " 'neg/cv421_9752.txt',\n",
              " 'neg/cv422_9632.txt',\n",
              " 'neg/cv423_12089.txt',\n",
              " 'neg/cv424_9268.txt',\n",
              " 'neg/cv425_8603.txt',\n",
              " 'neg/cv426_10976.txt',\n",
              " 'neg/cv427_11693.txt',\n",
              " 'neg/cv428_12202.txt',\n",
              " 'neg/cv429_7937.txt',\n",
              " 'neg/cv430_18662.txt',\n",
              " 'neg/cv431_7538.txt',\n",
              " 'neg/cv432_15873.txt',\n",
              " 'neg/cv433_10443.txt',\n",
              " 'neg/cv434_5641.txt',\n",
              " 'neg/cv435_24355.txt',\n",
              " 'neg/cv436_20564.txt',\n",
              " 'neg/cv437_24070.txt',\n",
              " 'neg/cv438_8500.txt',\n",
              " 'neg/cv439_17633.txt',\n",
              " 'neg/cv440_16891.txt',\n",
              " 'neg/cv441_15276.txt',\n",
              " 'neg/cv442_15499.txt',\n",
              " 'neg/cv443_22367.txt',\n",
              " 'neg/cv444_9975.txt',\n",
              " 'neg/cv445_26683.txt',\n",
              " 'neg/cv446_12209.txt',\n",
              " 'neg/cv447_27334.txt',\n",
              " 'neg/cv448_16409.txt',\n",
              " 'neg/cv449_9126.txt',\n",
              " 'neg/cv450_8319.txt',\n",
              " 'neg/cv451_11502.txt',\n",
              " 'neg/cv452_5179.txt',\n",
              " 'neg/cv453_10911.txt',\n",
              " 'neg/cv454_21961.txt',\n",
              " 'neg/cv455_28866.txt',\n",
              " 'neg/cv456_20370.txt',\n",
              " 'neg/cv457_19546.txt',\n",
              " 'neg/cv458_9000.txt',\n",
              " 'neg/cv459_21834.txt',\n",
              " 'neg/cv460_11723.txt',\n",
              " 'neg/cv461_21124.txt',\n",
              " 'neg/cv462_20788.txt',\n",
              " 'neg/cv463_10846.txt',\n",
              " 'neg/cv464_17076.txt',\n",
              " 'neg/cv465_23401.txt',\n",
              " 'neg/cv466_20092.txt',\n",
              " 'neg/cv467_26610.txt',\n",
              " 'neg/cv468_16844.txt',\n",
              " 'neg/cv469_21998.txt',\n",
              " 'neg/cv470_17444.txt',\n",
              " 'neg/cv471_18405.txt',\n",
              " 'neg/cv472_29140.txt',\n",
              " 'neg/cv473_7869.txt',\n",
              " 'neg/cv474_10682.txt',\n",
              " 'neg/cv475_22978.txt',\n",
              " 'neg/cv476_18402.txt',\n",
              " 'neg/cv477_23530.txt',\n",
              " 'neg/cv478_15921.txt',\n",
              " 'neg/cv479_5450.txt',\n",
              " 'neg/cv480_21195.txt',\n",
              " 'neg/cv481_7930.txt',\n",
              " 'neg/cv482_11233.txt',\n",
              " 'neg/cv483_18103.txt',\n",
              " 'neg/cv484_26169.txt',\n",
              " 'neg/cv485_26879.txt',\n",
              " 'neg/cv486_9788.txt',\n",
              " 'neg/cv487_11058.txt',\n",
              " 'neg/cv488_21453.txt',\n",
              " 'neg/cv489_19046.txt',\n",
              " 'neg/cv490_18986.txt',\n",
              " 'neg/cv491_12992.txt',\n",
              " 'neg/cv492_19370.txt',\n",
              " 'neg/cv493_14135.txt',\n",
              " 'neg/cv494_18689.txt',\n",
              " 'neg/cv495_16121.txt',\n",
              " 'neg/cv496_11185.txt',\n",
              " 'neg/cv497_27086.txt',\n",
              " 'neg/cv498_9288.txt',\n",
              " 'neg/cv499_11407.txt',\n",
              " 'neg/cv500_10722.txt',\n",
              " 'neg/cv501_12675.txt',\n",
              " 'neg/cv502_10970.txt',\n",
              " 'neg/cv503_11196.txt',\n",
              " 'neg/cv504_29120.txt',\n",
              " 'neg/cv505_12926.txt',\n",
              " 'neg/cv506_17521.txt',\n",
              " 'neg/cv507_9509.txt',\n",
              " 'neg/cv508_17742.txt',\n",
              " 'neg/cv509_17354.txt',\n",
              " 'neg/cv510_24758.txt',\n",
              " 'neg/cv511_10360.txt',\n",
              " 'neg/cv512_17618.txt',\n",
              " 'neg/cv513_7236.txt',\n",
              " 'neg/cv514_12173.txt',\n",
              " 'neg/cv515_18484.txt',\n",
              " 'neg/cv516_12117.txt',\n",
              " 'neg/cv517_20616.txt',\n",
              " 'neg/cv518_14798.txt',\n",
              " 'neg/cv519_16239.txt',\n",
              " 'neg/cv520_13297.txt',\n",
              " 'neg/cv521_1730.txt',\n",
              " 'neg/cv522_5418.txt',\n",
              " 'neg/cv523_18285.txt',\n",
              " 'neg/cv524_24885.txt',\n",
              " 'neg/cv525_17930.txt',\n",
              " 'neg/cv526_12868.txt',\n",
              " 'neg/cv527_10338.txt',\n",
              " 'neg/cv528_11669.txt',\n",
              " 'neg/cv529_10972.txt',\n",
              " 'neg/cv530_17949.txt',\n",
              " 'neg/cv531_26838.txt',\n",
              " 'neg/cv532_6495.txt',\n",
              " 'neg/cv533_9843.txt',\n",
              " 'neg/cv534_15683.txt',\n",
              " 'neg/cv535_21183.txt',\n",
              " 'neg/cv536_27221.txt',\n",
              " 'neg/cv537_13516.txt',\n",
              " 'neg/cv538_28485.txt',\n",
              " 'neg/cv539_21865.txt',\n",
              " 'neg/cv540_3092.txt',\n",
              " 'neg/cv541_28683.txt',\n",
              " 'neg/cv542_20359.txt',\n",
              " 'neg/cv543_5107.txt',\n",
              " 'neg/cv544_5301.txt',\n",
              " 'neg/cv545_12848.txt',\n",
              " 'neg/cv546_12723.txt',\n",
              " 'neg/cv547_18043.txt',\n",
              " 'neg/cv548_18944.txt',\n",
              " 'neg/cv549_22771.txt',\n",
              " 'neg/cv550_23226.txt',\n",
              " 'neg/cv551_11214.txt',\n",
              " 'neg/cv552_0150.txt',\n",
              " 'neg/cv553_26965.txt',\n",
              " 'neg/cv554_14678.txt',\n",
              " 'neg/cv555_25047.txt',\n",
              " 'neg/cv556_16563.txt',\n",
              " 'neg/cv557_12237.txt',\n",
              " 'neg/cv558_29376.txt',\n",
              " 'neg/cv559_0057.txt',\n",
              " 'neg/cv560_18608.txt',\n",
              " 'neg/cv561_9484.txt',\n",
              " 'neg/cv562_10847.txt',\n",
              " 'neg/cv563_18610.txt',\n",
              " 'neg/cv564_12011.txt',\n",
              " 'neg/cv565_29403.txt',\n",
              " 'neg/cv566_8967.txt',\n",
              " 'neg/cv567_29420.txt',\n",
              " 'neg/cv568_17065.txt',\n",
              " 'neg/cv569_26750.txt',\n",
              " 'neg/cv570_28960.txt',\n",
              " 'neg/cv571_29292.txt',\n",
              " 'neg/cv572_20053.txt',\n",
              " 'neg/cv573_29384.txt',\n",
              " 'neg/cv574_23191.txt',\n",
              " 'neg/cv575_22598.txt',\n",
              " 'neg/cv576_15688.txt',\n",
              " 'neg/cv577_28220.txt',\n",
              " 'neg/cv578_16825.txt',\n",
              " 'neg/cv579_12542.txt',\n",
              " 'neg/cv580_15681.txt',\n",
              " 'neg/cv581_20790.txt',\n",
              " 'neg/cv582_6678.txt',\n",
              " 'neg/cv583_29465.txt',\n",
              " 'neg/cv584_29549.txt',\n",
              " 'neg/cv585_23576.txt',\n",
              " 'neg/cv586_8048.txt',\n",
              " 'neg/cv587_20532.txt',\n",
              " 'neg/cv588_14467.txt',\n",
              " 'neg/cv589_12853.txt',\n",
              " 'neg/cv590_20712.txt',\n",
              " 'neg/cv591_24887.txt',\n",
              " 'neg/cv592_23391.txt',\n",
              " 'neg/cv593_11931.txt',\n",
              " 'neg/cv594_11945.txt',\n",
              " 'neg/cv595_26420.txt',\n",
              " 'neg/cv596_4367.txt',\n",
              " 'neg/cv597_26744.txt',\n",
              " 'neg/cv598_18184.txt',\n",
              " 'neg/cv599_22197.txt',\n",
              " 'neg/cv600_25043.txt',\n",
              " 'neg/cv601_24759.txt',\n",
              " 'neg/cv602_8830.txt',\n",
              " 'neg/cv603_18885.txt',\n",
              " 'neg/cv604_23339.txt',\n",
              " 'neg/cv605_12730.txt',\n",
              " 'neg/cv606_17672.txt',\n",
              " 'neg/cv607_8235.txt',\n",
              " 'neg/cv608_24647.txt',\n",
              " 'neg/cv609_25038.txt',\n",
              " 'neg/cv610_24153.txt',\n",
              " 'neg/cv611_2253.txt',\n",
              " 'neg/cv612_5396.txt',\n",
              " 'neg/cv613_23104.txt',\n",
              " 'neg/cv614_11320.txt',\n",
              " 'neg/cv615_15734.txt',\n",
              " 'neg/cv616_29187.txt',\n",
              " 'neg/cv617_9561.txt',\n",
              " 'neg/cv618_9469.txt',\n",
              " 'neg/cv619_13677.txt',\n",
              " 'neg/cv620_2556.txt',\n",
              " 'neg/cv621_15984.txt',\n",
              " 'neg/cv622_8583.txt',\n",
              " 'neg/cv623_16988.txt',\n",
              " 'neg/cv624_11601.txt',\n",
              " 'neg/cv625_13518.txt',\n",
              " 'neg/cv626_7907.txt',\n",
              " 'neg/cv627_12603.txt',\n",
              " 'neg/cv628_20758.txt',\n",
              " 'neg/cv629_16604.txt',\n",
              " 'neg/cv630_10152.txt',\n",
              " 'neg/cv631_4782.txt',\n",
              " 'neg/cv632_9704.txt',\n",
              " 'neg/cv633_29730.txt',\n",
              " 'neg/cv634_11989.txt',\n",
              " 'neg/cv635_0984.txt',\n",
              " 'neg/cv636_16954.txt',\n",
              " 'neg/cv637_13682.txt',\n",
              " 'neg/cv638_29394.txt',\n",
              " 'neg/cv639_10797.txt',\n",
              " 'neg/cv640_5380.txt',\n",
              " 'neg/cv641_13412.txt',\n",
              " 'neg/cv642_29788.txt',\n",
              " 'neg/cv643_29282.txt',\n",
              " 'neg/cv644_18551.txt',\n",
              " 'neg/cv645_17078.txt',\n",
              " 'neg/cv646_16817.txt',\n",
              " 'neg/cv647_15275.txt',\n",
              " 'neg/cv648_17277.txt',\n",
              " 'neg/cv649_13947.txt',\n",
              " 'neg/cv650_15974.txt',\n",
              " 'neg/cv651_11120.txt',\n",
              " 'neg/cv652_15653.txt',\n",
              " 'neg/cv653_2107.txt',\n",
              " 'neg/cv654_19345.txt',\n",
              " 'neg/cv655_12055.txt',\n",
              " 'neg/cv656_25395.txt',\n",
              " 'neg/cv657_25835.txt',\n",
              " 'neg/cv658_11186.txt',\n",
              " 'neg/cv659_21483.txt',\n",
              " 'neg/cv660_23140.txt',\n",
              " 'neg/cv661_25780.txt',\n",
              " 'neg/cv662_14791.txt',\n",
              " 'neg/cv663_14484.txt',\n",
              " 'neg/cv664_4264.txt',\n",
              " 'neg/cv665_29386.txt',\n",
              " 'neg/cv666_20301.txt',\n",
              " 'neg/cv667_19672.txt',\n",
              " 'neg/cv668_18848.txt',\n",
              " 'neg/cv669_24318.txt',\n",
              " 'neg/cv670_2666.txt',\n",
              " 'neg/cv671_5164.txt',\n",
              " 'neg/cv672_27988.txt',\n",
              " 'neg/cv673_25874.txt',\n",
              " 'neg/cv674_11593.txt',\n",
              " 'neg/cv675_22871.txt',\n",
              " 'neg/cv676_22202.txt',\n",
              " 'neg/cv677_18938.txt',\n",
              " 'neg/cv678_14887.txt',\n",
              " 'neg/cv679_28221.txt',\n",
              " 'neg/cv680_10533.txt',\n",
              " 'neg/cv681_9744.txt',\n",
              " 'neg/cv682_17947.txt',\n",
              " 'neg/cv683_13047.txt',\n",
              " 'neg/cv684_12727.txt',\n",
              " 'neg/cv685_5710.txt',\n",
              " 'neg/cv686_15553.txt',\n",
              " 'neg/cv687_22207.txt',\n",
              " 'neg/cv688_7884.txt',\n",
              " 'neg/cv689_13701.txt',\n",
              " 'neg/cv690_5425.txt',\n",
              " 'neg/cv691_5090.txt',\n",
              " 'neg/cv692_17026.txt',\n",
              " 'neg/cv693_19147.txt',\n",
              " 'neg/cv694_4526.txt',\n",
              " 'neg/cv695_22268.txt',\n",
              " 'neg/cv696_29619.txt',\n",
              " 'neg/cv697_12106.txt',\n",
              " 'neg/cv698_16930.txt',\n",
              " 'neg/cv699_7773.txt',\n",
              " 'neg/cv700_23163.txt',\n",
              " 'neg/cv701_15880.txt',\n",
              " 'neg/cv702_12371.txt',\n",
              " 'neg/cv703_17948.txt',\n",
              " 'neg/cv704_17622.txt',\n",
              " 'neg/cv705_11973.txt',\n",
              " 'neg/cv706_25883.txt',\n",
              " 'neg/cv707_11421.txt',\n",
              " 'neg/cv708_28539.txt',\n",
              " 'neg/cv709_11173.txt',\n",
              " 'neg/cv710_23745.txt',\n",
              " 'neg/cv711_12687.txt',\n",
              " 'neg/cv712_24217.txt',\n",
              " 'neg/cv713_29002.txt',\n",
              " 'neg/cv714_19704.txt',\n",
              " 'neg/cv715_19246.txt',\n",
              " 'neg/cv716_11153.txt',\n",
              " 'neg/cv717_17472.txt',\n",
              " 'neg/cv718_12227.txt',\n",
              " 'neg/cv719_5581.txt',\n",
              " 'neg/cv720_5383.txt',\n",
              " 'neg/cv721_28993.txt',\n",
              " 'neg/cv722_7571.txt',\n",
              " 'neg/cv723_9002.txt',\n",
              " 'neg/cv724_15265.txt',\n",
              " 'neg/cv725_10266.txt',\n",
              " 'neg/cv726_4365.txt',\n",
              " 'neg/cv727_5006.txt',\n",
              " 'neg/cv728_17931.txt',\n",
              " 'neg/cv729_10475.txt',\n",
              " 'neg/cv730_10729.txt',\n",
              " 'neg/cv731_3968.txt',\n",
              " 'neg/cv732_13092.txt',\n",
              " 'neg/cv733_9891.txt',\n",
              " 'neg/cv734_22821.txt',\n",
              " 'neg/cv735_20218.txt',\n",
              " 'neg/cv736_24947.txt',\n",
              " 'neg/cv737_28733.txt',\n",
              " 'neg/cv738_10287.txt',\n",
              " 'neg/cv739_12179.txt',\n",
              " 'neg/cv740_13643.txt',\n",
              " 'neg/cv741_12765.txt',\n",
              " 'neg/cv742_8279.txt',\n",
              " 'neg/cv743_17023.txt',\n",
              " 'neg/cv744_10091.txt',\n",
              " 'neg/cv745_14009.txt',\n",
              " 'neg/cv746_10471.txt',\n",
              " 'neg/cv747_18189.txt',\n",
              " 'neg/cv748_14044.txt',\n",
              " 'neg/cv749_18960.txt',\n",
              " 'neg/cv750_10606.txt',\n",
              " 'neg/cv751_17208.txt',\n",
              " 'neg/cv752_25330.txt',\n",
              " 'neg/cv753_11812.txt',\n",
              " 'neg/cv754_7709.txt',\n",
              " 'neg/cv755_24881.txt',\n",
              " 'neg/cv756_23676.txt',\n",
              " 'neg/cv757_10668.txt',\n",
              " 'neg/cv758_9740.txt',\n",
              " 'neg/cv759_15091.txt',\n",
              " 'neg/cv760_8977.txt',\n",
              " 'neg/cv761_13769.txt',\n",
              " 'neg/cv762_15604.txt',\n",
              " 'neg/cv763_16486.txt',\n",
              " 'neg/cv764_12701.txt',\n",
              " 'neg/cv765_20429.txt',\n",
              " 'neg/cv766_7983.txt',\n",
              " 'neg/cv767_15673.txt',\n",
              " 'neg/cv768_12709.txt',\n",
              " 'neg/cv769_8565.txt',\n",
              " 'neg/cv770_11061.txt',\n",
              " 'neg/cv771_28466.txt',\n",
              " 'neg/cv772_12971.txt',\n",
              " 'neg/cv773_20264.txt',\n",
              " 'neg/cv774_15488.txt',\n",
              " 'neg/cv775_17966.txt',\n",
              " 'neg/cv776_21934.txt',\n",
              " 'neg/cv777_10247.txt',\n",
              " 'neg/cv778_18629.txt',\n",
              " 'neg/cv779_18989.txt',\n",
              " 'neg/cv780_8467.txt',\n",
              " 'neg/cv781_5358.txt',\n",
              " 'neg/cv782_21078.txt',\n",
              " 'neg/cv783_14724.txt',\n",
              " 'neg/cv784_16077.txt',\n",
              " 'neg/cv785_23748.txt',\n",
              " 'neg/cv786_23608.txt',\n",
              " 'neg/cv787_15277.txt',\n",
              " 'neg/cv788_26409.txt',\n",
              " 'neg/cv789_12991.txt',\n",
              " 'neg/cv790_16202.txt',\n",
              " 'neg/cv791_17995.txt',\n",
              " 'neg/cv792_3257.txt',\n",
              " 'neg/cv793_15235.txt',\n",
              " 'neg/cv794_17353.txt',\n",
              " 'neg/cv795_10291.txt',\n",
              " 'neg/cv796_17243.txt',\n",
              " 'neg/cv797_7245.txt',\n",
              " 'neg/cv798_24779.txt',\n",
              " 'neg/cv799_19812.txt',\n",
              " 'neg/cv800_13494.txt',\n",
              " 'neg/cv801_26335.txt',\n",
              " 'neg/cv802_28381.txt',\n",
              " 'neg/cv803_8584.txt',\n",
              " 'neg/cv804_11763.txt',\n",
              " 'neg/cv805_21128.txt',\n",
              " 'neg/cv806_9405.txt',\n",
              " 'neg/cv807_23024.txt',\n",
              " 'neg/cv808_13773.txt',\n",
              " 'neg/cv809_5012.txt',\n",
              " 'neg/cv810_13660.txt',\n",
              " 'neg/cv811_22646.txt',\n",
              " 'neg/cv812_19051.txt',\n",
              " 'neg/cv813_6649.txt',\n",
              " 'neg/cv814_20316.txt',\n",
              " 'neg/cv815_23466.txt',\n",
              " 'neg/cv816_15257.txt',\n",
              " 'neg/cv817_3675.txt',\n",
              " 'neg/cv818_10698.txt',\n",
              " 'neg/cv819_9567.txt',\n",
              " 'neg/cv820_24157.txt',\n",
              " 'neg/cv821_29283.txt',\n",
              " 'neg/cv822_21545.txt',\n",
              " 'neg/cv823_17055.txt',\n",
              " 'neg/cv824_9335.txt',\n",
              " 'neg/cv825_5168.txt',\n",
              " 'neg/cv826_12761.txt',\n",
              " 'neg/cv827_19479.txt',\n",
              " 'neg/cv828_21392.txt',\n",
              " 'neg/cv829_21725.txt',\n",
              " 'neg/cv830_5778.txt',\n",
              " 'neg/cv831_16325.txt',\n",
              " 'neg/cv832_24713.txt',\n",
              " 'neg/cv833_11961.txt',\n",
              " 'neg/cv834_23192.txt',\n",
              " 'neg/cv835_20531.txt',\n",
              " 'neg/cv836_14311.txt',\n",
              " 'neg/cv837_27232.txt',\n",
              " 'neg/cv838_25886.txt',\n",
              " 'neg/cv839_22807.txt',\n",
              " 'neg/cv840_18033.txt',\n",
              " 'neg/cv841_3367.txt',\n",
              " 'neg/cv842_5702.txt',\n",
              " 'neg/cv843_17054.txt',\n",
              " 'neg/cv844_13890.txt',\n",
              " 'neg/cv845_15886.txt',\n",
              " 'neg/cv846_29359.txt',\n",
              " 'neg/cv847_20855.txt',\n",
              " 'neg/cv848_10061.txt',\n",
              " 'neg/cv849_17215.txt',\n",
              " 'neg/cv850_18185.txt',\n",
              " 'neg/cv851_21895.txt',\n",
              " 'neg/cv852_27512.txt',\n",
              " 'neg/cv853_29119.txt',\n",
              " 'neg/cv854_18955.txt',\n",
              " 'neg/cv855_22134.txt',\n",
              " 'neg/cv856_28882.txt',\n",
              " 'neg/cv857_17527.txt',\n",
              " 'neg/cv858_20266.txt',\n",
              " 'neg/cv859_15689.txt',\n",
              " 'neg/cv860_15520.txt',\n",
              " 'neg/cv861_12809.txt',\n",
              " 'neg/cv862_15924.txt',\n",
              " 'neg/cv863_7912.txt',\n",
              " 'neg/cv864_3087.txt',\n",
              " 'neg/cv865_28796.txt',\n",
              " 'neg/cv866_29447.txt',\n",
              " 'neg/cv867_18362.txt',\n",
              " 'neg/cv868_12799.txt',\n",
              " 'neg/cv869_24782.txt',\n",
              " 'neg/cv870_18090.txt',\n",
              " 'neg/cv871_25971.txt',\n",
              " 'neg/cv872_13710.txt',\n",
              " 'neg/cv873_19937.txt',\n",
              " 'neg/cv874_12182.txt',\n",
              " 'neg/cv875_5622.txt',\n",
              " 'neg/cv876_9633.txt',\n",
              " 'neg/cv877_29132.txt',\n",
              " 'neg/cv878_17204.txt',\n",
              " 'neg/cv879_16585.txt',\n",
              " 'neg/cv880_29629.txt',\n",
              " 'neg/cv881_14767.txt',\n",
              " 'neg/cv882_10042.txt',\n",
              " 'neg/cv883_27621.txt',\n",
              " 'neg/cv884_15230.txt',\n",
              " 'neg/cv885_13390.txt',\n",
              " 'neg/cv886_19210.txt',\n",
              " 'neg/cv887_5306.txt',\n",
              " 'neg/cv888_25678.txt',\n",
              " 'neg/cv889_22670.txt',\n",
              " 'neg/cv890_3515.txt',\n",
              " 'neg/cv891_6035.txt',\n",
              " 'neg/cv892_18788.txt',\n",
              " 'neg/cv893_26731.txt',\n",
              " 'neg/cv894_22140.txt',\n",
              " 'neg/cv895_22200.txt',\n",
              " 'neg/cv896_17819.txt',\n",
              " 'neg/cv897_11703.txt',\n",
              " 'neg/cv898_1576.txt',\n",
              " 'neg/cv899_17812.txt',\n",
              " 'neg/cv900_10800.txt',\n",
              " 'neg/cv901_11934.txt',\n",
              " 'neg/cv902_13217.txt',\n",
              " 'neg/cv903_18981.txt',\n",
              " 'neg/cv904_25663.txt',\n",
              " 'neg/cv905_28965.txt',\n",
              " 'neg/cv906_12332.txt',\n",
              " 'neg/cv907_3193.txt',\n",
              " 'neg/cv908_17779.txt',\n",
              " 'neg/cv909_9973.txt',\n",
              " 'neg/cv910_21930.txt',\n",
              " 'neg/cv911_21695.txt',\n",
              " 'neg/cv912_5562.txt',\n",
              " 'neg/cv913_29127.txt',\n",
              " 'neg/cv914_2856.txt',\n",
              " 'neg/cv915_9342.txt',\n",
              " 'neg/cv916_17034.txt',\n",
              " 'neg/cv917_29484.txt',\n",
              " 'neg/cv918_27080.txt',\n",
              " 'neg/cv919_18155.txt',\n",
              " 'neg/cv920_29423.txt',\n",
              " 'neg/cv921_13988.txt',\n",
              " 'neg/cv922_10185.txt',\n",
              " 'neg/cv923_11951.txt',\n",
              " 'neg/cv924_29397.txt',\n",
              " 'neg/cv925_9459.txt',\n",
              " 'neg/cv926_18471.txt',\n",
              " 'neg/cv927_11471.txt',\n",
              " 'neg/cv928_9478.txt',\n",
              " 'neg/cv929_1841.txt',\n",
              " 'neg/cv930_14949.txt',\n",
              " 'neg/cv931_18783.txt',\n",
              " 'neg/cv932_14854.txt',\n",
              " 'neg/cv933_24953.txt',\n",
              " 'neg/cv934_20426.txt',\n",
              " 'neg/cv935_24977.txt',\n",
              " 'neg/cv936_17473.txt',\n",
              " 'neg/cv937_9816.txt',\n",
              " 'neg/cv938_10706.txt',\n",
              " 'neg/cv939_11247.txt',\n",
              " 'neg/cv940_18935.txt',\n",
              " 'neg/cv941_10718.txt',\n",
              " 'neg/cv942_18509.txt',\n",
              " 'neg/cv943_23547.txt',\n",
              " 'neg/cv944_15042.txt',\n",
              " 'neg/cv945_13012.txt',\n",
              " 'neg/cv946_20084.txt',\n",
              " 'neg/cv947_11316.txt',\n",
              " 'neg/cv948_25870.txt',\n",
              " 'neg/cv949_21565.txt',\n",
              " 'neg/cv950_13478.txt',\n",
              " 'neg/cv951_11816.txt',\n",
              " 'neg/cv952_26375.txt',\n",
              " 'neg/cv953_7078.txt',\n",
              " 'neg/cv954_19932.txt',\n",
              " 'neg/cv955_26154.txt',\n",
              " 'neg/cv956_12547.txt',\n",
              " 'neg/cv957_9059.txt',\n",
              " 'neg/cv958_13020.txt',\n",
              " 'neg/cv959_16218.txt',\n",
              " 'neg/cv960_28877.txt',\n",
              " 'neg/cv961_5578.txt',\n",
              " 'neg/cv962_9813.txt',\n",
              " 'neg/cv963_7208.txt',\n",
              " 'neg/cv964_5794.txt',\n",
              " 'neg/cv965_26688.txt',\n",
              " 'neg/cv966_28671.txt',\n",
              " 'neg/cv967_5626.txt',\n",
              " 'neg/cv968_25413.txt',\n",
              " 'neg/cv969_14760.txt',\n",
              " 'neg/cv970_19532.txt',\n",
              " 'neg/cv971_11790.txt',\n",
              " 'neg/cv972_26837.txt',\n",
              " 'neg/cv973_10171.txt',\n",
              " 'neg/cv974_24303.txt',\n",
              " 'neg/cv975_11920.txt',\n",
              " 'neg/cv976_10724.txt',\n",
              " 'neg/cv977_4776.txt',\n",
              " 'neg/cv978_22192.txt',\n",
              " 'neg/cv979_2029.txt',\n",
              " 'neg/cv980_11851.txt',\n",
              " 'neg/cv981_16679.txt',\n",
              " 'neg/cv982_22209.txt',\n",
              " 'neg/cv983_24219.txt',\n",
              " 'neg/cv984_14006.txt',\n",
              " 'neg/cv985_5964.txt',\n",
              " 'neg/cv986_15092.txt',\n",
              " 'neg/cv987_7394.txt',\n",
              " 'neg/cv988_20168.txt',\n",
              " 'neg/cv989_17297.txt',\n",
              " 'neg/cv990_12443.txt',\n",
              " 'neg/cv991_19973.txt',\n",
              " 'neg/cv992_12806.txt',\n",
              " 'neg/cv993_29565.txt',\n",
              " 'neg/cv994_13229.txt',\n",
              " 'neg/cv995_23113.txt',\n",
              " 'neg/cv996_12447.txt',\n",
              " 'neg/cv997_5152.txt',\n",
              " 'neg/cv998_15691.txt',\n",
              " 'neg/cv999_14636.txt',\n",
              " ...]"
            ]
          },
          "metadata": {},
          "execution_count": 216
        }
      ],
      "source": [
        "# show file IDs\n",
        "movie_reviews.fileids()"
      ]
    },
    {
      "cell_type": "markdown",
      "metadata": {
        "id": "bI-X6bCbXFnz"
      },
      "source": [
        "*It seems like there are a lot of movie reviews. So let's check its number.*\n",
        "\n",
        "---\n",
        "\n"
      ]
    },
    {
      "cell_type": "code",
      "execution_count": 217,
      "metadata": {
        "colab": {
          "base_uri": "https://localhost:8080/"
        },
        "id": "2CpixH9bWTKj",
        "outputId": "ba225b83-6541-4481-cfd0-99802f4822ce"
      },
      "outputs": [
        {
          "output_type": "stream",
          "name": "stdout",
          "text": [
            "2000\n"
          ]
        }
      ],
      "source": [
        "# check the number of file IDs\n",
        "print(len(movie_reviews.fileids()))"
      ]
    },
    {
      "cell_type": "markdown",
      "metadata": {
        "id": "FshKKs53X4Pd"
      },
      "source": [
        "*There are a total 2,000 file IDs in the movie_reviews corpus.*\n",
        "\n",
        "---\n",
        "\n"
      ]
    },
    {
      "cell_type": "code",
      "execution_count": 218,
      "metadata": {
        "colab": {
          "base_uri": "https://localhost:8080/"
        },
        "id": "atXKjrwcX5_p",
        "outputId": "26a2dcc3-053e-4609-9d95-b8296978d955"
      },
      "outputs": [
        {
          "output_type": "execute_result",
          "data": {
            "text/plain": [
              "['neg', 'pos']"
            ]
          },
          "metadata": {},
          "execution_count": 218
        }
      ],
      "source": [
        "# check category\n",
        "movie_reviews.categories()"
      ]
    },
    {
      "cell_type": "code",
      "execution_count": 219,
      "metadata": {
        "colab": {
          "base_uri": "https://localhost:8080/"
        },
        "id": "QXwCpYmbX56y",
        "outputId": "7a4df46d-96a6-4f00-f839-ca8f2a52a207"
      },
      "outputs": [
        {
          "output_type": "stream",
          "name": "stdout",
          "text": [
            "['plot', ':', 'two', 'teen', 'couples', 'go', 'to', ...]\n"
          ]
        }
      ],
      "source": [
        "# show the words\n",
        "print(movie_reviews.words())"
      ]
    },
    {
      "cell_type": "code",
      "execution_count": 220,
      "metadata": {
        "id": "08uu3M72WTQB"
      },
      "outputs": [],
      "source": [
        "# rearrange the corpus data as a list of tuple\n",
        "documents = []\n",
        "for i in movie_reviews.categories():\n",
        "    for j in movie_reviews.fileids(i):\n",
        "        try:\n",
        "            words = movie_reviews.words(j)\n",
        "            documents.append((list(words), i))\n",
        "        except:\n",
        "            print(f'Error processing file ID {j}: {e}')"
      ]
    },
    {
      "cell_type": "code",
      "execution_count": 221,
      "metadata": {
        "id": "KC7F7eYzY9Cc"
      },
      "outputs": [],
      "source": [
        "# set a seed for the random number generator\n",
        "random.seed(123)"
      ]
    },
    {
      "cell_type": "code",
      "execution_count": 222,
      "metadata": {
        "colab": {
          "base_uri": "https://localhost:8080/"
        },
        "id": "JzqsqcTyeyCT",
        "outputId": "2868b280-a0f1-4317-c0a4-e4331d1f0070"
      },
      "outputs": [
        {
          "output_type": "stream",
          "name": "stdout",
          "text": [
            "(['plot', ':', 'two', 'teen', 'couples', 'go', 'to', 'a', 'church', 'party', ',', 'drink', 'and', 'then', 'drive', '.', 'they', 'get', 'into', 'an', 'accident', '.', 'one', 'of', 'the', 'guys', 'dies', ',', 'but', 'his', 'girlfriend', 'continues', 'to', 'see', 'him', 'in', 'her', 'life', ',', 'and', 'has', 'nightmares', '.', 'what', \"'\", 's', 'the', 'deal', '?', 'watch', 'the', 'movie', 'and', '\"', 'sorta', '\"', 'find', 'out', '.', '.', '.', 'critique', ':', 'a', 'mind', '-', 'fuck', 'movie', 'for', 'the', 'teen', 'generation', 'that', 'touches', 'on', 'a', 'very', 'cool', 'idea', ',', 'but', 'presents', 'it', 'in', 'a', 'very', 'bad', 'package', '.', 'which', 'is', 'what', 'makes', 'this', 'review', 'an', 'even', 'harder', 'one', 'to', 'write', ',', 'since', 'i', 'generally', 'applaud', 'films', 'which', 'attempt', 'to', 'break', 'the', 'mold', ',', 'mess', 'with', 'your', 'head', 'and', 'such', '(', 'lost', 'highway', '&', 'memento', ')', ',', 'but', 'there', 'are', 'good', 'and', 'bad', 'ways', 'of', 'making', 'all', 'types', 'of', 'films', ',', 'and', 'these', 'folks', 'just', 'didn', \"'\", 't', 'snag', 'this', 'one', 'correctly', '.', 'they', 'seem', 'to', 'have', 'taken', 'this', 'pretty', 'neat', 'concept', ',', 'but', 'executed', 'it', 'terribly', '.', 'so', 'what', 'are', 'the', 'problems', 'with', 'the', 'movie', '?', 'well', ',', 'its', 'main', 'problem', 'is', 'that', 'it', \"'\", 's', 'simply', 'too', 'jumbled', '.', 'it', 'starts', 'off', '\"', 'normal', '\"', 'but', 'then', 'downshifts', 'into', 'this', '\"', 'fantasy', '\"', 'world', 'in', 'which', 'you', ',', 'as', 'an', 'audience', 'member', ',', 'have', 'no', 'idea', 'what', \"'\", 's', 'going', 'on', '.', 'there', 'are', 'dreams', ',', 'there', 'are', 'characters', 'coming', 'back', 'from', 'the', 'dead', ',', 'there', 'are', 'others', 'who', 'look', 'like', 'the', 'dead', ',', 'there', 'are', 'strange', 'apparitions', ',', 'there', 'are', 'disappearances', ',', 'there', 'are', 'a', 'looooot', 'of', 'chase', 'scenes', ',', 'there', 'are', 'tons', 'of', 'weird', 'things', 'that', 'happen', ',', 'and', 'most', 'of', 'it', 'is', 'simply', 'not', 'explained', '.', 'now', 'i', 'personally', 'don', \"'\", 't', 'mind', 'trying', 'to', 'unravel', 'a', 'film', 'every', 'now', 'and', 'then', ',', 'but', 'when', 'all', 'it', 'does', 'is', 'give', 'me', 'the', 'same', 'clue', 'over', 'and', 'over', 'again', ',', 'i', 'get', 'kind', 'of', 'fed', 'up', 'after', 'a', 'while', ',', 'which', 'is', 'this', 'film', \"'\", 's', 'biggest', 'problem', '.', 'it', \"'\", 's', 'obviously', 'got', 'this', 'big', 'secret', 'to', 'hide', ',', 'but', 'it', 'seems', 'to', 'want', 'to', 'hide', 'it', 'completely', 'until', 'its', 'final', 'five', 'minutes', '.', 'and', 'do', 'they', 'make', 'things', 'entertaining', ',', 'thrilling', 'or', 'even', 'engaging', ',', 'in', 'the', 'meantime', '?', 'not', 'really', '.', 'the', 'sad', 'part', 'is', 'that', 'the', 'arrow', 'and', 'i', 'both', 'dig', 'on', 'flicks', 'like', 'this', ',', 'so', 'we', 'actually', 'figured', 'most', 'of', 'it', 'out', 'by', 'the', 'half', '-', 'way', 'point', ',', 'so', 'all', 'of', 'the', 'strangeness', 'after', 'that', 'did', 'start', 'to', 'make', 'a', 'little', 'bit', 'of', 'sense', ',', 'but', 'it', 'still', 'didn', \"'\", 't', 'the', 'make', 'the', 'film', 'all', 'that', 'more', 'entertaining', '.', 'i', 'guess', 'the', 'bottom', 'line', 'with', 'movies', 'like', 'this', 'is', 'that', 'you', 'should', 'always', 'make', 'sure', 'that', 'the', 'audience', 'is', '\"', 'into', 'it', '\"', 'even', 'before', 'they', 'are', 'given', 'the', 'secret', 'password', 'to', 'enter', 'your', 'world', 'of', 'understanding', '.', 'i', 'mean', ',', 'showing', 'melissa', 'sagemiller', 'running', 'away', 'from', 'visions', 'for', 'about', '20', 'minutes', 'throughout', 'the', 'movie', 'is', 'just', 'plain', 'lazy', '!', '!', 'okay', ',', 'we', 'get', 'it', '.', '.', '.', 'there', 'are', 'people', 'chasing', 'her', 'and', 'we', 'don', \"'\", 't', 'know', 'who', 'they', 'are', '.', 'do', 'we', 'really', 'need', 'to', 'see', 'it', 'over', 'and', 'over', 'again', '?', 'how', 'about', 'giving', 'us', 'different', 'scenes', 'offering', 'further', 'insight', 'into', 'all', 'of', 'the', 'strangeness', 'going', 'down', 'in', 'the', 'movie', '?', 'apparently', ',', 'the', 'studio', 'took', 'this', 'film', 'away', 'from', 'its', 'director', 'and', 'chopped', 'it', 'up', 'themselves', ',', 'and', 'it', 'shows', '.', 'there', 'might', \"'\", 've', 'been', 'a', 'pretty', 'decent', 'teen', 'mind', '-', 'fuck', 'movie', 'in', 'here', 'somewhere', ',', 'but', 'i', 'guess', '\"', 'the', 'suits', '\"', 'decided', 'that', 'turning', 'it', 'into', 'a', 'music', 'video', 'with', 'little', 'edge', ',', 'would', 'make', 'more', 'sense', '.', 'the', 'actors', 'are', 'pretty', 'good', 'for', 'the', 'most', 'part', ',', 'although', 'wes', 'bentley', 'just', 'seemed', 'to', 'be', 'playing', 'the', 'exact', 'same', 'character', 'that', 'he', 'did', 'in', 'american', 'beauty', ',', 'only', 'in', 'a', 'new', 'neighborhood', '.', 'but', 'my', 'biggest', 'kudos', 'go', 'out', 'to', 'sagemiller', ',', 'who', 'holds', 'her', 'own', 'throughout', 'the', 'entire', 'film', ',', 'and', 'actually', 'has', 'you', 'feeling', 'her', 'character', \"'\", 's', 'unraveling', '.', 'overall', ',', 'the', 'film', 'doesn', \"'\", 't', 'stick', 'because', 'it', 'doesn', \"'\", 't', 'entertain', ',', 'it', \"'\", 's', 'confusing', ',', 'it', 'rarely', 'excites', 'and', 'it', 'feels', 'pretty', 'redundant', 'for', 'most', 'of', 'its', 'runtime', ',', 'despite', 'a', 'pretty', 'cool', 'ending', 'and', 'explanation', 'to', 'all', 'of', 'the', 'craziness', 'that', 'came', 'before', 'it', '.', 'oh', ',', 'and', 'by', 'the', 'way', ',', 'this', 'is', 'not', 'a', 'horror', 'or', 'teen', 'slasher', 'flick', '.', '.', '.', 'it', \"'\", 's', 'just', 'packaged', 'to', 'look', 'that', 'way', 'because', 'someone', 'is', 'apparently', 'assuming', 'that', 'the', 'genre', 'is', 'still', 'hot', 'with', 'the', 'kids', '.', 'it', 'also', 'wrapped', 'production', 'two', 'years', 'ago', 'and', 'has', 'been', 'sitting', 'on', 'the', 'shelves', 'ever', 'since', '.', 'whatever', '.', '.', '.', 'skip', 'it', '!', 'where', \"'\", 's', 'joblo', 'coming', 'from', '?', 'a', 'nightmare', 'of', 'elm', 'street', '3', '(', '7', '/', '10', ')', '-', 'blair', 'witch', '2', '(', '7', '/', '10', ')', '-', 'the', 'crow', '(', '9', '/', '10', ')', '-', 'the', 'crow', ':', 'salvation', '(', '4', '/', '10', ')', '-', 'lost', 'highway', '(', '10', '/', '10', ')', '-', 'memento', '(', '10', '/', '10', ')', '-', 'the', 'others', '(', '9', '/', '10', ')', '-', 'stir', 'of', 'echoes', '(', '8', '/', '10', ')'], 'neg')\n"
          ]
        }
      ],
      "source": [
        "# show the result\n",
        "print(documents[0])"
      ]
    },
    {
      "cell_type": "code",
      "execution_count": 223,
      "metadata": {
        "id": "Ex3aSYi-Y9FI"
      },
      "outputs": [],
      "source": [
        "# shaffle the document\n",
        "random.shuffle(documents)"
      ]
    },
    {
      "cell_type": "code",
      "execution_count": 224,
      "metadata": {
        "colab": {
          "base_uri": "https://localhost:8080/"
        },
        "id": "G8eMrVJTY9G9",
        "outputId": "ab752a5e-ae2a-4f32-c4c7-5fc419e7e780"
      },
      "outputs": [
        {
          "output_type": "stream",
          "name": "stdout",
          "text": [
            "(['most', 'movies', 'seem', 'to', 'release', 'a', 'third', 'movie', 'just', 'so', 'it', 'can', 'be', 'called', 'a', 'trilogy', '.', 'rocky', 'iii', 'seems', 'to', 'kind', 'of', 'fit', 'in', 'that', 'category', ',', 'but', 'manages', 'to', 'be', 'slightly', 'unique', '.', 'the', 'rocky', 'formula', 'of', '\"', 'rocky', 'loses', 'fight', '/', 'rocky', 'trains', '/', 'rocky', 'wins', 'fight', '\"', 'is', 'carried', 'out', 'to', 'the', 'letter', '.', 'also', 'the', \"'\", 'tradition', \"'\", 'of', 'showing', 'the', 'last', 'five', 'minutes', 'or', 'so', 'from', 'the', 'past', 'rocky', 'film', 'is', 'used', 'as', 'well', '.', 'this', 'movie', 'begins', 'with', 'a', 'series', 'of', 'clips', 'showing', 'how', 'famous', 'rocky', '(', 'sylvester', 'stallone', ')', 'has', 'become', '.', '.', '.', 'even', 'showing', 'a', 'brief', 'appearance', 'on', 'sesame', 'street', '!', '!', 'then', 'it', 'moves', 'on', 'with', 'rocky', 'being', 'in', 'a', 'fixed', 'fight', 'with', 'thunderlips', '(', 'hulk', 'hogan', ')', '.', 'a', 'mysterious', 'bad', '-', 'ass', 'known', 'as', 'clubber', 'lang', '(', 'mr', '.', 't', ')', 'trash', '-', 'talks', 'to', 'rocky', 'about', 'his', 'stupid', 'decision', 'to', 'retire', 'from', 'boxing', 'and', 'that', 'he', '\"', 'pities', 'the', 'fool', '\"', 'for', 'not', 'coming', 'out', 'and', 'fighting', 'him', 'outright', '.', 'rocky', \"'\", 's', 'trainer', '(', 'burgess', 'meredith', ')', 'tells', 'rocky', 'not', 'to', 'fight', ',', 'but', 'the', 'italian', 'stallion', 'doesn', \"'\", 't', 'listen', '.', 'naturally', ',', 'he', 'gets', 'his', 'ass', 'kicked', '.', 'somewhere', 'along', 'the', 'line', 'after', 'this', 'several', 'things', 'happen', '.', 'rocky', \"'\", 's', 'longtime', 'trainer', 'dies', ',', 'causing', 'rocky', 'to', 'train', 'with', 'his', 'former', 'opponent', 'apollo', 'creed', '.', 'rocky', \"'\", 's', 'wife', 'complains', 'to', 'her', 'husband', 'that', 'he', 'should', 'fight', '.', 'the', 'final', 'fight', 'ensues', 'between', 'clubber', 'and', 'rocky', '.', 'guess', 'who', 'wins', '?', 'the', 'winner', \"'\", 's', 'name', 'rhymes', 'with', \"'\", 'smocky', \"'\", '.', 'the', 'movie', 'is', 'entertaning', 'mainly', 'because', 'of', 'clubber', 'lang', \"'\", 's', 'over', 'the', 'top', 'performance', '.', 'the', 'dramatic', 'aspect', 'has', 'been', 'toned', 'down', 'considerably', 'since', 'rocky', 'ii', 'and', 'now', 'action', 'seems', 'to', 'be', 'the', 'strong', 'point', 'of', 'the', 'film', '.', 'which', 'is', 'good', 'if', 'you', 'like', 'fighting', 'scenes', '.', 'the', 'last', 'match', 'is', 'quite', 'decent', 'actually', '.', 'if', 'you', 'liked', 'the', 'previous', 'films', ',', 'rent', 'this', 'one', '.', 'it', \"'\", 's', 'well', 'worth', 'seeing', 'if', 'you', 'are', 'a', 'fan', 'of', 'the', 'series', '.', 'but', 'if', 'you', 'can', \"'\", 't', 'stand', 'rocky', 'shouting', '\"', 'adrianne', '!', '!', '!', '\"', 'one', 'more', 'time', ',', 'see', 'something', 'else', '.'], 'pos')\n"
          ]
        }
      ],
      "source": [
        "# show the document again\n",
        "print(documents[0])"
      ]
    },
    {
      "cell_type": "markdown",
      "metadata": {
        "id": "aiiFVOr9fQrp"
      },
      "source": [
        "*It has been shaffled.*\n",
        "\n",
        "---\n",
        "\n"
      ]
    },
    {
      "cell_type": "code",
      "execution_count": 225,
      "metadata": {
        "colab": {
          "base_uri": "https://localhost:8080/"
        },
        "id": "IWxce4z8fJHc",
        "outputId": "967c7576-e552-4c8f-f8b7-a6caffeb6c28"
      },
      "outputs": [
        {
          "output_type": "stream",
          "name": "stdout",
          "text": [
            "Number of reviews/documents: 2000\n",
            "Corpus size (words): 1583820\n",
            "Sample text of document 1:\n",
            "------------------------------\n",
            "most movies seem to release a third movie just so it can be called a trilogy . rocky iii seems to kind of fit in that category , but manages to be slightly unique . the rocky formula of \" rocky loses fight / rocky trains / rocky wins fight\n"
          ]
        },
        {
          "output_type": "stream",
          "name": "stderr",
          "text": [
            "<ipython-input-225-0235cc1a4ef5>:3: DeprecationWarning: Calling np.sum(generator) is deprecated, and in the future will give a different result. Use np.sum(np.fromiter(generator)) or the python sum builtin instead.\n",
            "  print(f'Corpus size (words): {np.sum(len(a) for (a, b) in documents)}')\n"
          ]
        }
      ],
      "source": [
        "# report the descriptive statistics\n",
        "print(f'Number of reviews/documents: {len(documents)}')\n",
        "print(f'Corpus size (words): {np.sum(len(a) for (a, b) in documents)}')\n",
        "print('Sample text of document 1:')\n",
        "print('-'*30)\n",
        "print(' '.join(documents[0][0][:50]))"
      ]
    },
    {
      "cell_type": "code",
      "execution_count": 226,
      "metadata": {
        "colab": {
          "base_uri": "https://localhost:8080/"
        },
        "id": "2-BscLF1fJM1",
        "outputId": "95fa5ea0-fbbd-4ef1-ab45-ee231957c07c"
      },
      "outputs": [
        {
          "output_type": "execute_result",
          "data": {
            "text/plain": [
              "Counter({'pos': 1000, 'neg': 1000})"
            ]
          },
          "metadata": {},
          "execution_count": 226
        }
      ],
      "source": [
        "# check the sentiment distribution\n",
        "sentiment_dis = Counter([b for (a, b) in documents])\n",
        "sentiment_dis"
      ]
    },
    {
      "cell_type": "markdown",
      "metadata": {
        "id": "3rmsGH0Thxqm"
      },
      "source": [
        "# **2. Train-test-split**"
      ]
    },
    {
      "cell_type": "code",
      "execution_count": 227,
      "metadata": {
        "id": "KKXFZ-NBhRCr"
      },
      "outputs": [],
      "source": [
        "# split into a training and a testing set\n",
        "train, test = train_test_split(documents, test_size=.33, random_state=42)"
      ]
    },
    {
      "cell_type": "code",
      "execution_count": 228,
      "metadata": {
        "id": "wa_dp77xnX0o",
        "colab": {
          "base_uri": "https://localhost:8080/"
        },
        "outputId": "6ae2de20-7215-4941-b30d-4c9e716eef24"
      },
      "outputs": [
        {
          "output_type": "stream",
          "name": "stdout",
          "text": [
            "Training set: Counter({'neg': 674, 'pos': 666})\n",
            "Testing set: Counter({'pos': 334, 'neg': 326})\n"
          ]
        }
      ],
      "source": [
        "# check the distribution of lables in the training and testing set\n",
        "print(f'Training set: {Counter([b for (a, b) in train])}')\n",
        "print(f'Testing set: {Counter([b for (a, b) in test])}')"
      ]
    },
    {
      "cell_type": "code",
      "execution_count": 229,
      "metadata": {
        "id": "E8tJIQkZnX3M"
      },
      "outputs": [],
      "source": [
        "# X = feature vector\n",
        "# y = target vector\n",
        "X_train = [' '.join(a) for (a, b) in train]\n",
        "X_test = [' '.join(a) for (a, b) in test]\n",
        "y_train = [b for (a, b) in train]\n",
        "y_test = [b for (a, b) in test]"
      ]
    },
    {
      "cell_type": "markdown",
      "source": [
        "# **3. Text vectorization**"
      ],
      "metadata": {
        "id": "1EOxj22wu0Q3"
      }
    },
    {
      "cell_type": "code",
      "execution_count": 230,
      "metadata": {
        "id": "XfziEteKhRH7"
      },
      "outputs": [],
      "source": [
        "# create an instance of tfidfvectorizer\n",
        "tfidf = TfidfVectorizer(min_df=10, token_pattern=r'[a-zA-Z]+')"
      ]
    },
    {
      "cell_type": "code",
      "source": [
        "# fit train\n",
        "X_train_bow = tfidf.fit_transform(X_train)"
      ],
      "metadata": {
        "id": "BJO8M-juq-Ct"
      },
      "execution_count": 231,
      "outputs": []
    },
    {
      "cell_type": "code",
      "source": [
        "# transform test\n",
        "X_test_bow = tfidf.transform(X_test)"
      ],
      "metadata": {
        "id": "MwarZpvGq-FX"
      },
      "execution_count": 232,
      "outputs": []
    },
    {
      "cell_type": "code",
      "source": [
        "# report the number of features\n",
        "print(f'X train bow: {X_train_bow.shape}')\n",
        "print(f'X test bow: {X_test_bow.shape}')"
      ],
      "metadata": {
        "colab": {
          "base_uri": "https://localhost:8080/"
        },
        "id": "2FEhN-jsq-H-",
        "outputId": "6305b6da-23ca-4ef6-a49f-2a374cc0a377"
      },
      "execution_count": 233,
      "outputs": [
        {
          "output_type": "stream",
          "name": "stdout",
          "text": [
            "X train bow: (1340, 6138)\n",
            "X test bow: (660, 6138)\n"
          ]
        }
      ]
    },
    {
      "cell_type": "markdown",
      "source": [
        "*There are 6,138 features (unique words).*\n",
        "\n",
        "---\n",
        "\n"
      ],
      "metadata": {
        "id": "T4j_deOV0grE"
      }
    },
    {
      "cell_type": "markdown",
      "source": [
        "# **4. Model selection and cross selection**"
      ],
      "metadata": {
        "id": "F_ouZbGH0nO_"
      }
    },
    {
      "cell_type": "markdown",
      "source": [
        "*1. SVM (support vector machine)*\n",
        "\n",
        "*2. decision tree*\n",
        "\n",
        "*3. naive bayes*\n",
        "\n",
        "*4. logistic regression*\n",
        "\n",
        "\n",
        "---\n",
        "\n"
      ],
      "metadata": {
        "id": "mpBtGT8206ct"
      }
    },
    {
      "cell_type": "markdown",
      "source": [
        "# **5. SVM**"
      ],
      "metadata": {
        "id": "-12CWy0O1Otw"
      }
    },
    {
      "cell_type": "markdown",
      "source": [
        "## **5.1. Fit the model**"
      ],
      "metadata": {
        "id": "ORBLd2em1SgG"
      }
    },
    {
      "cell_type": "code",
      "source": [
        "# initialize the model\n",
        "model_svm = svm.SVC(C=8.0, kernel='linear')"
      ],
      "metadata": {
        "id": "sJ0Kj5mMzHWa"
      },
      "execution_count": 234,
      "outputs": []
    },
    {
      "cell_type": "code",
      "source": [
        "# fit the model\n",
        "model_svm.fit(X_train_bow, y_train)"
      ],
      "metadata": {
        "colab": {
          "base_uri": "https://localhost:8080/",
          "height": 75
        },
        "id": "gvhRx3KKzHZH",
        "outputId": "cf2cdfc8-5abd-4cd6-d2cb-74449b7d10e5"
      },
      "execution_count": 235,
      "outputs": [
        {
          "output_type": "execute_result",
          "data": {
            "text/plain": [
              "SVC(C=8.0, kernel='linear')"
            ],
            "text/html": [
              "<style>#sk-container-id-12 {color: black;background-color: white;}#sk-container-id-12 pre{padding: 0;}#sk-container-id-12 div.sk-toggleable {background-color: white;}#sk-container-id-12 label.sk-toggleable__label {cursor: pointer;display: block;width: 100%;margin-bottom: 0;padding: 0.3em;box-sizing: border-box;text-align: center;}#sk-container-id-12 label.sk-toggleable__label-arrow:before {content: \"▸\";float: left;margin-right: 0.25em;color: #696969;}#sk-container-id-12 label.sk-toggleable__label-arrow:hover:before {color: black;}#sk-container-id-12 div.sk-estimator:hover label.sk-toggleable__label-arrow:before {color: black;}#sk-container-id-12 div.sk-toggleable__content {max-height: 0;max-width: 0;overflow: hidden;text-align: left;background-color: #f0f8ff;}#sk-container-id-12 div.sk-toggleable__content pre {margin: 0.2em;color: black;border-radius: 0.25em;background-color: #f0f8ff;}#sk-container-id-12 input.sk-toggleable__control:checked~div.sk-toggleable__content {max-height: 200px;max-width: 100%;overflow: auto;}#sk-container-id-12 input.sk-toggleable__control:checked~label.sk-toggleable__label-arrow:before {content: \"▾\";}#sk-container-id-12 div.sk-estimator input.sk-toggleable__control:checked~label.sk-toggleable__label {background-color: #d4ebff;}#sk-container-id-12 div.sk-label input.sk-toggleable__control:checked~label.sk-toggleable__label {background-color: #d4ebff;}#sk-container-id-12 input.sk-hidden--visually {border: 0;clip: rect(1px 1px 1px 1px);clip: rect(1px, 1px, 1px, 1px);height: 1px;margin: -1px;overflow: hidden;padding: 0;position: absolute;width: 1px;}#sk-container-id-12 div.sk-estimator {font-family: monospace;background-color: #f0f8ff;border: 1px dotted black;border-radius: 0.25em;box-sizing: border-box;margin-bottom: 0.5em;}#sk-container-id-12 div.sk-estimator:hover {background-color: #d4ebff;}#sk-container-id-12 div.sk-parallel-item::after {content: \"\";width: 100%;border-bottom: 1px solid gray;flex-grow: 1;}#sk-container-id-12 div.sk-label:hover label.sk-toggleable__label {background-color: #d4ebff;}#sk-container-id-12 div.sk-serial::before {content: \"\";position: absolute;border-left: 1px solid gray;box-sizing: border-box;top: 0;bottom: 0;left: 50%;z-index: 0;}#sk-container-id-12 div.sk-serial {display: flex;flex-direction: column;align-items: center;background-color: white;padding-right: 0.2em;padding-left: 0.2em;position: relative;}#sk-container-id-12 div.sk-item {position: relative;z-index: 1;}#sk-container-id-12 div.sk-parallel {display: flex;align-items: stretch;justify-content: center;background-color: white;position: relative;}#sk-container-id-12 div.sk-item::before, #sk-container-id-12 div.sk-parallel-item::before {content: \"\";position: absolute;border-left: 1px solid gray;box-sizing: border-box;top: 0;bottom: 0;left: 50%;z-index: -1;}#sk-container-id-12 div.sk-parallel-item {display: flex;flex-direction: column;z-index: 1;position: relative;background-color: white;}#sk-container-id-12 div.sk-parallel-item:first-child::after {align-self: flex-end;width: 50%;}#sk-container-id-12 div.sk-parallel-item:last-child::after {align-self: flex-start;width: 50%;}#sk-container-id-12 div.sk-parallel-item:only-child::after {width: 0;}#sk-container-id-12 div.sk-dashed-wrapped {border: 1px dashed gray;margin: 0 0.4em 0.5em 0.4em;box-sizing: border-box;padding-bottom: 0.4em;background-color: white;}#sk-container-id-12 div.sk-label label {font-family: monospace;font-weight: bold;display: inline-block;line-height: 1.2em;}#sk-container-id-12 div.sk-label-container {text-align: center;}#sk-container-id-12 div.sk-container {/* jupyter's `normalize.less` sets `[hidden] { display: none; }` but bootstrap.min.css set `[hidden] { display: none !important; }` so we also need the `!important` here to be able to override the default hidden behavior on the sphinx rendered scikit-learn.org. See: https://github.com/scikit-learn/scikit-learn/issues/21755 */display: inline-block !important;position: relative;}#sk-container-id-12 div.sk-text-repr-fallback {display: none;}</style><div id=\"sk-container-id-12\" class=\"sk-top-container\"><div class=\"sk-text-repr-fallback\"><pre>SVC(C=8.0, kernel=&#x27;linear&#x27;)</pre><b>In a Jupyter environment, please rerun this cell to show the HTML representation or trust the notebook. <br />On GitHub, the HTML representation is unable to render, please try loading this page with nbviewer.org.</b></div><div class=\"sk-container\" hidden><div class=\"sk-item\"><div class=\"sk-estimator sk-toggleable\"><input class=\"sk-toggleable__control sk-hidden--visually\" id=\"sk-estimator-id-12\" type=\"checkbox\" checked><label for=\"sk-estimator-id-12\" class=\"sk-toggleable__label sk-toggleable__label-arrow\">SVC</label><div class=\"sk-toggleable__content\"><pre>SVC(C=8.0, kernel=&#x27;linear&#x27;)</pre></div></div></div></div></div>"
            ]
          },
          "metadata": {},
          "execution_count": 235
        }
      ]
    },
    {
      "cell_type": "markdown",
      "source": [
        "## **5.2. Check the stability**"
      ],
      "metadata": {
        "id": "WZ5DEtr825Wm"
      }
    },
    {
      "cell_type": "code",
      "source": [
        "# perform 5-fold cross validation\n",
        "model_svc_acc = cross_val_score(estimator=model_svm, X=X_train_bow, y=y_train, cv=5, n_jobs=-1)\n",
        "model_svc_acc"
      ],
      "metadata": {
        "colab": {
          "base_uri": "https://localhost:8080/"
        },
        "id": "5n6vkgASzHb3",
        "outputId": "3071e8a3-0e7d-431b-f687-bc25549b9acd"
      },
      "execution_count": 236,
      "outputs": [
        {
          "output_type": "execute_result",
          "data": {
            "text/plain": [
              "array([0.84328358, 0.82089552, 0.85447761, 0.82462687, 0.84701493])"
            ]
          },
          "metadata": {},
          "execution_count": 236
        }
      ]
    },
    {
      "cell_type": "markdown",
      "source": [
        "*It looks stable.*\n",
        "\n",
        "---\n",
        "\n"
      ],
      "metadata": {
        "id": "R_I-ZyTf39xL"
      }
    },
    {
      "cell_type": "markdown",
      "source": [
        "## **5.3. Predict the outcome**"
      ],
      "metadata": {
        "id": "bfhGv3XN4Oza"
      }
    },
    {
      "cell_type": "code",
      "source": [
        "# predict\n",
        "y_pred_svm = model_svm.predict(X_test_bow)\n",
        "y_pred_svm[:10]"
      ],
      "metadata": {
        "colab": {
          "base_uri": "https://localhost:8080/"
        },
        "id": "4rtMAWti28nQ",
        "outputId": "9e71025f-d375-4046-be61-700b086b3183"
      },
      "execution_count": 237,
      "outputs": [
        {
          "output_type": "execute_result",
          "data": {
            "text/plain": [
              "array(['pos', 'neg', 'pos', 'neg', 'neg', 'neg', 'neg', 'neg', 'neg',\n",
              "       'pos'], dtype='<U3')"
            ]
          },
          "metadata": {},
          "execution_count": 237
        }
      ]
    },
    {
      "cell_type": "markdown",
      "source": [
        "# **6. Decision trees**"
      ],
      "metadata": {
        "id": "CGZfHZ9T47DW"
      }
    },
    {
      "cell_type": "markdown",
      "source": [
        "## **6.1. Fit the model**"
      ],
      "metadata": {
        "id": "hUJALDt-5Edd"
      }
    },
    {
      "cell_type": "code",
      "source": [
        "# initilize the model\n",
        "model_dec = DecisionTreeClassifier(max_depth=10, random_state=0)"
      ],
      "metadata": {
        "id": "r4ViMj4y28sc"
      },
      "execution_count": 238,
      "outputs": []
    },
    {
      "cell_type": "code",
      "source": [
        "# fit the model\n",
        "model_dec.fit(X_train_bow, y_train)"
      ],
      "metadata": {
        "colab": {
          "base_uri": "https://localhost:8080/",
          "height": 75
        },
        "id": "-OrLmAxN28ub",
        "outputId": "112dc889-c2b4-40ee-a2b2-7f206f9debfe"
      },
      "execution_count": 239,
      "outputs": [
        {
          "output_type": "execute_result",
          "data": {
            "text/plain": [
              "DecisionTreeClassifier(max_depth=10, random_state=0)"
            ],
            "text/html": [
              "<style>#sk-container-id-13 {color: black;background-color: white;}#sk-container-id-13 pre{padding: 0;}#sk-container-id-13 div.sk-toggleable {background-color: white;}#sk-container-id-13 label.sk-toggleable__label {cursor: pointer;display: block;width: 100%;margin-bottom: 0;padding: 0.3em;box-sizing: border-box;text-align: center;}#sk-container-id-13 label.sk-toggleable__label-arrow:before {content: \"▸\";float: left;margin-right: 0.25em;color: #696969;}#sk-container-id-13 label.sk-toggleable__label-arrow:hover:before {color: black;}#sk-container-id-13 div.sk-estimator:hover label.sk-toggleable__label-arrow:before {color: black;}#sk-container-id-13 div.sk-toggleable__content {max-height: 0;max-width: 0;overflow: hidden;text-align: left;background-color: #f0f8ff;}#sk-container-id-13 div.sk-toggleable__content pre {margin: 0.2em;color: black;border-radius: 0.25em;background-color: #f0f8ff;}#sk-container-id-13 input.sk-toggleable__control:checked~div.sk-toggleable__content {max-height: 200px;max-width: 100%;overflow: auto;}#sk-container-id-13 input.sk-toggleable__control:checked~label.sk-toggleable__label-arrow:before {content: \"▾\";}#sk-container-id-13 div.sk-estimator input.sk-toggleable__control:checked~label.sk-toggleable__label {background-color: #d4ebff;}#sk-container-id-13 div.sk-label input.sk-toggleable__control:checked~label.sk-toggleable__label {background-color: #d4ebff;}#sk-container-id-13 input.sk-hidden--visually {border: 0;clip: rect(1px 1px 1px 1px);clip: rect(1px, 1px, 1px, 1px);height: 1px;margin: -1px;overflow: hidden;padding: 0;position: absolute;width: 1px;}#sk-container-id-13 div.sk-estimator {font-family: monospace;background-color: #f0f8ff;border: 1px dotted black;border-radius: 0.25em;box-sizing: border-box;margin-bottom: 0.5em;}#sk-container-id-13 div.sk-estimator:hover {background-color: #d4ebff;}#sk-container-id-13 div.sk-parallel-item::after {content: \"\";width: 100%;border-bottom: 1px solid gray;flex-grow: 1;}#sk-container-id-13 div.sk-label:hover label.sk-toggleable__label {background-color: #d4ebff;}#sk-container-id-13 div.sk-serial::before {content: \"\";position: absolute;border-left: 1px solid gray;box-sizing: border-box;top: 0;bottom: 0;left: 50%;z-index: 0;}#sk-container-id-13 div.sk-serial {display: flex;flex-direction: column;align-items: center;background-color: white;padding-right: 0.2em;padding-left: 0.2em;position: relative;}#sk-container-id-13 div.sk-item {position: relative;z-index: 1;}#sk-container-id-13 div.sk-parallel {display: flex;align-items: stretch;justify-content: center;background-color: white;position: relative;}#sk-container-id-13 div.sk-item::before, #sk-container-id-13 div.sk-parallel-item::before {content: \"\";position: absolute;border-left: 1px solid gray;box-sizing: border-box;top: 0;bottom: 0;left: 50%;z-index: -1;}#sk-container-id-13 div.sk-parallel-item {display: flex;flex-direction: column;z-index: 1;position: relative;background-color: white;}#sk-container-id-13 div.sk-parallel-item:first-child::after {align-self: flex-end;width: 50%;}#sk-container-id-13 div.sk-parallel-item:last-child::after {align-self: flex-start;width: 50%;}#sk-container-id-13 div.sk-parallel-item:only-child::after {width: 0;}#sk-container-id-13 div.sk-dashed-wrapped {border: 1px dashed gray;margin: 0 0.4em 0.5em 0.4em;box-sizing: border-box;padding-bottom: 0.4em;background-color: white;}#sk-container-id-13 div.sk-label label {font-family: monospace;font-weight: bold;display: inline-block;line-height: 1.2em;}#sk-container-id-13 div.sk-label-container {text-align: center;}#sk-container-id-13 div.sk-container {/* jupyter's `normalize.less` sets `[hidden] { display: none; }` but bootstrap.min.css set `[hidden] { display: none !important; }` so we also need the `!important` here to be able to override the default hidden behavior on the sphinx rendered scikit-learn.org. See: https://github.com/scikit-learn/scikit-learn/issues/21755 */display: inline-block !important;position: relative;}#sk-container-id-13 div.sk-text-repr-fallback {display: none;}</style><div id=\"sk-container-id-13\" class=\"sk-top-container\"><div class=\"sk-text-repr-fallback\"><pre>DecisionTreeClassifier(max_depth=10, random_state=0)</pre><b>In a Jupyter environment, please rerun this cell to show the HTML representation or trust the notebook. <br />On GitHub, the HTML representation is unable to render, please try loading this page with nbviewer.org.</b></div><div class=\"sk-container\" hidden><div class=\"sk-item\"><div class=\"sk-estimator sk-toggleable\"><input class=\"sk-toggleable__control sk-hidden--visually\" id=\"sk-estimator-id-13\" type=\"checkbox\" checked><label for=\"sk-estimator-id-13\" class=\"sk-toggleable__label sk-toggleable__label-arrow\">DecisionTreeClassifier</label><div class=\"sk-toggleable__content\"><pre>DecisionTreeClassifier(max_depth=10, random_state=0)</pre></div></div></div></div></div>"
            ]
          },
          "metadata": {},
          "execution_count": 239
        }
      ]
    },
    {
      "cell_type": "markdown",
      "source": [
        "## **6.2. Check the stability**"
      ],
      "metadata": {
        "id": "XGEKVV1t5m7t"
      }
    },
    {
      "cell_type": "code",
      "source": [
        "# perform 5-fold cross validation\n",
        "model_dec_acc = cross_val_score(estimator=model_dec, X=X_train_bow, y=y_train, cv=5, n_jobs=-1)\n",
        "model_dec_acc"
      ],
      "metadata": {
        "colab": {
          "base_uri": "https://localhost:8080/"
        },
        "id": "-3loAR0v5djl",
        "outputId": "968bb0c3-a80e-4294-beb5-8dd8be21b7ec"
      },
      "execution_count": 240,
      "outputs": [
        {
          "output_type": "execute_result",
          "data": {
            "text/plain": [
              "array([0.6641791 , 0.64179104, 0.66791045, 0.64179104, 0.6380597 ])"
            ]
          },
          "metadata": {},
          "execution_count": 240
        }
      ]
    },
    {
      "cell_type": "markdown",
      "source": [
        "*It looks stable.*\n",
        "\n",
        "---\n",
        "\n"
      ],
      "metadata": {
        "id": "EuX4KHxf50IK"
      }
    },
    {
      "cell_type": "markdown",
      "source": [
        "## **6.3. Predict the outcome**"
      ],
      "metadata": {
        "id": "-yILBXbg59Qy"
      }
    },
    {
      "cell_type": "code",
      "source": [
        "# predict\n",
        "y_pred_dec = model_dec.predict(X_test_bow)\n",
        "y_pred_dec[:10]"
      ],
      "metadata": {
        "colab": {
          "base_uri": "https://localhost:8080/"
        },
        "id": "y4bAZXXs5dmB",
        "outputId": "3c521b39-4bf4-493d-a82f-f13d281b9ec1"
      },
      "execution_count": 241,
      "outputs": [
        {
          "output_type": "execute_result",
          "data": {
            "text/plain": [
              "array(['pos', 'neg', 'neg', 'neg', 'pos', 'pos', 'neg', 'neg', 'neg',\n",
              "       'neg'], dtype='<U3')"
            ]
          },
          "metadata": {},
          "execution_count": 241
        }
      ]
    },
    {
      "cell_type": "markdown",
      "source": [
        "# **7. Naive bayes**"
      ],
      "metadata": {
        "id": "WaQT8Tba6dCH"
      }
    },
    {
      "cell_type": "markdown",
      "source": [
        "## **7.1. Fit the model**"
      ],
      "metadata": {
        "id": "Xas6hJTB6h_U"
      }
    },
    {
      "cell_type": "code",
      "source": [
        "# initialize the model\n",
        "model_gnb = GaussianNB()"
      ],
      "metadata": {
        "id": "jn0Vj8YC56nb"
      },
      "execution_count": 242,
      "outputs": []
    },
    {
      "cell_type": "code",
      "source": [
        "# fit the model\n",
        "model_gnb.fit(X_train_bow.toarray(), y_train)"
      ],
      "metadata": {
        "colab": {
          "base_uri": "https://localhost:8080/",
          "height": 75
        },
        "id": "m1K-FUGF56qQ",
        "outputId": "dd8c7cf3-127a-4048-dce4-7749ba5cacaa"
      },
      "execution_count": 243,
      "outputs": [
        {
          "output_type": "execute_result",
          "data": {
            "text/plain": [
              "GaussianNB()"
            ],
            "text/html": [
              "<style>#sk-container-id-14 {color: black;background-color: white;}#sk-container-id-14 pre{padding: 0;}#sk-container-id-14 div.sk-toggleable {background-color: white;}#sk-container-id-14 label.sk-toggleable__label {cursor: pointer;display: block;width: 100%;margin-bottom: 0;padding: 0.3em;box-sizing: border-box;text-align: center;}#sk-container-id-14 label.sk-toggleable__label-arrow:before {content: \"▸\";float: left;margin-right: 0.25em;color: #696969;}#sk-container-id-14 label.sk-toggleable__label-arrow:hover:before {color: black;}#sk-container-id-14 div.sk-estimator:hover label.sk-toggleable__label-arrow:before {color: black;}#sk-container-id-14 div.sk-toggleable__content {max-height: 0;max-width: 0;overflow: hidden;text-align: left;background-color: #f0f8ff;}#sk-container-id-14 div.sk-toggleable__content pre {margin: 0.2em;color: black;border-radius: 0.25em;background-color: #f0f8ff;}#sk-container-id-14 input.sk-toggleable__control:checked~div.sk-toggleable__content {max-height: 200px;max-width: 100%;overflow: auto;}#sk-container-id-14 input.sk-toggleable__control:checked~label.sk-toggleable__label-arrow:before {content: \"▾\";}#sk-container-id-14 div.sk-estimator input.sk-toggleable__control:checked~label.sk-toggleable__label {background-color: #d4ebff;}#sk-container-id-14 div.sk-label input.sk-toggleable__control:checked~label.sk-toggleable__label {background-color: #d4ebff;}#sk-container-id-14 input.sk-hidden--visually {border: 0;clip: rect(1px 1px 1px 1px);clip: rect(1px, 1px, 1px, 1px);height: 1px;margin: -1px;overflow: hidden;padding: 0;position: absolute;width: 1px;}#sk-container-id-14 div.sk-estimator {font-family: monospace;background-color: #f0f8ff;border: 1px dotted black;border-radius: 0.25em;box-sizing: border-box;margin-bottom: 0.5em;}#sk-container-id-14 div.sk-estimator:hover {background-color: #d4ebff;}#sk-container-id-14 div.sk-parallel-item::after {content: \"\";width: 100%;border-bottom: 1px solid gray;flex-grow: 1;}#sk-container-id-14 div.sk-label:hover label.sk-toggleable__label {background-color: #d4ebff;}#sk-container-id-14 div.sk-serial::before {content: \"\";position: absolute;border-left: 1px solid gray;box-sizing: border-box;top: 0;bottom: 0;left: 50%;z-index: 0;}#sk-container-id-14 div.sk-serial {display: flex;flex-direction: column;align-items: center;background-color: white;padding-right: 0.2em;padding-left: 0.2em;position: relative;}#sk-container-id-14 div.sk-item {position: relative;z-index: 1;}#sk-container-id-14 div.sk-parallel {display: flex;align-items: stretch;justify-content: center;background-color: white;position: relative;}#sk-container-id-14 div.sk-item::before, #sk-container-id-14 div.sk-parallel-item::before {content: \"\";position: absolute;border-left: 1px solid gray;box-sizing: border-box;top: 0;bottom: 0;left: 50%;z-index: -1;}#sk-container-id-14 div.sk-parallel-item {display: flex;flex-direction: column;z-index: 1;position: relative;background-color: white;}#sk-container-id-14 div.sk-parallel-item:first-child::after {align-self: flex-end;width: 50%;}#sk-container-id-14 div.sk-parallel-item:last-child::after {align-self: flex-start;width: 50%;}#sk-container-id-14 div.sk-parallel-item:only-child::after {width: 0;}#sk-container-id-14 div.sk-dashed-wrapped {border: 1px dashed gray;margin: 0 0.4em 0.5em 0.4em;box-sizing: border-box;padding-bottom: 0.4em;background-color: white;}#sk-container-id-14 div.sk-label label {font-family: monospace;font-weight: bold;display: inline-block;line-height: 1.2em;}#sk-container-id-14 div.sk-label-container {text-align: center;}#sk-container-id-14 div.sk-container {/* jupyter's `normalize.less` sets `[hidden] { display: none; }` but bootstrap.min.css set `[hidden] { display: none !important; }` so we also need the `!important` here to be able to override the default hidden behavior on the sphinx rendered scikit-learn.org. See: https://github.com/scikit-learn/scikit-learn/issues/21755 */display: inline-block !important;position: relative;}#sk-container-id-14 div.sk-text-repr-fallback {display: none;}</style><div id=\"sk-container-id-14\" class=\"sk-top-container\"><div class=\"sk-text-repr-fallback\"><pre>GaussianNB()</pre><b>In a Jupyter environment, please rerun this cell to show the HTML representation or trust the notebook. <br />On GitHub, the HTML representation is unable to render, please try loading this page with nbviewer.org.</b></div><div class=\"sk-container\" hidden><div class=\"sk-item\"><div class=\"sk-estimator sk-toggleable\"><input class=\"sk-toggleable__control sk-hidden--visually\" id=\"sk-estimator-id-14\" type=\"checkbox\" checked><label for=\"sk-estimator-id-14\" class=\"sk-toggleable__label sk-toggleable__label-arrow\">GaussianNB</label><div class=\"sk-toggleable__content\"><pre>GaussianNB()</pre></div></div></div></div></div>"
            ]
          },
          "metadata": {},
          "execution_count": 243
        }
      ]
    },
    {
      "cell_type": "markdown",
      "source": [
        "## **7.2. Check the stabiltiy**"
      ],
      "metadata": {
        "id": "lNBXug_07CWk"
      }
    },
    {
      "cell_type": "code",
      "source": [
        "# perform 5-fold cross validation\n",
        "model_gnb_acc = cross_val_score(estimator=model_gnb, X=X_train_bow.toarray(), y=y_train, cv=5, n_jobs=-1)\n",
        "model_gnb_acc"
      ],
      "metadata": {
        "colab": {
          "base_uri": "https://localhost:8080/"
        },
        "id": "wmDko1k556sv",
        "outputId": "ba2bfb77-cf9f-4c8d-b057-6b7857c57b2d"
      },
      "execution_count": 244,
      "outputs": [
        {
          "output_type": "execute_result",
          "data": {
            "text/plain": [
              "array([0.7238806 , 0.67164179, 0.7238806 , 0.68656716, 0.68283582])"
            ]
          },
          "metadata": {},
          "execution_count": 244
        }
      ]
    },
    {
      "cell_type": "markdown",
      "source": [
        "*It looks quite stable.*\n",
        "\n",
        "---\n",
        "\n"
      ],
      "metadata": {
        "id": "d-Kslevi7Tey"
      }
    },
    {
      "cell_type": "markdown",
      "source": [
        "## **7.3. Predict the outcome**"
      ],
      "metadata": {
        "id": "NTvhr5w57eWd"
      }
    },
    {
      "cell_type": "code",
      "source": [
        "# predict\n",
        "y_pred_gnb = model_gnb.predict(X_test_bow.toarray())\n",
        "y_pred_gnb[:10]"
      ],
      "metadata": {
        "colab": {
          "base_uri": "https://localhost:8080/"
        },
        "id": "glcAX7Go5do7",
        "outputId": "19444a56-a9f6-44dd-97ee-6f1f7514520b"
      },
      "execution_count": 245,
      "outputs": [
        {
          "output_type": "execute_result",
          "data": {
            "text/plain": [
              "array(['pos', 'neg', 'neg', 'neg', 'neg', 'neg', 'neg', 'neg', 'neg',\n",
              "       'neg'], dtype='<U3')"
            ]
          },
          "metadata": {},
          "execution_count": 245
        }
      ]
    },
    {
      "cell_type": "markdown",
      "source": [
        "# **8. Logistic Regression**"
      ],
      "metadata": {
        "id": "SjMihQAOEe6w"
      }
    },
    {
      "cell_type": "markdown",
      "source": [
        "## **8.1. Fit the model**"
      ],
      "metadata": {
        "id": "lLZMrUg4Ek21"
      }
    },
    {
      "cell_type": "code",
      "source": [
        "# initialize the model\n",
        "model_lg = LogisticRegression()"
      ],
      "metadata": {
        "id": "xxeqV2-N7XCV"
      },
      "execution_count": 246,
      "outputs": []
    },
    {
      "cell_type": "code",
      "source": [
        "# fit the model\n",
        "model_lg.fit(X_train_bow, y_train)"
      ],
      "metadata": {
        "colab": {
          "base_uri": "https://localhost:8080/",
          "height": 75
        },
        "id": "K7tUkBkFEjzQ",
        "outputId": "329592c6-4949-432e-8cbd-b081b3545e0c"
      },
      "execution_count": 247,
      "outputs": [
        {
          "output_type": "execute_result",
          "data": {
            "text/plain": [
              "LogisticRegression()"
            ],
            "text/html": [
              "<style>#sk-container-id-15 {color: black;background-color: white;}#sk-container-id-15 pre{padding: 0;}#sk-container-id-15 div.sk-toggleable {background-color: white;}#sk-container-id-15 label.sk-toggleable__label {cursor: pointer;display: block;width: 100%;margin-bottom: 0;padding: 0.3em;box-sizing: border-box;text-align: center;}#sk-container-id-15 label.sk-toggleable__label-arrow:before {content: \"▸\";float: left;margin-right: 0.25em;color: #696969;}#sk-container-id-15 label.sk-toggleable__label-arrow:hover:before {color: black;}#sk-container-id-15 div.sk-estimator:hover label.sk-toggleable__label-arrow:before {color: black;}#sk-container-id-15 div.sk-toggleable__content {max-height: 0;max-width: 0;overflow: hidden;text-align: left;background-color: #f0f8ff;}#sk-container-id-15 div.sk-toggleable__content pre {margin: 0.2em;color: black;border-radius: 0.25em;background-color: #f0f8ff;}#sk-container-id-15 input.sk-toggleable__control:checked~div.sk-toggleable__content {max-height: 200px;max-width: 100%;overflow: auto;}#sk-container-id-15 input.sk-toggleable__control:checked~label.sk-toggleable__label-arrow:before {content: \"▾\";}#sk-container-id-15 div.sk-estimator input.sk-toggleable__control:checked~label.sk-toggleable__label {background-color: #d4ebff;}#sk-container-id-15 div.sk-label input.sk-toggleable__control:checked~label.sk-toggleable__label {background-color: #d4ebff;}#sk-container-id-15 input.sk-hidden--visually {border: 0;clip: rect(1px 1px 1px 1px);clip: rect(1px, 1px, 1px, 1px);height: 1px;margin: -1px;overflow: hidden;padding: 0;position: absolute;width: 1px;}#sk-container-id-15 div.sk-estimator {font-family: monospace;background-color: #f0f8ff;border: 1px dotted black;border-radius: 0.25em;box-sizing: border-box;margin-bottom: 0.5em;}#sk-container-id-15 div.sk-estimator:hover {background-color: #d4ebff;}#sk-container-id-15 div.sk-parallel-item::after {content: \"\";width: 100%;border-bottom: 1px solid gray;flex-grow: 1;}#sk-container-id-15 div.sk-label:hover label.sk-toggleable__label {background-color: #d4ebff;}#sk-container-id-15 div.sk-serial::before {content: \"\";position: absolute;border-left: 1px solid gray;box-sizing: border-box;top: 0;bottom: 0;left: 50%;z-index: 0;}#sk-container-id-15 div.sk-serial {display: flex;flex-direction: column;align-items: center;background-color: white;padding-right: 0.2em;padding-left: 0.2em;position: relative;}#sk-container-id-15 div.sk-item {position: relative;z-index: 1;}#sk-container-id-15 div.sk-parallel {display: flex;align-items: stretch;justify-content: center;background-color: white;position: relative;}#sk-container-id-15 div.sk-item::before, #sk-container-id-15 div.sk-parallel-item::before {content: \"\";position: absolute;border-left: 1px solid gray;box-sizing: border-box;top: 0;bottom: 0;left: 50%;z-index: -1;}#sk-container-id-15 div.sk-parallel-item {display: flex;flex-direction: column;z-index: 1;position: relative;background-color: white;}#sk-container-id-15 div.sk-parallel-item:first-child::after {align-self: flex-end;width: 50%;}#sk-container-id-15 div.sk-parallel-item:last-child::after {align-self: flex-start;width: 50%;}#sk-container-id-15 div.sk-parallel-item:only-child::after {width: 0;}#sk-container-id-15 div.sk-dashed-wrapped {border: 1px dashed gray;margin: 0 0.4em 0.5em 0.4em;box-sizing: border-box;padding-bottom: 0.4em;background-color: white;}#sk-container-id-15 div.sk-label label {font-family: monospace;font-weight: bold;display: inline-block;line-height: 1.2em;}#sk-container-id-15 div.sk-label-container {text-align: center;}#sk-container-id-15 div.sk-container {/* jupyter's `normalize.less` sets `[hidden] { display: none; }` but bootstrap.min.css set `[hidden] { display: none !important; }` so we also need the `!important` here to be able to override the default hidden behavior on the sphinx rendered scikit-learn.org. See: https://github.com/scikit-learn/scikit-learn/issues/21755 */display: inline-block !important;position: relative;}#sk-container-id-15 div.sk-text-repr-fallback {display: none;}</style><div id=\"sk-container-id-15\" class=\"sk-top-container\"><div class=\"sk-text-repr-fallback\"><pre>LogisticRegression()</pre><b>In a Jupyter environment, please rerun this cell to show the HTML representation or trust the notebook. <br />On GitHub, the HTML representation is unable to render, please try loading this page with nbviewer.org.</b></div><div class=\"sk-container\" hidden><div class=\"sk-item\"><div class=\"sk-estimator sk-toggleable\"><input class=\"sk-toggleable__control sk-hidden--visually\" id=\"sk-estimator-id-15\" type=\"checkbox\" checked><label for=\"sk-estimator-id-15\" class=\"sk-toggleable__label sk-toggleable__label-arrow\">LogisticRegression</label><div class=\"sk-toggleable__content\"><pre>LogisticRegression()</pre></div></div></div></div></div>"
            ]
          },
          "metadata": {},
          "execution_count": 247
        }
      ]
    },
    {
      "cell_type": "markdown",
      "source": [
        "## **8.2. Check the stability**"
      ],
      "metadata": {
        "id": "rZFZiHBHFGHt"
      }
    },
    {
      "cell_type": "code",
      "source": [
        "# perform 5-fold cross validation\n",
        "model_lg_acc = cross_val_score(estimator=model_lg, X=X_train_bow.toarray(), y=y_train, cv=5, n_jobs=-1)\n",
        "model_lg_acc"
      ],
      "metadata": {
        "colab": {
          "base_uri": "https://localhost:8080/"
        },
        "id": "e9RuQFLNEj2C",
        "outputId": "acbd5beb-9328-4fa5-e3c8-5c1d836d7667"
      },
      "execution_count": 248,
      "outputs": [
        {
          "output_type": "execute_result",
          "data": {
            "text/plain": [
              "array([0.83208955, 0.79477612, 0.82462687, 0.78731343, 0.82835821])"
            ]
          },
          "metadata": {},
          "execution_count": 248
        }
      ]
    },
    {
      "cell_type": "markdown",
      "source": [
        "*It looks quite stable.*\n",
        "\n",
        "---\n",
        "\n"
      ],
      "metadata": {
        "id": "6idXy_AeFSpU"
      }
    },
    {
      "cell_type": "markdown",
      "source": [
        "## **8.3. predict the outcome**"
      ],
      "metadata": {
        "id": "_lG8fqpZFXgg"
      }
    },
    {
      "cell_type": "code",
      "source": [
        "# predict\n",
        "y_pred_lg = model_lg.predict(X_test_bow.toarray())\n",
        "y_pred_lg[:10]"
      ],
      "metadata": {
        "colab": {
          "base_uri": "https://localhost:8080/"
        },
        "id": "8ZQDDAqfEj4X",
        "outputId": "e8ef4efe-e6bf-443d-c285-6992d5c85e0a"
      },
      "execution_count": 249,
      "outputs": [
        {
          "output_type": "execute_result",
          "data": {
            "text/plain": [
              "array(['pos', 'neg', 'pos', 'neg', 'neg', 'pos', 'neg', 'neg', 'neg',\n",
              "       'pos'], dtype='<U3')"
            ]
          },
          "metadata": {},
          "execution_count": 249
        }
      ]
    },
    {
      "cell_type": "markdown",
      "source": [
        "# **9. Evaluation**"
      ],
      "metadata": {
        "id": "5YtNtytRFwZq"
      }
    },
    {
      "cell_type": "code",
      "source": [
        "# mean accuracy\n",
        "print(f'SVM: {model_svm.score(X_test_bow, y_test)}')\n",
        "print(f'Decision tree: {model_dec.score(X_test_bow, y_test)}')\n",
        "print(f'Naive bayes: {model_gnb.score(X_test_bow.toarray(), y_test)}')\n",
        "print(f'Logistic Regression: {model_lg.score(X_test_bow, y_test)}')"
      ],
      "metadata": {
        "id": "Cli2wx_N7XET",
        "colab": {
          "base_uri": "https://localhost:8080/"
        },
        "outputId": "a5504760-2e0f-4152-97fa-86567c7de19b"
      },
      "execution_count": 250,
      "outputs": [
        {
          "output_type": "stream",
          "name": "stdout",
          "text": [
            "SVM: 0.8075757575757576\n",
            "Decision tree: 0.65\n",
            "Naive bayes: 0.7015151515151515\n",
            "Logistic Regression: 0.7954545454545454\n"
          ]
        }
      ]
    },
    {
      "cell_type": "markdown",
      "source": [
        "*SVM has got the highest mean accuracy while Decision tree has got the lowest.*\n",
        "\n",
        "---\n",
        "\n"
      ],
      "metadata": {
        "id": "LqNnjmLCHBLt"
      }
    },
    {
      "cell_type": "markdown",
      "source": [
        "## **9.1. SVM**"
      ],
      "metadata": {
        "id": "E9NDt_U0LIQv"
      }
    },
    {
      "cell_type": "code",
      "source": [
        "# check F1 score of SVM\n",
        "f1_score(y_test, y_pred_svm, average=None, labels=movie_reviews.categories())"
      ],
      "metadata": {
        "colab": {
          "base_uri": "https://localhost:8080/"
        },
        "id": "tD1gr20WFtGz",
        "outputId": "8d67c261-14fe-471e-9b3d-e098e4decefd"
      },
      "execution_count": 251,
      "outputs": [
        {
          "output_type": "execute_result",
          "data": {
            "text/plain": [
              "array([0.80248834, 0.81240768])"
            ]
          },
          "metadata": {},
          "execution_count": 251
        }
      ]
    },
    {
      "cell_type": "code",
      "source": [
        "# create a confusion matrix\n",
        "ConfusionMatrixDisplay.from_estimator(model_svm, X_test_bow, y_test, normalize='all')"
      ],
      "metadata": {
        "colab": {
          "base_uri": "https://localhost:8080/",
          "height": 466
        },
        "id": "YZZlAG8TFtJI",
        "outputId": "0a2da2ca-ab9a-46c0-f3d9-3a7d7aa88487"
      },
      "execution_count": 252,
      "outputs": [
        {
          "output_type": "execute_result",
          "data": {
            "text/plain": [
              "<sklearn.metrics._plot.confusion_matrix.ConfusionMatrixDisplay at 0x7dcc360c9f90>"
            ]
          },
          "metadata": {},
          "execution_count": 252
        },
        {
          "output_type": "display_data",
          "data": {
            "text/plain": [
              "<Figure size 640x480 with 2 Axes>"
            ],
            "image/png": "[encoded data removed]"
          },
          "metadata": {}
        }
      ]
    },
    {
      "cell_type": "code",
      "source": [
        "# try\n",
        "new_review = ['This movie looks so so.',\n",
        "              'This movie looks good.',\n",
        "              'Love it and hate it.',\n",
        "              'it and it',\n",
        "              'Hate it and love it.',\n",
        "              'Hate it so much.']\n",
        "\n",
        "new_review_bow = tfidf.transform(new_review)\n",
        "model_svm.predict(new_review_bow)"
      ],
      "metadata": {
        "colab": {
          "base_uri": "https://localhost:8080/"
        },
        "id": "MwkyOGI4FtMC",
        "outputId": "2ed968a0-8219-4516-d698-92921a556f39"
      },
      "execution_count": 253,
      "outputs": [
        {
          "output_type": "execute_result",
          "data": {
            "text/plain": [
              "array(['neg', 'neg', 'pos', 'pos', 'pos', 'neg'], dtype='<U3')"
            ]
          },
          "metadata": {},
          "execution_count": 253
        }
      ]
    },
    {
      "cell_type": "markdown",
      "source": [
        "*Rgiht: 3/6.*\n",
        "\n",
        "---\n",
        "\n"
      ],
      "metadata": {
        "id": "gwK1q-FhNkjI"
      }
    },
    {
      "cell_type": "markdown",
      "source": [
        "## **9.2. Decision tree**"
      ],
      "metadata": {
        "id": "73qk7hPXNv2x"
      }
    },
    {
      "cell_type": "code",
      "source": [
        "# check F1 score of decision tree\n",
        "f1_score(y_test, y_pred_dec, average=None, labels=movie_reviews.categories())"
      ],
      "metadata": {
        "colab": {
          "base_uri": "https://localhost:8080/"
        },
        "id": "WIPsxIwXFtOA",
        "outputId": "e18d3e52-ff26-447f-ee8d-06a65cc1099b"
      },
      "execution_count": 254,
      "outputs": [
        {
          "output_type": "execute_result",
          "data": {
            "text/plain": [
              "array([0.64296754, 0.65676077])"
            ]
          },
          "metadata": {},
          "execution_count": 254
        }
      ]
    },
    {
      "cell_type": "code",
      "source": [
        "# create a confusion matrix\n",
        "ConfusionMatrixDisplay.from_estimator(model_dec, X_test_bow, y_test, normalize='all')"
      ],
      "metadata": {
        "colab": {
          "base_uri": "https://localhost:8080/",
          "height": 466
        },
        "id": "ICOJ7EKEN1ix",
        "outputId": "7f9089c7-035a-47ad-b860-fa26817e3f36"
      },
      "execution_count": 255,
      "outputs": [
        {
          "output_type": "execute_result",
          "data": {
            "text/plain": [
              "<sklearn.metrics._plot.confusion_matrix.ConfusionMatrixDisplay at 0x7dcc360c9330>"
            ]
          },
          "metadata": {},
          "execution_count": 255
        },
        {
          "output_type": "display_data",
          "data": {
            "text/plain": [
              "<Figure size 640x480 with 2 Axes>"
            ],
            "image/png": "[encoded data removed]"
          },
          "metadata": {}
        }
      ]
    },
    {
      "cell_type": "code",
      "source": [
        "# try\n",
        "new_review = ['This movie looks so so.',\n",
        "              'This movie looks good.',\n",
        "              'Love it and hate it.',\n",
        "              'it and it',\n",
        "              'Hate it and love it.',\n",
        "              'Hate it so much.']\n",
        "\n",
        "new_review_bow = tfidf.transform(new_review)\n",
        "model_dec.predict(new_review_bow)"
      ],
      "metadata": {
        "colab": {
          "base_uri": "https://localhost:8080/"
        },
        "id": "BMEhJWOlN1lQ",
        "outputId": "0369435e-6dd7-42ca-d688-8050e27e4132"
      },
      "execution_count": 256,
      "outputs": [
        {
          "output_type": "execute_result",
          "data": {
            "text/plain": [
              "array(['pos', 'pos', 'pos', 'pos', 'pos', 'pos'], dtype='<U3')"
            ]
          },
          "metadata": {},
          "execution_count": 256
        }
      ]
    },
    {
      "cell_type": "markdown",
      "source": [
        "*Right: 4/6.*\n",
        "\n",
        "---\n",
        "\n"
      ],
      "metadata": {
        "id": "0GBs_DX0OvHX"
      }
    },
    {
      "cell_type": "markdown",
      "source": [
        "## **9.3. Naive bayes**"
      ],
      "metadata": {
        "id": "dzEF3Z6gO18W"
      }
    },
    {
      "cell_type": "code",
      "source": [
        "# check F1 score of naive bayes\n",
        "f1_score(y_test, y_pred_gnb, average=None, labels=movie_reviews.categories())"
      ],
      "metadata": {
        "colab": {
          "base_uri": "https://localhost:8080/"
        },
        "id": "TZUtRW7LN1n_",
        "outputId": "f89ff9ea-65a8-4a84-ad10-fd2a72f6b1d0"
      },
      "execution_count": 257,
      "outputs": [
        {
          "output_type": "execute_result",
          "data": {
            "text/plain": [
              "array([0.69073783, 0.71156662])"
            ]
          },
          "metadata": {},
          "execution_count": 257
        }
      ]
    },
    {
      "cell_type": "code",
      "source": [
        "# create a confusion matrix\n",
        "cm = confusion_matrix(y_test, y_pred_gnb, normalize='all')\n",
        "disp = ConfusionMatrixDisplay(cm, display_labels=movie_reviews.categories())\n",
        "disp.plot()"
      ],
      "metadata": {
        "colab": {
          "base_uri": "https://localhost:8080/",
          "height": 466
        },
        "id": "Np22rbcrN1p4",
        "outputId": "da9715d1-c6b7-488b-943f-efb066c14e2f"
      },
      "execution_count": 258,
      "outputs": [
        {
          "output_type": "execute_result",
          "data": {
            "text/plain": [
              "<sklearn.metrics._plot.confusion_matrix.ConfusionMatrixDisplay at 0x7dcc244a2920>"
            ]
          },
          "metadata": {},
          "execution_count": 258
        },
        {
          "output_type": "display_data",
          "data": {
            "text/plain": [
              "<Figure size 640x480 with 2 Axes>"
            ],
            "image/png": "[encoded data removed]"
          },
          "metadata": {}
        }
      ]
    },
    {
      "cell_type": "code",
      "source": [
        "# try\n",
        "new_review = ['This movie looks so so.',\n",
        "              'I like it.',\n",
        "              'Love it and hate it.',\n",
        "              'it and it',\n",
        "              'Hate it and love it.',\n",
        "              'Hate it so much.']\n",
        "\n",
        "new_review_bow = tfidf.transform(new_review)\n",
        "model_gnb.predict(new_review_bow.toarray())"
      ],
      "metadata": {
        "colab": {
          "base_uri": "https://localhost:8080/"
        },
        "id": "0iqvbsr5PF1p",
        "outputId": "7899e314-9d33-4ff2-cee0-f62b3cfc6ace"
      },
      "execution_count": 259,
      "outputs": [
        {
          "output_type": "execute_result",
          "data": {
            "text/plain": [
              "array(['neg', 'neg', 'neg', 'pos', 'neg', 'neg'], dtype='<U3')"
            ]
          },
          "metadata": {},
          "execution_count": 259
        }
      ]
    },
    {
      "cell_type": "markdown",
      "source": [
        "*Right: 3/6.*\n",
        "\n",
        "---\n",
        "\n"
      ],
      "metadata": {
        "id": "krq3MrwTP99U"
      }
    },
    {
      "cell_type": "markdown",
      "source": [
        "## **9.4. Logistic Regression**"
      ],
      "metadata": {
        "id": "QEr6pUJUQH_b"
      }
    },
    {
      "cell_type": "code",
      "source": [
        "# check F1 score of logistic regressino\n",
        "f1_score(y_test, y_pred_lg, average=None, labels=movie_reviews.categories())"
      ],
      "metadata": {
        "colab": {
          "base_uri": "https://localhost:8080/"
        },
        "outputId": "f029af51-45a0-4244-f477-2ee7463721ae",
        "id": "gDM1autHQIAF"
      },
      "execution_count": 260,
      "outputs": [
        {
          "output_type": "execute_result",
          "data": {
            "text/plain": [
              "array([0.79069767, 0.8       ])"
            ]
          },
          "metadata": {},
          "execution_count": 260
        }
      ]
    },
    {
      "cell_type": "code",
      "source": [
        "# create a confusion matrix\n",
        "ConfusionMatrixDisplay.from_estimator(model_lg, X_test_bow, y_test, normalize='all')"
      ],
      "metadata": {
        "colab": {
          "base_uri": "https://localhost:8080/",
          "height": 466
        },
        "outputId": "8c590485-003c-4efd-f5bb-428ed4f38dcd",
        "id": "SJ8w5W-RQIAG"
      },
      "execution_count": 261,
      "outputs": [
        {
          "output_type": "execute_result",
          "data": {
            "text/plain": [
              "<sklearn.metrics._plot.confusion_matrix.ConfusionMatrixDisplay at 0x7dcc39a480a0>"
            ]
          },
          "metadata": {},
          "execution_count": 261
        },
        {
          "output_type": "display_data",
          "data": {
            "text/plain": [
              "<Figure size 640x480 with 2 Axes>"
            ],
            "image/png": "[encoded data removed]"
          },
          "metadata": {}
        }
      ]
    },
    {
      "cell_type": "code",
      "source": [
        "# try\n",
        "new_review = ['This movie looks so so.',\n",
        "              'I like it.',\n",
        "              'Love it and hate it.',\n",
        "              'it and it',\n",
        "              'Hate it and love it.',\n",
        "              'Hate it so much.']\n",
        "\n",
        "new_review_bow = tfidf.transform(new_review)\n",
        "model_lg.predict(new_review_bow.toarray())"
      ],
      "metadata": {
        "colab": {
          "base_uri": "https://localhost:8080/"
        },
        "outputId": "537975c8-7526-48ba-f298-26856a99a32d",
        "id": "4gU-DXXaQIAH"
      },
      "execution_count": 262,
      "outputs": [
        {
          "output_type": "execute_result",
          "data": {
            "text/plain": [
              "array(['neg', 'neg', 'neg', 'pos', 'neg', 'neg'], dtype='<U3')"
            ]
          },
          "metadata": {},
          "execution_count": 262
        }
      ]
    },
    {
      "cell_type": "markdown",
      "source": [
        "*Right: 3/6.*\n",
        "\n",
        "---\n",
        "\n"
      ],
      "metadata": {
        "id": "ih_9VV1mQIAI"
      }
    },
    {
      "cell_type": "markdown",
      "source": [
        "***Post analysis will be studied later.***\n",
        "\n",
        "*1. LIME*\n",
        "\n",
        "*2. Model coefficients and feature importance*\n",
        "\n",
        "*3. Permutation importances*\n",
        "\n",
        "---\n",
        "\n"
      ],
      "metadata": {
        "id": "DLcM933GTnLv"
      }
    }
  ],
  "metadata": {
    "colab": {
      "toc_visible": true,
      "provenance": []
    },
    "kernelspec": {
      "display_name": "Python 3",
      "name": "python3"
    },
    "language_info": {
      "name": "python"
    }
  },
  "nbformat": 4,
  "nbformat_minor": 0
}