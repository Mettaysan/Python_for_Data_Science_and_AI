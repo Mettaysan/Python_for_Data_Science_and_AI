{
  "cells": [
    {
      "cell_type": "markdown",
      "metadata": {
        "id": "EAeNOIEQeGNB"
      },
      "source": [
        "# MNIST classification using MLP"
      ]
    },
    {
      "cell_type": "markdown",
      "metadata": {
        "id": "QzwczfpDeGND"
      },
      "source": [
        "The goal of this exercise is to train a simple MLP on the MNIST digit classification dataset, the \"Hello World!\" of machine learning. MNIST was created by Yann LeCun to benchmark supervised learning algorithms. State-of the art is at 99.7% accuracy on the test set (using convolutional deep networks).\n",
        "\n",
        "Here is a link of a good video for your reference: https://www.youtube.com/watch?v=7YaqzpitBXw\n",
        "\n",
        "In MNIST, each input is a 28x28 grayscale image representing digits between 0 and 9. The training set has 60.000 examples, the test set 10.000.\n",
        "\n",
        "Instead of programming explicitly the MLP like in the previous exercise, we will now use **Keras** <https://keras.io>, a high-level API to **tensorflow** <https://tensorflow.org>.\n",
        "\n",
        "You need first to install `tensorflow` 2.x if not done already. On Colab, tensorflow is already installed. Even if you are using Anaconda, it is recommended to install tensorflow with pip:\n",
        "\n",
        "```bash\n",
        "pip install tensorflow\n",
        "```"
      ]
    },
    {
      "cell_type": "code",
      "source": [
        "#!pip install tensorflow"
      ],
      "metadata": {
        "id": "Vm0OPl45wh_D"
      },
      "execution_count": 1,
      "outputs": []
    },
    {
      "cell_type": "code",
      "execution_count": 2,
      "metadata": {
        "colab": {
          "base_uri": "https://localhost:8080/"
        },
        "id": "DEclaBtkeGNF",
        "outputId": "d6544be9-e9e2-4ac1-9a2f-d709602f76de"
      },
      "outputs": [
        {
          "output_type": "stream",
          "name": "stdout",
          "text": [
            "2.14.0\n"
          ]
        }
      ],
      "source": [
        "import numpy as np\n",
        "import matplotlib.pyplot as plt\n",
        "\n",
        "import tensorflow as tf\n",
        "\n",
        "print(tf.__version__)"
      ]
    },
    {
      "cell_type": "markdown",
      "metadata": {
        "id": "4ToGTSaMeGNI"
      },
      "source": [
        "**Q:** Read the documentation of keras at <https://keras.io/api/> to get an overview of its structure."
      ]
    },
    {
      "cell_type": "markdown",
      "metadata": {
        "id": "C5YuCOs-eGNJ"
      },
      "source": [
        "## Basic model"
      ]
    },
    {
      "cell_type": "markdown",
      "metadata": {
        "id": "pRToVi8heGNJ"
      },
      "source": [
        "You are provided with a basic poor-performing keras model to get you started. The goal is to extend this model in order to obtain a satisfying accuracy on the test set."
      ]
    },
    {
      "cell_type": "markdown",
      "metadata": {
        "id": "Ud2H82Y3eGNJ"
      },
      "source": [
        "### Data preprocessing\n",
        "\n",
        "The first step is to download the MNIST dataset. You could download the raw data from different sources and process it, but that would take a while.\n",
        "\n",
        "Fortunately, keras comes with a utility to automatically download MNIST, split it into training and test set and create nice numpy arrays:"
      ]
    },
    {
      "cell_type": "code",
      "execution_count": 3,
      "metadata": {
        "colab": {
          "base_uri": "https://localhost:8080/"
        },
        "id": "PPGN40-1eGNJ",
        "outputId": "9f64e4ae-3486-42cd-f398-eace0452af29"
      },
      "outputs": [
        {
          "output_type": "stream",
          "name": "stdout",
          "text": [
            "Downloading data from https://storage.googleapis.com/tensorflow/tf-keras-datasets/mnist.npz\n",
            "11490434/11490434 [==============================] - 0s 0us/step\n"
          ]
        }
      ],
      "source": [
        "(X_train, t_train), (X_test, t_test) = tf.keras.datasets.mnist.load_data()"
      ]
    },
    {
      "cell_type": "markdown",
      "metadata": {
        "id": "JkgXi3RCeGNJ"
      },
      "source": [
        "Have a look at the doc of `tf.keras.datasets` to see what other datasets you can simply use.\n",
        "\n",
        "**Q:** Print the shape of the four numpy arrays `(X_train, t_train), (X_test, t_test)` and visualize some training examples to better understand what you are going to work on."
      ]
    },
    {
      "cell_type": "code",
      "execution_count": 4,
      "metadata": {
        "colab": {
          "base_uri": "https://localhost:8080/",
          "height": 1000
        },
        "id": "dDEY60IIeGNK",
        "outputId": "adeb6e15-d6e5-407e-881b-59d0bf8c9492"
      },
      "outputs": [
        {
          "output_type": "stream",
          "name": "stdout",
          "text": [
            "Training data: (60000, 28, 28) (60000,)\n",
            "Test data: (10000, 28, 28) (10000,)\n",
            "x: [[  0   0   0   0   0   0   0   0   0   0   0   0   0   0   0   0   0   0\n",
            "    0   0   0   0   0   0   0   0   0   0]\n",
            " [  0   0   0   0   0   0   0   0   0   0   0   0   0   0   0   0   0   0\n",
            "    0   0   0   0   0   0   0   0   0   0]\n",
            " [  0   0   0   0   0   0   0   0   0   0   0   0   0   0   0   0   0   0\n",
            "    0   0   0   0   0   0   0   0   0   0]\n",
            " [  0   0   0   0   0   0   0   0   0   0   0   0   0   0   0   0   0   0\n",
            "    0   0   0   0   0   0   0   0   0   0]\n",
            " [  0   0   0   0   0   0   0   0   0   0   0   0   0   0  83 149   0   0\n",
            "    0   0   0   0   0   0   0   0   0   0]\n",
            " [  0   0   0   0   0   0   0   0   0   0   0   0   0   0 104 245   9   0\n",
            "    0   0   0   0   0   0   0   0   0   0]\n",
            " [  0   0   0   0   0   0   0   0   0   0   0   0   0   0  32 254  40   0\n",
            "    0   0   0   0   0   0   0   0   0   0]\n",
            " [  0   0   0   0   0   0   0  66  68   0   0   0   0   0  15 232 144   0\n",
            "    0   0   0   0   0   0   0   0   0   0]\n",
            " [  0   0   0   0   0   0   0 166 128   0   0   0   0   0   0 135 208   4\n",
            "    0   0   0   0   0   0   0   0   0   0]\n",
            " [  0   0   0   0   0   0   0 181 128   0   0   0   0   0   0  64 254  88\n",
            "    0   0   0   0   0   0   0   0   0   0]\n",
            " [  0   0   0   0   0   0   0 240 105   0   0   0   0   0   0  24 245 126\n",
            "    0   0   0   0   0   0   0   0   0   0]\n",
            " [  0   0   0   0   0   0   0 232  30   0   0   0   0   0   0   0 136 190\n",
            "    4   0   0   0   0   0   0   0   0   0]\n",
            " [  0   0   0   0   0   0  36 230   0   0   0   0   0   0   0   0  96 255\n",
            "   41   0   0   0   0   0   0   0   0   0]\n",
            " [  0   0   0   0   0   0  60 236   0   0   0   0   0   0   0   0  23 254\n",
            "   92   0   0   0   0   0   0   0   0   0]\n",
            " [  0   0   0   0   0   0 102 236   0   0   0   0   0  20   1  21  85 254\n",
            "   92   0   0   0   0   0   0   0   0   0]\n",
            " [  0   0   0   0   0   0 133 244 104 150 177 222 252 227 213 188 189 167\n",
            "  165   0   0   0   0   0   0   0   0   0]\n",
            " [  0   0   0   0   0   0  58 251 205 191 157 117  44   7   0   0   0 129\n",
            "  227   0   0   0   0   0   0   0   0   0]\n",
            " [  0   0   0   0   0   0   0  10   3   0   0   0   0   0   0   0   0 129\n",
            "  241   6   0   0   0   0   0   0   0   0]\n",
            " [  0   0   0   0   0   0   0   0   0   0   0   0   0   0   0   0   0 129\n",
            "  254  59   0   0   0   0   0   0   0   0]\n",
            " [  0   0   0   0   0   0   0   0   0   0   0   0   0   0   0   0   0 129\n",
            "  254  59   0   0   0   0   0   0   0   0]\n",
            " [  0   0   0   0   0   0   0   0   0   0   0   0   0   0   0   0   0 129\n",
            "  247  31   0   0   0   0   0   0   0   0]\n",
            " [  0   0   0   0   0   0   0   0   0   0   0   0   0   0   0   0   0 129\n",
            "  240   0   0   0   0   0   0   0   0   0]\n",
            " [  0   0   0   0   0   0   0   0   0   0   0   0   0   0   0   0   0 129\n",
            "  246  27   0   0   0   0   0   0   0   0]\n",
            " [  0   0   0   0   0   0   0   0   0   0   0   0   0   0   0   0   0  93\n",
            "  193   8   0   0   0   0   0   0   0   0]\n",
            " [  0   0   0   0   0   0   0   0   0   0   0   0   0   0   0   0   0   0\n",
            "    0   0   0   0   0   0   0   0   0   0]\n",
            " [  0   0   0   0   0   0   0   0   0   0   0   0   0   0   0   0   0   0\n",
            "    0   0   0   0   0   0   0   0   0   0]\n",
            " [  0   0   0   0   0   0   0   0   0   0   0   0   0   0   0   0   0   0\n",
            "    0   0   0   0   0   0   0   0   0   0]\n",
            " [  0   0   0   0   0   0   0   0   0   0   0   0   0   0   0   0   0   0\n",
            "    0   0   0   0   0   0   0   0   0   0]]\n",
            "x (shape): (28, 28)\n",
            "t: 4\n"
          ]
        },
        {
          "output_type": "display_data",
          "data": {
            "text/plain": [
              "<Figure size 500x500 with 2 Axes>"
            ],
            "image/png": "[encoded data removed]"
          },
          "metadata": {}
        }
      ],
      "source": [
        "print(\"Training data:\", X_train.shape, t_train.shape)\n",
        "print(\"Test data:\", X_test.shape, t_test.shape)\n",
        "\n",
        "idx = 682 # for example\n",
        "x = X_train[idx, :]\n",
        "t = t_train[idx]\n",
        "print(\"x:\", x)\n",
        "print(\"x (shape):\", x.shape)\n",
        "print(\"t:\", t)\n",
        "\n",
        "plt.figure(figsize=(5, 5))\n",
        "plt.imshow(x, cmap=\"gray\")\n",
        "plt.colorbar()\n",
        "plt.show()"
      ]
    },
    {
      "cell_type": "markdown",
      "metadata": {
        "id": "umqIobAXeGNK"
      },
      "source": [
        "In this exercise, we are going to use a regular MLP (with fully-connected layers). Convolutional layers will be seen next time.\n",
        "\n",
        "We therefore need to transform the 28x28 input matrix into a 784 vector. Additionally, pixel values are integers between 0 and 255. We have to rescale them to floating values in [0, 1]."
      ]
    },
    {
      "cell_type": "code",
      "execution_count": 5,
      "metadata": {
        "id": "9T-0ouMzeGNK"
      },
      "outputs": [],
      "source": [
        "X_train = X_train.reshape(X_train.shape[0], 784).astype('float32') / 255.\n",
        "X_test = X_test.reshape(X_test.shape[0], 784).astype('float32') / 255."
      ]
    },
    {
      "cell_type": "markdown",
      "metadata": {
        "id": "ZZX1y-7KeGNK"
      },
      "source": [
        "We saw in the last exercise that **mean removal** is crucial when training a neural network. The following cell removes the mean image of the training set from all examples."
      ]
    },
    {
      "cell_type": "code",
      "execution_count": 6,
      "metadata": {
        "colab": {
          "base_uri": "https://localhost:8080/",
          "height": 445
        },
        "id": "UlEaKhWEeGNK",
        "outputId": "51ffb834-a40b-4b4b-d4df-0c0c40d0feb4"
      },
      "outputs": [
        {
          "output_type": "display_data",
          "data": {
            "text/plain": [
              "<Figure size 500x500 with 1 Axes>"
            ],
            "image/png": "[encoded data removed]"
          },
          "metadata": {}
        }
      ],
      "source": [
        "X_mean = np.mean(X_train, axis=0)\n",
        "X_train -= X_mean\n",
        "X_test -= X_mean\n",
        "\n",
        "\n",
        "plt.figure(figsize=(5, 5))\n",
        "plt.imshow(X_mean.reshape((28, 28))*255, cmap=\"gray\")\n",
        "plt.show()"
      ]
    },
    {
      "cell_type": "markdown",
      "metadata": {
        "id": "YZqea4uHeGNL"
      },
      "source": [
        "The last preprocessing step is to perform **one-hot encoding** of the output labels. We want for example the digit 4 (index 5 in the outputs t) to be represented by the vector:\n",
        "\n",
        "[0. 0. 0. 0. 1. 0. 0. 0. 0. 0.]\n",
        "\n",
        "`keras` offers the utility `utils.to_categorical` to do that on the whole data:"
      ]
    },
    {
      "cell_type": "code",
      "execution_count": 7,
      "metadata": {
        "colab": {
          "base_uri": "https://localhost:8080/"
        },
        "id": "M_tdBgcCeGNL",
        "outputId": "84705f1e-b531-4f0b-82d3-718aff14d562"
      },
      "outputs": [
        {
          "output_type": "stream",
          "name": "stdout",
          "text": [
            "[0. 0. 0. 0. 1. 0. 0. 0. 0. 0.]\n"
          ]
        }
      ],
      "source": [
        "T_train = tf.keras.utils.to_categorical(t_train, 10)\n",
        "T_test = tf.keras.utils.to_categorical(t_test, 10)\n",
        "\n",
        "print(T_train[idx])"
      ]
    },
    {
      "cell_type": "markdown",
      "metadata": {
        "id": "YWmpE_4BeGNM"
      },
      "source": [
        "All set! The data is ready to be learned by a neural network. You should normally not have to re-run those cells again. If you do, do not forget to run all of them sequentially:"
      ]
    },
    {
      "cell_type": "markdown",
      "metadata": {
        "id": "daDr9nv_eGNM"
      },
      "source": [
        "### Model definition\n",
        "\n",
        "Let's now define a simple MLP with keras. When using a notebook, you can recreate models by simply re-running the cell, but this does not delete the previous networks which may end up filling your RAM. It is therefore good practice to start by telling tensorflow to delete all previous models (if this is what you want):\n",
        "\n",
        "```python\n",
        "tf.keras.backend.clear_session()\n",
        "```\n",
        "\n",
        "One way to define a neural network in keras is by stacking layers in a `Sequential()` model (you can later have a look at the doc of `Model()` for directed acyclic graphs).\n",
        "\n",
        "```python\n",
        "model = tf.keras.models.Sequential()\n",
        "```\n",
        "\n",
        "The input layer has 784 neurons, one per pixel in the input image. We only need to define a placeholder of the correct size to represent inputs and `add()` it to the model as its first layer:\n",
        "\n",
        "```python\n",
        "model.add(tf.keras.layers.Input(shape=(784,)))\n",
        "```\n",
        "\n",
        "The input layer goes into a hidden, fully-connected, layer of 100 neurons using the logistic (or sigmoid) transfer function This can be specified by adding to the model a `Dense` layer (in the sense \"fully-connected\") with 100 units (another name for neuron), followed by an `Activation` layer using the 'sigmoid' function:\n",
        "\n",
        "```python\n",
        "model.add(tf.keras.layers.Dense(units=100))\n",
        "model.add(tf.keras.layers.Activation('sigmoid'))\n",
        "```\n",
        "\n",
        "The weight matrix and the biases are intialized automatically using the Glorot uniform scheme (seen in the last exercise) for the weights and zeros for the biases. Check the doc of the `Dense` layer to see how to change this: <https://keras.io/layers/core/#dense>.\n",
        "\n",
        "We then add a softmax layer as output layer (classification problem), with 10 units (one per digit):\n",
        "\n",
        "```python\n",
        "model.add(tf.keras.layers.Dense(units=10))\n",
        "model.add(tf.keras.layers.Activation('softmax'))\n",
        "```\n",
        "\n",
        "Weights and biases are initialized in the same manner. That's all, keras now knows how to transform the input vector into class probabilities using randomly initialized weights!\n",
        "\n",
        "For training, we need to choose an optimizer (learning rule). Several optimizers are available (<https://keras.io/optimizers/>). We pick simply **Stochastic Gradient Descent** with a learning rate of 0.01:\n",
        "\n",
        "```python\n",
        "optimizer = tf.keras.optimizers.SGD(lr=0.01)\n",
        "```\n",
        "\n",
        "The last step is to **compile** the network, so that keras computes how to implement the backpropagation algorithm. You need to specify:\n",
        "\n",
        "1. which loss function you want to minimize. The full list is at <https://keras.io/losses/>. Here, we will use the cross-entropy loss function as we have a clasification problem with softmax outputs.\n",
        "2. which optimizer you want to use.\n",
        "3. which metrics (accuracy, error, etc. - <https://keras.io/metrics/>) you want to track during learning.\n",
        "\n",
        "After the call to `compile()`, the neural network is instantiated and ready to learn."
      ]
    },
    {
      "cell_type": "code",
      "execution_count": 8,
      "metadata": {
        "colab": {
          "base_uri": "https://localhost:8080/"
        },
        "id": "LERCQExNeGNM",
        "outputId": "19c7d78c-366e-4fa5-8711-7630cd3e2ea0"
      },
      "outputs": [
        {
          "output_type": "stream",
          "name": "stderr",
          "text": [
            "WARNING:absl:`lr` is deprecated in Keras optimizer, please use `learning_rate` or use the legacy optimizer, e.g.,tf.keras.optimizers.legacy.SGD.\n"
          ]
        }
      ],
      "source": [
        "# Delete all previous models to free memory\n",
        "tf.keras.backend.clear_session()\n",
        "\n",
        "# Sequential model\n",
        "model = tf.keras.models.Sequential()\n",
        "\n",
        "# Input layer representing the 784 pixels\n",
        "model.add(tf.keras.layers.Input(shape=(784,)))\n",
        "\n",
        "# Hidden layer with 100 logistic neurons\n",
        "model.add(tf.keras.layers.Dense(units=100))\n",
        "model.add(tf.keras.layers.Activation('sigmoid'))\n",
        "\n",
        "# Softmax output layer over 10 classes\n",
        "model.add(tf.keras.layers.Dense(units=10))\n",
        "model.add(tf.keras.layers.Activation('softmax'))\n",
        "\n",
        "# Learning rule\n",
        "optimizer = tf.keras.optimizers.SGD(lr=0.01)\n",
        "\n",
        "# Loss function\n",
        "model.compile(\n",
        "    loss='categorical_crossentropy', # loss function\n",
        "    optimizer=optimizer, # learning rule\n",
        "    metrics=['accuracy'] # show accuracy\n",
        ")"
      ]
    },
    {
      "cell_type": "markdown",
      "metadata": {
        "id": "WTOBkrofeGNN"
      },
      "source": [
        "A good practice after creating the model is to call `model.summary()` to see how many layers you have created and how many parameters each layer has.\n",
        "\n",
        "**Q:** Explain why you obtain this numbers of parameters in each layer."
      ]
    },
    {
      "cell_type": "code",
      "execution_count": 9,
      "metadata": {
        "colab": {
          "base_uri": "https://localhost:8080/"
        },
        "id": "udfiTtIEeGNN",
        "outputId": "6c784906-1958-43da-8c2d-5357291d706b"
      },
      "outputs": [
        {
          "output_type": "stream",
          "name": "stdout",
          "text": [
            "Model: \"sequential\"\n",
            "_________________________________________________________________\n",
            " Layer (type)                Output Shape              Param #   \n",
            "=================================================================\n",
            " dense (Dense)               (None, 100)               78500     \n",
            "                                                                 \n",
            " activation (Activation)     (None, 100)               0         \n",
            "                                                                 \n",
            " dense_1 (Dense)             (None, 10)                1010      \n",
            "                                                                 \n",
            " activation_1 (Activation)   (None, 10)                0         \n",
            "                                                                 \n",
            "=================================================================\n",
            "Total params: 79510 (310.59 KB)\n",
            "Trainable params: 79510 (310.59 KB)\n",
            "Non-trainable params: 0 (0.00 Byte)\n",
            "_________________________________________________________________\n",
            "None\n"
          ]
        }
      ],
      "source": [
        "print(model.summary())"
      ]
    },
    {
      "cell_type": "markdown",
      "metadata": {
        "id": "kU_SPaI9eGNN"
      },
      "source": [
        "**A:** the hidden layer has a weight matrix of size 784x100 and 100 biases, what makes 78500 free parameters. The output layer has a weight matrix of size 100x10 and 10 biases, so 1010 parameters.\n",
        "\n",
        "Note that we have more free parameters than training examples, we are going to have to regularize quite hard..."
      ]
    },
    {
      "cell_type": "markdown",
      "metadata": {
        "id": "jswoWx7qeGNN"
      },
      "source": [
        "### Model training\n",
        "\n",
        "Now is time to train the network on MNIST. The following cell creates a `History()` object that will record the progress of your network.\n",
        "\n",
        "It then calls the `model.fit()` method, which tells the network to learn the MNIST dataset defined by the `(X_train, Y_train)` arrays. You have to specify:\n",
        "\n",
        "1. the batch size, i.e. the number of training examples in each minibatch used by SGD.\n",
        "2. the maximal number of epochs for training\n",
        "3. the size of the validation, taken from the training set to track the progress (this is not the test set!). Here we reserve 10% of the training data to validate. If you do not have much data, you could set it to 0.\n",
        "4. a callback, which will be called at the end of each epoch. Here it will save the metrics defined in `model.compile()` in the `History()` object.\n",
        "\n",
        "The training process can take a while depending on how big your network is and how many data samples you have. You can interrupt the kernel using the menu if you want to stop the processing in the cell."
      ]
    },
    {
      "cell_type": "code",
      "execution_count": 10,
      "metadata": {
        "colab": {
          "base_uri": "https://localhost:8080/"
        },
        "id": "Vogemv8KeGNN",
        "outputId": "bf76963e-078c-4892-a87a-6fd9ec72057c"
      },
      "outputs": [
        {
          "output_type": "stream",
          "name": "stdout",
          "text": [
            "Epoch 1/20\n",
            "422/422 [==============================] - 6s 5ms/step - loss: 2.0603 - accuracy: 0.4712 - val_loss: 1.8158 - val_accuracy: 0.6788\n",
            "Epoch 2/20\n",
            "422/422 [==============================] - 2s 4ms/step - loss: 1.6351 - accuracy: 0.7105 - val_loss: 1.4144 - val_accuracy: 0.7802\n",
            "Epoch 3/20\n",
            "422/422 [==============================] - 2s 4ms/step - loss: 1.2998 - accuracy: 0.7663 - val_loss: 1.1154 - val_accuracy: 0.8245\n",
            "Epoch 4/20\n",
            "422/422 [==============================] - 1s 3ms/step - loss: 1.0617 - accuracy: 0.7987 - val_loss: 0.9112 - val_accuracy: 0.8443\n",
            "Epoch 5/20\n",
            "422/422 [==============================] - 1s 3ms/step - loss: 0.9009 - accuracy: 0.8194 - val_loss: 0.7739 - val_accuracy: 0.8643\n",
            "Epoch 6/20\n",
            "422/422 [==============================] - 1s 3ms/step - loss: 0.7907 - accuracy: 0.8344 - val_loss: 0.6785 - val_accuracy: 0.8737\n",
            "Epoch 7/20\n",
            "422/422 [==============================] - 1s 3ms/step - loss: 0.7123 - accuracy: 0.8438 - val_loss: 0.6096 - val_accuracy: 0.8798\n",
            "Epoch 8/20\n",
            "422/422 [==============================] - 1s 3ms/step - loss: 0.6541 - accuracy: 0.8513 - val_loss: 0.5578 - val_accuracy: 0.8853\n",
            "Epoch 9/20\n",
            "422/422 [==============================] - 1s 3ms/step - loss: 0.6095 - accuracy: 0.8579 - val_loss: 0.5179 - val_accuracy: 0.8898\n",
            "Epoch 10/20\n",
            "422/422 [==============================] - 2s 4ms/step - loss: 0.5742 - accuracy: 0.8626 - val_loss: 0.4860 - val_accuracy: 0.8933\n",
            "Epoch 11/20\n",
            "422/422 [==============================] - 2s 4ms/step - loss: 0.5456 - accuracy: 0.8669 - val_loss: 0.4605 - val_accuracy: 0.8958\n",
            "Epoch 12/20\n",
            "422/422 [==============================] - 2s 4ms/step - loss: 0.5220 - accuracy: 0.8704 - val_loss: 0.4390 - val_accuracy: 0.8997\n",
            "Epoch 13/20\n",
            "422/422 [==============================] - 1s 3ms/step - loss: 0.5021 - accuracy: 0.8733 - val_loss: 0.4212 - val_accuracy: 0.9022\n",
            "Epoch 14/20\n",
            "422/422 [==============================] - 1s 3ms/step - loss: 0.4852 - accuracy: 0.8760 - val_loss: 0.4058 - val_accuracy: 0.9035\n",
            "Epoch 15/20\n",
            "422/422 [==============================] - 1s 3ms/step - loss: 0.4705 - accuracy: 0.8787 - val_loss: 0.3926 - val_accuracy: 0.9055\n",
            "Epoch 16/20\n",
            "422/422 [==============================] - 2s 4ms/step - loss: 0.4578 - accuracy: 0.8806 - val_loss: 0.3813 - val_accuracy: 0.9060\n",
            "Epoch 17/20\n",
            "422/422 [==============================] - 2s 4ms/step - loss: 0.4466 - accuracy: 0.8827 - val_loss: 0.3713 - val_accuracy: 0.9068\n",
            "Epoch 18/20\n",
            "422/422 [==============================] - 1s 3ms/step - loss: 0.4366 - accuracy: 0.8838 - val_loss: 0.3623 - val_accuracy: 0.9085\n",
            "Epoch 19/20\n",
            "422/422 [==============================] - 2s 4ms/step - loss: 0.4277 - accuracy: 0.8856 - val_loss: 0.3545 - val_accuracy: 0.9093\n",
            "Epoch 20/20\n",
            "422/422 [==============================] - 2s 5ms/step - loss: 0.4197 - accuracy: 0.8869 - val_loss: 0.3474 - val_accuracy: 0.9105\n"
          ]
        },
        {
          "output_type": "execute_result",
          "data": {
            "text/plain": [
              "<keras.src.callbacks.History at 0x7ff9b2586b60>"
            ]
          },
          "metadata": {},
          "execution_count": 10
        }
      ],
      "source": [
        "# History tracks the evolution of the metrics during learning\n",
        "history = tf.keras.callbacks.History()\n",
        "\n",
        "# Training procedure\n",
        "model.fit(\n",
        "    X_train, T_train, # training data\n",
        "    batch_size=128,  # batch size\n",
        "    epochs=20, # Maximum number of epochs\n",
        "    validation_split=0.1, # Perceptage of training data used for validation\n",
        "    callbacks=[history] # Track the metrics at the end of each epoch\n",
        ")"
      ]
    },
    {
      "cell_type": "markdown",
      "metadata": {
        "id": "_s590wmieGNO"
      },
      "source": [
        "The training has now run for 20 epochs on the training set. You see the evolution of loss function and accuracy for both the training and validation sets.\n",
        "\n",
        "To test your trained model on the test set, you can call `model.evaluate()`:"
      ]
    },
    {
      "cell_type": "code",
      "execution_count": 11,
      "metadata": {
        "colab": {
          "base_uri": "https://localhost:8080/"
        },
        "id": "6vVhwtrbeGNO",
        "outputId": "a06989cf-d034-41d0-cfcf-19b97402db11"
      },
      "outputs": [
        {
          "output_type": "stream",
          "name": "stdout",
          "text": [
            "Test loss: 0.3906192183494568\n",
            "Test accuracy: 0.8948000073432922\n"
          ]
        }
      ],
      "source": [
        "score = model.evaluate(X_test, T_test, verbose=0)\n",
        "\n",
        "print('Test loss:', score[0])\n",
        "print('Test accuracy:', score[1])"
      ]
    },
    {
      "cell_type": "markdown",
      "metadata": {
        "id": "XJhUN1xjeGNO"
      },
      "source": [
        "You can also use the `History()` object to visualize the evolution of the the training and validation accuracy during learning."
      ]
    },
    {
      "cell_type": "code",
      "execution_count": 12,
      "metadata": {
        "colab": {
          "base_uri": "https://localhost:8080/",
          "height": 542
        },
        "id": "dJEEsrNseGNO",
        "outputId": "9164c426-5cb9-4106-bdda-f04a439c0f7f"
      },
      "outputs": [
        {
          "output_type": "display_data",
          "data": {
            "text/plain": [
              "<Figure size 1500x600 with 2 Axes>"
            ],
            "image/png": "[encoded data removed]"
          },
          "metadata": {}
        }
      ],
      "source": [
        "plt.figure(figsize=(15, 6))\n",
        "\n",
        "plt.subplot(121)\n",
        "plt.plot(history.history['loss'], '-r', label=\"Training\")\n",
        "plt.plot(history.history['val_loss'], '-b', label=\"Validation\")\n",
        "plt.xlabel('Epoch #')\n",
        "plt.ylabel('Loss')\n",
        "plt.legend()\n",
        "\n",
        "plt.subplot(122)\n",
        "plt.plot(history.history['accuracy'], '-r', label=\"Training\")\n",
        "plt.plot(history.history['val_accuracy'], '-b', label=\"Validation\")\n",
        "plt.xlabel('Epoch #')\n",
        "plt.ylabel('Accuracy')\n",
        "plt.legend()\n",
        "\n",
        "plt.show()"
      ]
    },
    {
      "cell_type": "markdown",
      "source": [
        "# Assignments\n",
        "\n",
        "* Answer the following questions:\n",
        "* The deadline is December 12th. Please bring your solutions to class."
      ],
      "metadata": {
        "id": "kcg0WH1WhEai"
      }
    },
    {
      "cell_type": "markdown",
      "metadata": {
        "id": "kwFW-akSeGNP"
      },
      "source": [
        "**Q:** Did overfitting occur during learning? Why? Looking at the curves, does it make sense to continue learning for much more epochs?"
      ]
    },
    {
      "cell_type": "markdown",
      "source": [
        "Answer\n",
        "\n",
        "```\n",
        "- The overfitting did not seem to occur during learning because the training and validation loss are positively correlated as well as their accuracy.\n",
        "\n",
        "- By looking at the curves, it does not quite make sense to continue learning for more epochs because the curves has already reached its pleateu with 20 epochs.\n",
        "\n",
        "\n",
        "\n",
        "\n",
        "\n",
        "\n",
        "\n",
        "\n",
        "\n",
        "\n",
        "\n",
        "```\n"
      ],
      "metadata": {
        "id": "0zV7bEsPhTu7"
      }
    },
    {
      "cell_type": "markdown",
      "metadata": {
        "id": "6Oi842C4eGNP"
      },
      "source": [
        "The following cell makes predictions on the test set (`model.predict(X_test)`), computes the predicted classes by looking at the maximum probability for each example and displays some misclassified examples. The title of each subplot denotes the predicted class and the ground truth.\n",
        "\n",
        "**Q:** Are some mistakes understandable?"
      ]
    },
    {
      "cell_type": "code",
      "execution_count": 13,
      "metadata": {
        "colab": {
          "base_uri": "https://localhost:8080/",
          "height": 679
        },
        "id": "effmhUjSeGNP",
        "outputId": "804b7c0a-ee79-4563-84dc-71d9cb6486a1"
      },
      "outputs": [
        {
          "output_type": "stream",
          "name": "stdout",
          "text": [
            "313/313 [==============================] - 1s 2ms/step\n"
          ]
        },
        {
          "output_type": "display_data",
          "data": {
            "text/plain": [
              "<Figure size 1000x800 with 12 Axes>"
            ],
            "image/png": "[encoded data removed]"
          },
          "metadata": {}
        }
      ],
      "source": [
        "Y_test = model.predict(X_test)\n",
        "c_test = np.argmax(Y_test, axis=-1)\n",
        "\n",
        "misclassification = (c_test != t_test).nonzero()[0]\n",
        "\n",
        "plt.figure(figsize=(10, 8))\n",
        "for i in range(12):\n",
        "    plt.subplot(3, 4, i+1)\n",
        "    plt.imshow((X_test[misclassification[i], :] + X_mean).reshape((28, 28)), cmap=plt.cm.gray, interpolation='nearest')\n",
        "    plt.title('P = ' + str(c_test[misclassification[i]]) + ' ; T = ' + str(t_test[misclassification[i]]))\n",
        "    plt.xticks([]); plt.yticks([])\n",
        "plt.show()"
      ]
    },
    {
      "cell_type": "markdown",
      "source": [
        "Answer\n",
        "\n",
        "```\n",
        "Yes, Some mistakes are understandable because some digits really look like each other like 4 and 9 in the second to last plot. Also some digits have too much noise that is even hard for human to guess like in the last plot as well  as result in lowering the prediction ability of the machine.\n",
        "\n",
        "\n",
        "\n",
        "\n",
        "\n",
        "\n",
        "\n",
        "\n",
        "\n",
        "\n",
        "\n",
        "\n",
        "\n",
        "```\n"
      ],
      "metadata": {
        "id": "IEgGwoELhob1"
      }
    },
    {
      "cell_type": "markdown",
      "metadata": {
        "id": "JIJ5urpMeGNP"
      },
      "source": [
        "## Questions\n",
        "\n",
        "With the provided model, you probably obtained a final accuracy on the test set around 90%.  The state-of-the-art performance is 99.7%.\n",
        "\n",
        "The goal of this exercise is now to modify the network in order to obtain an accuracy of **98%** (or more) in 20 epochs only.\n",
        "\n",
        "You are free to use any improvement on the basic model, using the doc of Keras. Here are some suggestions:\n",
        "\n",
        "* Change the learning rate of SGD.\n",
        "\n",
        "* Change the number of neurons in the hidden layer.\n",
        "\n",
        "* Change the number of hidden layers (just stack another `Dense` layer in the model).\n",
        "\n",
        "**Beware:** you do not have weeks in front of you (the deadline is 12 December), so keep the complexity of your model in a reasonable range by doing the following:\n",
        "\n",
        "* Change the transfer function of the hidden neurons. See <https://keras.io/activations/> for the different possibilities in `keras`. Check in particular the Rectifier Linear Unit (ReLU).\n",
        "\n",
        "* Change the learning rule. Instead of the regular SGD, use for example the Nesterov Momentum method:\n",
        "\n",
        "```python\n",
        "optimizer = tf.keras.optimizers.SGD(lr=0.1, decay=1e-6, momentum=0.9, nesterov=True)\n",
        "```\n",
        "\n",
        "or the Adam learning rule:\n",
        "\n",
        "```python\n",
        "optimizer = tf.keras.optimizers.Adam(lr=0.01)\n",
        "```\n",
        "\n",
        "* Change the batch size. What impact does it have on training time?\n",
        "\n",
        "* Apply **L2- or L1-regularization** to the weight updates to avoid overfitting <https://keras.io/regularizers/>:\n",
        "\n",
        "```python\n",
        "model.add(tf.keras.layers.Dense(50, kernel_regularizer=tf.keras.regularizers.l2(0.0001)))\n",
        "```\n",
        "\n",
        "* Apply **dropout** regularization after each layer. Find a good level of dropout.\n",
        "\n",
        "```python\n",
        "model.add(tf.keras.layers.Dropout(0.5))\n",
        "```\n",
        "\n",
        "* Add **Batch normalization** between the fully-connected layer and the transfer function.\n",
        "\n",
        "```python\n",
        "model.add(tf.keras.layers.Dense(100)) # Weights\n",
        "model.add(tf.keras.layers.BatchNormalization()) # Batch normalization\n",
        "model.add(tf.keras.layers.Activation('relu')) # Transfer function\n",
        "```"
      ]
    },
    {
      "cell_type": "code",
      "source": [
        "#1\n",
        "\n",
        "# Clear previous models\n",
        "tf.keras.backend.clear_session()\n",
        "\n",
        "# Create a Sequential model\n",
        "model = tf.keras.models.Sequential()\n",
        "\n",
        "# Input layer\n",
        "model.add(tf.keras.layers.Input(shape=(784,)))\n",
        "\n",
        "# Add a Dense layer with 100 neurons and ReLU activation\n",
        "model.add(tf.keras.layers.Dense(130, kernel_regularizer=tf.keras.regularizers.l2(0.0001)))\n",
        "model.add(tf.keras.layers.BatchNormalization())\n",
        "model.add(tf.keras.layers.Activation('relu'))\n",
        "\n",
        "# Add Dropout\n",
        "model.add(tf.keras.layers.Dropout(0.5))\n",
        "\n",
        "# Add another Dense layer\n",
        "model.add(tf.keras.layers.Dense(130, kernel_regularizer=tf.keras.regularizers.l2(0.0001)))\n",
        "model.add(tf.keras.layers.BatchNormalization())\n",
        "model.add(tf.keras.layers.Activation('relu'))\n",
        "\n",
        "# Add Dropout\n",
        "model.add(tf.keras.layers.Dropout(0.5))\n",
        "\n",
        "# Output layer with softmax activation\n",
        "model.add(tf.keras.layers.Dense(10, activation='softmax'))\n",
        "\n",
        "# Use RMSprop optimizer\n",
        "optimizer = tf.keras.optimizers.RMSprop(lr=0.01)\n",
        "\n",
        "# Compile the model\n",
        "model.compile(\n",
        "    loss='categorical_crossentropy',\n",
        "    optimizer=optimizer,\n",
        "    metrics=['accuracy']\n",
        ")\n",
        "\n",
        "# Train the model\n",
        "history = model.fit(\n",
        "    X_train, T_train,\n",
        "    batch_size=128,\n",
        "    epochs=20,\n",
        "    validation_split=0.1\n",
        ")\n"
      ],
      "metadata": {
        "colab": {
          "base_uri": "https://localhost:8080/"
        },
        "id": "L3MJg5oLDdd_",
        "outputId": "1c325ab0-0681-4536-81e6-9d4988981764"
      },
      "execution_count": 39,
      "outputs": [
        {
          "output_type": "stream",
          "name": "stderr",
          "text": [
            "WARNING:absl:`lr` is deprecated in Keras optimizer, please use `learning_rate` or use the legacy optimizer, e.g.,tf.keras.optimizers.legacy.RMSprop.\n"
          ]
        },
        {
          "output_type": "stream",
          "name": "stdout",
          "text": [
            "Epoch 1/20\n",
            "422/422 [==============================] - 4s 6ms/step - loss: 0.6676 - accuracy: 0.8049 - val_loss: 0.2063 - val_accuracy: 0.9473\n",
            "Epoch 2/20\n",
            "422/422 [==============================] - 2s 5ms/step - loss: 0.3808 - accuracy: 0.8974 - val_loss: 0.1677 - val_accuracy: 0.9610\n",
            "Epoch 3/20\n",
            "422/422 [==============================] - 2s 5ms/step - loss: 0.3246 - accuracy: 0.9139 - val_loss: 0.1458 - val_accuracy: 0.9645\n",
            "Epoch 4/20\n",
            "422/422 [==============================] - 2s 5ms/step - loss: 0.2929 - accuracy: 0.9238 - val_loss: 0.1330 - val_accuracy: 0.9693\n",
            "Epoch 5/20\n",
            "422/422 [==============================] - 3s 6ms/step - loss: 0.2697 - accuracy: 0.9308 - val_loss: 0.1267 - val_accuracy: 0.9713\n",
            "Epoch 6/20\n",
            "422/422 [==============================] - 3s 6ms/step - loss: 0.2590 - accuracy: 0.9338 - val_loss: 0.1234 - val_accuracy: 0.9738\n",
            "Epoch 7/20\n",
            "422/422 [==============================] - 2s 5ms/step - loss: 0.2461 - accuracy: 0.9376 - val_loss: 0.1207 - val_accuracy: 0.9750\n",
            "Epoch 8/20\n",
            "422/422 [==============================] - 2s 5ms/step - loss: 0.2356 - accuracy: 0.9404 - val_loss: 0.1252 - val_accuracy: 0.9742\n",
            "Epoch 9/20\n",
            "422/422 [==============================] - 2s 5ms/step - loss: 0.2322 - accuracy: 0.9423 - val_loss: 0.1170 - val_accuracy: 0.9753\n",
            "Epoch 10/20\n",
            "422/422 [==============================] - 2s 5ms/step - loss: 0.2283 - accuracy: 0.9445 - val_loss: 0.1162 - val_accuracy: 0.9785\n",
            "Epoch 11/20\n",
            "422/422 [==============================] - 3s 7ms/step - loss: 0.2255 - accuracy: 0.9450 - val_loss: 0.1179 - val_accuracy: 0.9775\n",
            "Epoch 12/20\n",
            "422/422 [==============================] - 2s 6ms/step - loss: 0.2212 - accuracy: 0.9460 - val_loss: 0.1143 - val_accuracy: 0.9795\n",
            "Epoch 13/20\n",
            "422/422 [==============================] - 2s 5ms/step - loss: 0.2235 - accuracy: 0.9470 - val_loss: 0.1160 - val_accuracy: 0.9783\n",
            "Epoch 14/20\n",
            "422/422 [==============================] - 2s 5ms/step - loss: 0.2153 - accuracy: 0.9489 - val_loss: 0.1192 - val_accuracy: 0.9783\n",
            "Epoch 15/20\n",
            "422/422 [==============================] - 2s 5ms/step - loss: 0.2162 - accuracy: 0.9482 - val_loss: 0.1205 - val_accuracy: 0.9792\n",
            "Epoch 16/20\n",
            "422/422 [==============================] - 2s 5ms/step - loss: 0.2142 - accuracy: 0.9505 - val_loss: 0.1169 - val_accuracy: 0.9788\n",
            "Epoch 17/20\n",
            "422/422 [==============================] - 3s 7ms/step - loss: 0.2160 - accuracy: 0.9498 - val_loss: 0.1147 - val_accuracy: 0.9803\n",
            "Epoch 18/20\n",
            "422/422 [==============================] - 2s 5ms/step - loss: 0.2146 - accuracy: 0.9497 - val_loss: 0.1177 - val_accuracy: 0.9795\n",
            "Epoch 19/20\n",
            "422/422 [==============================] - 2s 5ms/step - loss: 0.2094 - accuracy: 0.9516 - val_loss: 0.1168 - val_accuracy: 0.9793\n",
            "Epoch 20/20\n",
            "422/422 [==============================] - 2s 5ms/step - loss: 0.2122 - accuracy: 0.9503 - val_loss: 0.1139 - val_accuracy: 0.9810\n"
          ]
        }
      ]
    },
    {
      "cell_type": "code",
      "source": [
        "# 2\n",
        "\n",
        "score = model.evaluate(X_test, T_test, verbose=0)\n",
        "\n",
        "print('Test loss:', score[0])\n",
        "print('Test accuracy:', score[1])"
      ],
      "metadata": {
        "colab": {
          "base_uri": "https://localhost:8080/"
        },
        "id": "2aN4DKq9D5jX",
        "outputId": "ca4f422f-12ef-498f-f7d0-dc2407c5a62d"
      },
      "execution_count": 40,
      "outputs": [
        {
          "output_type": "stream",
          "name": "stdout",
          "text": [
            "Test loss: 0.1291232407093048\n",
            "Test accuracy: 0.9761999845504761\n"
          ]
        }
      ]
    },
    {
      "cell_type": "code",
      "source": [
        "#3\n",
        "\n",
        "# plt.figure(figsize=(15, 6))\n",
        "\n",
        "plt.subplot(121)\n",
        "plt.plot(history.history['loss'], '-r', label=\"Training\")\n",
        "plt.plot(history.history['val_loss'], '-b', label=\"Validation\")\n",
        "plt.xlabel('Epoch #')\n",
        "plt.ylabel('Loss')\n",
        "plt.legend()\n",
        "\n",
        "plt.subplot(122)\n",
        "plt.plot(history.history['accuracy'], '-r', label=\"Training\")\n",
        "plt.plot(history.history['val_accuracy'], '-b', label=\"Validation\")\n",
        "plt.xlabel('Epoch #')\n",
        "plt.ylabel('Accuracy')\n",
        "plt.legend()\n",
        "\n",
        "plt.show()"
      ],
      "metadata": {
        "colab": {
          "base_uri": "https://localhost:8080/",
          "height": 449
        },
        "id": "q6RIn9RrD5mI",
        "outputId": "2f05d90d-badc-4d71-9a5d-5eb448116e92"
      },
      "execution_count": 41,
      "outputs": [
        {
          "output_type": "display_data",
          "data": {
            "text/plain": [
              "<Figure size 640x480 with 2 Axes>"
            ],
            "image/png": "[encoded data removed]"
          },
          "metadata": {}
        }
      ]
    },
    {
      "cell_type": "markdown",
      "source": [
        "Answer\n",
        "\n",
        "```\n",
        "\n",
        "\n",
        "added:\n",
        "# Add a Dense layer with 100 neurons and ReLU activation\n",
        "model.add(tf.keras.layers.Dense(130, kernel_regularizer=tf.keras.regularizers.l2(0.0001)))\n",
        "model.add(tf.keras.layers.BatchNormalization())\n",
        "model.add(tf.keras.layers.Activation('relu'))\n",
        "\n",
        "# Add Dropout\n",
        "model.add(tf.keras.layers.Dropout(0.5))\n",
        "\n",
        "# Add another Dense layer\n",
        "model.add(tf.keras.layers.Dense(130, kernel_regularizer=tf.keras.regularizers.l2(0.0001)))\n",
        "model.add(tf.keras.layers.BatchNormalization())\n",
        "model.add(tf.keras.layers.Activation('relu'))\n",
        "\n",
        "# Add Dropout\n",
        "model.add(tf.keras.layers.Dropout(0.5))\n",
        "\n",
        "\n",
        "\n",
        "\n",
        "\n",
        "\n",
        "\n",
        "\n",
        "\n",
        "```\n"
      ],
      "metadata": {
        "id": "b5t8XxVhhpuo"
      }
    }
  ],
  "metadata": {
    "kernelspec": {
      "display_name": "Python 3",
      "name": "python3"
    },
    "language_info": {
      "codemirror_mode": {
        "name": "ipython",
        "version": 3
      },
      "file_extension": ".py",
      "mimetype": "text/x-python",
      "name": "python",
      "nbconvert_exporter": "python",
      "pygments_lexer": "ipython3",
      "version": "3.8.6"
    },
    "colab": {
      "provenance": [],
      "gpuType": "T4"
    },
    "accelerator": "GPU"
  },
  "nbformat": 4,
  "nbformat_minor": 0
}