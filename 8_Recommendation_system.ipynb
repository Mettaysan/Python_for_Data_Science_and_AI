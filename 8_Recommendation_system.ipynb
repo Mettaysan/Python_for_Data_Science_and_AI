{
  "nbformat": 4,
  "nbformat_minor": 0,
  "metadata": {
    "colab": {
      "provenance": [],
      "toc_visible": true
    },
    "kernelspec": {
      "name": "python3",
      "display_name": "Python 3"
    },
    "language_info": {
      "name": "python"
    }
  },
  "cells": [
    {
      "cell_type": "markdown",
      "source": [
        "**AI-based recommendation system**\n",
        "\n",
        "Goals:\n",
        "\n",
        "Steps:\n",
        "\n",
        "---\n",
        "\n"
      ],
      "metadata": {
        "id": "aFAHCQilq8qs"
      }
    },
    {
      "cell_type": "markdown",
      "source": [
        "#**1. Import libraries**"
      ],
      "metadata": {
        "id": "OlJ0ztBBrrIo"
      }
    },
    {
      "cell_type": "code",
      "execution_count": 70,
      "metadata": {
        "colab": {
          "base_uri": "https://localhost:8080/"
        },
        "id": "SJ6gIqbyq5JI",
        "outputId": "7c455aaf-90c0-4c13-b2e8-892c65b959c6"
      },
      "outputs": [
        {
          "output_type": "stream",
          "name": "stdout",
          "text": [
            "Requirement already satisfied: openai==0.28 in /usr/local/lib/python3.10/dist-packages (0.28.0)\n",
            "Requirement already satisfied: requests>=2.20 in /usr/local/lib/python3.10/dist-packages (from openai==0.28) (2.31.0)\n",
            "Requirement already satisfied: tqdm in /usr/local/lib/python3.10/dist-packages (from openai==0.28) (4.66.1)\n",
            "Requirement already satisfied: aiohttp in /usr/local/lib/python3.10/dist-packages (from openai==0.28) (3.9.1)\n",
            "Requirement already satisfied: charset-normalizer<4,>=2 in /usr/local/lib/python3.10/dist-packages (from requests>=2.20->openai==0.28) (3.3.2)\n",
            "Requirement already satisfied: idna<4,>=2.5 in /usr/local/lib/python3.10/dist-packages (from requests>=2.20->openai==0.28) (3.6)\n",
            "Requirement already satisfied: urllib3<3,>=1.21.1 in /usr/local/lib/python3.10/dist-packages (from requests>=2.20->openai==0.28) (2.0.7)\n",
            "Requirement already satisfied: certifi>=2017.4.17 in /usr/local/lib/python3.10/dist-packages (from requests>=2.20->openai==0.28) (2023.11.17)\n",
            "Requirement already satisfied: attrs>=17.3.0 in /usr/local/lib/python3.10/dist-packages (from aiohttp->openai==0.28) (23.1.0)\n",
            "Requirement already satisfied: multidict<7.0,>=4.5 in /usr/local/lib/python3.10/dist-packages (from aiohttp->openai==0.28) (6.0.4)\n",
            "Requirement already satisfied: yarl<2.0,>=1.0 in /usr/local/lib/python3.10/dist-packages (from aiohttp->openai==0.28) (1.9.3)\n",
            "Requirement already satisfied: frozenlist>=1.1.1 in /usr/local/lib/python3.10/dist-packages (from aiohttp->openai==0.28) (1.4.0)\n",
            "Requirement already satisfied: aiosignal>=1.1.2 in /usr/local/lib/python3.10/dist-packages (from aiohttp->openai==0.28) (1.3.1)\n",
            "Requirement already satisfied: async-timeout<5.0,>=4.0 in /usr/local/lib/python3.10/dist-packages (from aiohttp->openai==0.28) (4.0.3)\n"
          ]
        }
      ],
      "source": [
        "!pip install openai==0.28"
      ]
    },
    {
      "cell_type": "code",
      "source": [
        "import openai\n",
        "import requests\n",
        "import pandas as pd\n",
        "import pprint"
      ],
      "metadata": {
        "id": "IgdbQ69rryh_"
      },
      "execution_count": 71,
      "outputs": []
    },
    {
      "cell_type": "code",
      "source": [
        "# load data\n",
        "openai.api_key = ''"
      ],
      "metadata": {
        "id": "MnBkTT5wrykQ"
      },
      "execution_count": 77,
      "outputs": []
    },
    {
      "cell_type": "markdown",
      "source": [
        "# **2. Create collectmovies function**"
      ],
      "metadata": {
        "id": "CVzKQEg4ttWn"
      }
    },
    {
      "cell_type": "markdown",
      "source": [
        "*From the previous work, we can put everything into function to make it easy to call as the following.*\n",
        "\n",
        "---\n",
        "\n"
      ],
      "metadata": {
        "id": "nKJE4DaF1r6o"
      }
    },
    {
      "cell_type": "code",
      "source": [
        "# create a function that collect movies\n",
        "def collectmovies(params):\n",
        "    # construct URL\n",
        "    url = \"https://api.themoviedb.org/3/discover/movie?\" + \"&\".join([f\"{key}={value}\" for key, value in params.items()])\n",
        "    headers = {\n",
        "        \"accept\": \"application/json\",\n",
        "        \"Authorization\": \"Bearer \"\n",
        "        }\n",
        "    response = requests.get(url, headers=headers)\n",
        "\n",
        "    # check if the request was successful (it will show status code 200)\n",
        "    if response.status_code == 200:\n",
        "        # parse the json response\n",
        "        data = response.json()\n",
        "\n",
        "        # extract the list of movies from the response\n",
        "        movies = data.get('results', [])\n",
        "\n",
        "        # create a dataframe\n",
        "        df = pd.DataFrame(movies)\n",
        "    else:\n",
        "        print('Error fetching data. Status code:', response.status_code)\n",
        "\n",
        "    # if everything works, it will proceed to the next step\n",
        "\n",
        "    # map the genre to its ID\n",
        "    df.drop(columns=[\"backdrop_path\",\"id\",\"poster_path\",\"title\",\"video\",\"adult\",\"original_language\"], inplace=True)\n",
        "    urls = \"https://api.themoviedb.org/3/genre/movie/list?language=en\"\n",
        "    response = requests.get(urls, headers=headers)\n",
        "    genres_data = response.json()\n",
        "    genre_map = {genre[\"id\"]: genre[\"name\"] for genre in genres_data.get(\"genres\", [])}\n",
        "    df[\"genre_names\"] = df[\"genre_ids\"].apply(lambda ids: [genre_map[id] for id in ids])\n",
        "    df.drop(columns=[\"genre_ids\"], inplace=True)\n",
        "    return df"
      ],
      "metadata": {
        "id": "ZgP2s48o133A"
      },
      "execution_count": 73,
      "outputs": []
    },
    {
      "cell_type": "markdown",
      "source": [
        "# **3. Create movie_list function**"
      ],
      "metadata": {
        "id": "TsNoL1zey0Hd"
      }
    },
    {
      "cell_type": "code",
      "source": [
        "def movie_list(df, genre):\n",
        "    filtered_list = df[df['genre_names'].apply(lambda x: genre in x)]\n",
        "\n",
        "    if not filtered_list.empty:\n",
        "        sorted_df = filtered_list.sort_values(by='vote_average', ascending=False)\n",
        "        recommendations = [f\"{row['original_title']} - {row['vote_average']} - {row['release_date']}\" for index, row in sorted_df.iterrows()]\n",
        "        return recommendations\n",
        "    else:\n",
        "        print(f\"No movies of genre {genre} found in the list, but the AI can recommend something else.\")\n",
        "        sorted_df = df.sort_values(by='vote_average', ascending=False)\n",
        "        return sorted_df[['original_title', 'vote_average', 'release_date']]"
      ],
      "metadata": {
        "id": "3QDX3NGZ3las"
      },
      "execution_count": 74,
      "outputs": []
    },
    {
      "cell_type": "markdown",
      "source": [
        "# **4. Create userinfo function**"
      ],
      "metadata": {
        "id": "3X8-aOFv4IrC"
      }
    },
    {
      "cell_type": "code",
      "source": [
        "def userinfo():\n",
        "    year = 2020\n",
        "    region = 'fr'\n",
        "    without_genres = 'Drama'\n",
        "    language = 'fr'\n",
        "\n",
        "    name = input('Your name: ')\n",
        "    age = float(input('Your age: '))\n",
        "    movietype = input('Your movie type: ')\n",
        "    typeperson = input('Your personality: ')\n",
        "\n",
        "    params = {\n",
        "        \"region\": region,\n",
        "        \"without_genres\": without_genres,\n",
        "        \"language\": language,\n",
        "        \"year\": year,\n",
        "        \"page\": 10,\n",
        "        \"sort_by\": \"popularity.desc\",\n",
        "        \"name\": name,\n",
        "        \"age\": age,\n",
        "        \"movietype\": movietype,\n",
        "        \"typeperson\": typeperson\n",
        "    }\n",
        "\n",
        "    return params"
      ],
      "metadata": {
        "id": "rHgdzTmD4IJD"
      },
      "execution_count": 75,
      "outputs": []
    },
    {
      "cell_type": "markdown",
      "source": [
        "# **5. Call functions**"
      ],
      "metadata": {
        "id": "HRq3a-iU6Kw1"
      }
    },
    {
      "cell_type": "code",
      "source": [
        "!pip install tiktoken\n",
        "!pip install cohere\n",
        "!pip install --upgrade openai"
      ],
      "metadata": {
        "colab": {
          "base_uri": "https://localhost:8080/"
        },
        "id": "W_cii5l8_HtO",
        "outputId": "f6311d74-a065-4598-ebf7-66a1f9738b83"
      },
      "execution_count": 82,
      "outputs": [
        {
          "output_type": "stream",
          "name": "stdout",
          "text": [
            "Requirement already satisfied: tiktoken in /usr/local/lib/python3.10/dist-packages (0.5.2)\n",
            "Requirement already satisfied: regex>=2022.1.18 in /usr/local/lib/python3.10/dist-packages (from tiktoken) (2023.6.3)\n",
            "Requirement already satisfied: requests>=2.26.0 in /usr/local/lib/python3.10/dist-packages (from tiktoken) (2.31.0)\n",
            "Requirement already satisfied: charset-normalizer<4,>=2 in /usr/local/lib/python3.10/dist-packages (from requests>=2.26.0->tiktoken) (3.3.2)\n",
            "Requirement already satisfied: idna<4,>=2.5 in /usr/local/lib/python3.10/dist-packages (from requests>=2.26.0->tiktoken) (3.6)\n",
            "Requirement already satisfied: urllib3<3,>=1.21.1 in /usr/local/lib/python3.10/dist-packages (from requests>=2.26.0->tiktoken) (2.0.7)\n",
            "Requirement already satisfied: certifi>=2017.4.17 in /usr/local/lib/python3.10/dist-packages (from requests>=2.26.0->tiktoken) (2023.11.17)\n",
            "Requirement already satisfied: cohere in /usr/local/lib/python3.10/dist-packages (4.37)\n",
            "Requirement already satisfied: aiohttp<4.0,>=3.0 in /usr/local/lib/python3.10/dist-packages (from cohere) (3.9.1)\n",
            "Requirement already satisfied: backoff<3.0,>=2.0 in /usr/local/lib/python3.10/dist-packages (from cohere) (2.2.1)\n",
            "Requirement already satisfied: fastavro<2.0,>=1.8 in /usr/local/lib/python3.10/dist-packages (from cohere) (1.9.0)\n",
            "Requirement already satisfied: importlib_metadata<7.0,>=6.0 in /usr/local/lib/python3.10/dist-packages (from cohere) (6.8.0)\n",
            "Requirement already satisfied: requests<3.0.0,>=2.25.0 in /usr/local/lib/python3.10/dist-packages (from cohere) (2.31.0)\n",
            "Requirement already satisfied: urllib3<3,>=1.26 in /usr/local/lib/python3.10/dist-packages (from cohere) (2.0.7)\n",
            "Requirement already satisfied: attrs>=17.3.0 in /usr/local/lib/python3.10/dist-packages (from aiohttp<4.0,>=3.0->cohere) (23.1.0)\n",
            "Requirement already satisfied: multidict<7.0,>=4.5 in /usr/local/lib/python3.10/dist-packages (from aiohttp<4.0,>=3.0->cohere) (6.0.4)\n",
            "Requirement already satisfied: yarl<2.0,>=1.0 in /usr/local/lib/python3.10/dist-packages (from aiohttp<4.0,>=3.0->cohere) (1.9.3)\n",
            "Requirement already satisfied: frozenlist>=1.1.1 in /usr/local/lib/python3.10/dist-packages (from aiohttp<4.0,>=3.0->cohere) (1.4.0)\n",
            "Requirement already satisfied: aiosignal>=1.1.2 in /usr/local/lib/python3.10/dist-packages (from aiohttp<4.0,>=3.0->cohere) (1.3.1)\n",
            "Requirement already satisfied: async-timeout<5.0,>=4.0 in /usr/local/lib/python3.10/dist-packages (from aiohttp<4.0,>=3.0->cohere) (4.0.3)\n",
            "Requirement already satisfied: zipp>=0.5 in /usr/local/lib/python3.10/dist-packages (from importlib_metadata<7.0,>=6.0->cohere) (3.17.0)\n",
            "Requirement already satisfied: charset-normalizer<4,>=2 in /usr/local/lib/python3.10/dist-packages (from requests<3.0.0,>=2.25.0->cohere) (3.3.2)\n",
            "Requirement already satisfied: idna<4,>=2.5 in /usr/local/lib/python3.10/dist-packages (from requests<3.0.0,>=2.25.0->cohere) (3.6)\n",
            "Requirement already satisfied: certifi>=2017.4.17 in /usr/local/lib/python3.10/dist-packages (from requests<3.0.0,>=2.25.0->cohere) (2023.11.17)\n",
            "Requirement already satisfied: openai in /usr/local/lib/python3.10/dist-packages (1.3.7)\n",
            "Requirement already satisfied: anyio<4,>=3.5.0 in /usr/local/lib/python3.10/dist-packages (from openai) (3.7.1)\n",
            "Requirement already satisfied: distro<2,>=1.7.0 in /usr/lib/python3/dist-packages (from openai) (1.7.0)\n",
            "Requirement already satisfied: httpx<1,>=0.23.0 in /usr/local/lib/python3.10/dist-packages (from openai) (0.25.2)\n",
            "Requirement already satisfied: pydantic<3,>=1.9.0 in /usr/local/lib/python3.10/dist-packages (from openai) (1.10.13)\n",
            "Requirement already satisfied: sniffio in /usr/local/lib/python3.10/dist-packages (from openai) (1.3.0)\n",
            "Requirement already satisfied: tqdm>4 in /usr/local/lib/python3.10/dist-packages (from openai) (4.66.1)\n",
            "Requirement already satisfied: typing-extensions<5,>=4.5 in /usr/local/lib/python3.10/dist-packages (from openai) (4.5.0)\n",
            "Requirement already satisfied: idna>=2.8 in /usr/local/lib/python3.10/dist-packages (from anyio<4,>=3.5.0->openai) (3.6)\n",
            "Requirement already satisfied: exceptiongroup in /usr/local/lib/python3.10/dist-packages (from anyio<4,>=3.5.0->openai) (1.2.0)\n",
            "Requirement already satisfied: certifi in /usr/local/lib/python3.10/dist-packages (from httpx<1,>=0.23.0->openai) (2023.11.17)\n",
            "Requirement already satisfied: httpcore==1.* in /usr/local/lib/python3.10/dist-packages (from httpx<1,>=0.23.0->openai) (1.0.2)\n",
            "Requirement already satisfied: h11<0.15,>=0.13 in /usr/local/lib/python3.10/dist-packages (from httpcore==1.*->httpx<1,>=0.23.0->openai) (0.14.0)\n"
          ]
        }
      ]
    },
    {
      "cell_type": "code",
      "source": [
        "# call functions\n",
        "params = userinfo()\n",
        "df = collectmovies(params)\n",
        "\n",
        "print(f\"-----------------------AI recommendation-----------------------\")\n",
        "print(f\"-----------------------AI recommendation-----------------------\")\n",
        "print(f\"-----------------------AI recommendation-----------------------\")\n",
        "print(f\"-----------------------AI recommendation-----------------------\")\n",
        "print(f\"-----------------------AI recommendation-----------------------\")\n",
        "\n",
        "movie_recommendations=movie_list(df, params[\"movietype\"])\n",
        "\n",
        "prompt = f\"Recommend a good  movie for {params['name']}, his age is {params['age']}, he is {params['typeperson']}, from this list: {movie_recommendations}\"\n",
        "response = openai.Completion.create(model=\"text-davinci-003\", prompt=prompt, max_tokens=30)\n",
        "ai_pick = response.choices[0].text.strip()\n",
        "\n",
        "print(f\"AI recommendation: {ai_pick}\")"
      ],
      "metadata": {
        "colab": {
          "base_uri": "https://localhost:8080/",
          "height": 661
        },
        "id": "RlC85WjL3ldk",
        "outputId": "73f6e0df-d7dd-4ac2-dddc-d7bf7a845277"
      },
      "execution_count": 84,
      "outputs": [
        {
          "output_type": "stream",
          "name": "stdout",
          "text": [
            "Your name: Tam\n",
            "Your age: 23\n",
            "Your movie type: Adventure\n",
            "Your personality: easy going\n",
            "-----------------------AI recommendation-----------------------\n",
            "-----------------------AI recommendation-----------------------\n",
            "-----------------------AI recommendation-----------------------\n",
            "-----------------------AI recommendation-----------------------\n",
            "-----------------------AI recommendation-----------------------\n"
          ]
        },
        {
          "output_type": "error",
          "ename": "APIRemovedInV1",
          "evalue": "ignored",
          "traceback": [
            "\u001b[0;31m---------------------------------------------------------------------------\u001b[0m",
            "\u001b[0;31mAPIRemovedInV1\u001b[0m                            Traceback (most recent call last)",
            "\u001b[0;32m<ipython-input-84-c6b0c6e2133c>\u001b[0m in \u001b[0;36m<cell line: 14>\u001b[0;34m()\u001b[0m\n\u001b[1;32m     12\u001b[0m \u001b[0;34m\u001b[0m\u001b[0m\n\u001b[1;32m     13\u001b[0m \u001b[0mprompt\u001b[0m \u001b[0;34m=\u001b[0m \u001b[0;34mf\"Recommend a good  movie for {params['name']}, his age is {params['age']}, he is {params['typeperson']}, from this list: {movie_recommendations}\"\u001b[0m\u001b[0;34m\u001b[0m\u001b[0;34m\u001b[0m\u001b[0m\n\u001b[0;32m---> 14\u001b[0;31m \u001b[0mresponse\u001b[0m \u001b[0;34m=\u001b[0m \u001b[0mopenai\u001b[0m\u001b[0;34m.\u001b[0m\u001b[0mCompletion\u001b[0m\u001b[0;34m.\u001b[0m\u001b[0mcreate\u001b[0m\u001b[0;34m(\u001b[0m\u001b[0mmodel\u001b[0m\u001b[0;34m=\u001b[0m\u001b[0;34m\"text-davinci-003\"\u001b[0m\u001b[0;34m,\u001b[0m \u001b[0mprompt\u001b[0m\u001b[0;34m=\u001b[0m\u001b[0mprompt\u001b[0m\u001b[0;34m,\u001b[0m \u001b[0mmax_tokens\u001b[0m\u001b[0;34m=\u001b[0m\u001b[0;36m30\u001b[0m\u001b[0;34m)\u001b[0m\u001b[0;34m\u001b[0m\u001b[0;34m\u001b[0m\u001b[0m\n\u001b[0m\u001b[1;32m     15\u001b[0m \u001b[0mai_pick\u001b[0m \u001b[0;34m=\u001b[0m \u001b[0mresponse\u001b[0m\u001b[0;34m.\u001b[0m\u001b[0mchoices\u001b[0m\u001b[0;34m[\u001b[0m\u001b[0;36m0\u001b[0m\u001b[0;34m]\u001b[0m\u001b[0;34m.\u001b[0m\u001b[0mtext\u001b[0m\u001b[0;34m.\u001b[0m\u001b[0mstrip\u001b[0m\u001b[0;34m(\u001b[0m\u001b[0;34m)\u001b[0m\u001b[0;34m\u001b[0m\u001b[0;34m\u001b[0m\u001b[0m\n\u001b[1;32m     16\u001b[0m \u001b[0;34m\u001b[0m\u001b[0m\n",
            "\u001b[0;32m/usr/local/lib/python3.10/dist-packages/openai/lib/_old_api.py\u001b[0m in \u001b[0;36m__call__\u001b[0;34m(self, *_args, **_kwargs)\u001b[0m\n\u001b[1;32m     37\u001b[0m \u001b[0;34m\u001b[0m\u001b[0m\n\u001b[1;32m     38\u001b[0m     \u001b[0;32mdef\u001b[0m \u001b[0m__call__\u001b[0m\u001b[0;34m(\u001b[0m\u001b[0mself\u001b[0m\u001b[0;34m,\u001b[0m \u001b[0;34m*\u001b[0m\u001b[0m_args\u001b[0m\u001b[0;34m:\u001b[0m \u001b[0mAny\u001b[0m\u001b[0;34m,\u001b[0m \u001b[0;34m**\u001b[0m\u001b[0m_kwargs\u001b[0m\u001b[0;34m:\u001b[0m \u001b[0mAny\u001b[0m\u001b[0;34m)\u001b[0m \u001b[0;34m->\u001b[0m \u001b[0mAny\u001b[0m\u001b[0;34m:\u001b[0m\u001b[0;34m\u001b[0m\u001b[0;34m\u001b[0m\u001b[0m\n\u001b[0;32m---> 39\u001b[0;31m         \u001b[0;32mraise\u001b[0m \u001b[0mAPIRemovedInV1\u001b[0m\u001b[0;34m(\u001b[0m\u001b[0msymbol\u001b[0m\u001b[0;34m=\u001b[0m\u001b[0mself\u001b[0m\u001b[0;34m.\u001b[0m\u001b[0m_symbol\u001b[0m\u001b[0;34m)\u001b[0m\u001b[0;34m\u001b[0m\u001b[0;34m\u001b[0m\u001b[0m\n\u001b[0m\u001b[1;32m     40\u001b[0m \u001b[0;34m\u001b[0m\u001b[0m\n\u001b[1;32m     41\u001b[0m \u001b[0;34m\u001b[0m\u001b[0m\n",
            "\u001b[0;31mAPIRemovedInV1\u001b[0m: \n\nYou tried to access openai.Completion, but this is no longer supported in openai>=1.0.0 - see the README at https://github.com/openai/openai-python for the API.\n\nYou can run `openai migrate` to automatically upgrade your codebase to use the 1.0.0 interface. \n\nAlternatively, you can pin your installation to the old version, e.g. `pip install openai==0.28`\n\nA detailed migration guide is available here: https://github.com/openai/openai-python/discussions/742\n"
          ]
        }
      ]
    }
  ]
}